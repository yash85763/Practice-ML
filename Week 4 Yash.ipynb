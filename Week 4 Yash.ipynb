{
 "cells": [
  {
   "cell_type": "code",
   "execution_count": 194,
   "id": "ed2d22d2",
   "metadata": {},
   "outputs": [],
   "source": [
    "import pandas as pd\n",
    "import numpy as np\n",
    "import seaborn as sns\n",
    "import matplotlib.pyplot as plt\n",
    "%matplotlib inline\n",
    "from sklearn.model_selection import train_test_split\n",
    "from sklearn.linear_model import LinearRegression\n",
    "from sklearn.tree import DecisionTreeClassifier\n",
    "from sklearn.tree import DecisionTreeRegressor\n",
    "from sklearn.ensemble import RandomForestRegressor\n",
    "from sklearn.metrics import explained_variance_score\n",
    "from sklearn.metrics import confusion_matrix\n",
    "from sklearn import tree\n",
    "from sklearn import metrics\n",
    "from sklearn.metrics import classification_report, accuracy_score"
   ]
  },
  {
   "cell_type": "code",
   "execution_count": 207,
   "id": "433ebe6f",
   "metadata": {},
   "outputs": [],
   "source": [
    "housing = pd.read_csv('Nashville_housing_data_2013_2016.csv')"
   ]
  },
  {
   "cell_type": "code",
   "execution_count": 208,
   "id": "3504d052",
   "metadata": {},
   "outputs": [
    {
     "name": "stdout",
     "output_type": "stream",
     "text": [
      "<class 'pandas.core.frame.DataFrame'>\n",
      "RangeIndex: 56636 entries, 0 to 56635\n",
      "Data columns (total 31 columns):\n",
      " #   Column                             Non-Null Count  Dtype  \n",
      "---  ------                             --------------  -----  \n",
      " 0   Unnamed: 0                         56636 non-null  int64  \n",
      " 1   Unnamed: 0.1                       56636 non-null  int64  \n",
      " 2   Parcel ID                          56636 non-null  object \n",
      " 3   Land Use                           56636 non-null  object \n",
      " 4   Property Address                   56477 non-null  object \n",
      " 5   Suite/ Condo   #                   6109 non-null   object \n",
      " 6   Property City                      56477 non-null  object \n",
      " 7   Sale Date                          56636 non-null  object \n",
      " 8   Sale Price                         56636 non-null  int64  \n",
      " 9   Legal Reference                    56636 non-null  object \n",
      " 10  Sold As Vacant                     56636 non-null  object \n",
      " 11  Multiple Parcels Involved in Sale  56636 non-null  object \n",
      " 12  Owner Name                         25261 non-null  object \n",
      " 13  Address                            26017 non-null  object \n",
      " 14  City                               26017 non-null  object \n",
      " 15  State                              26017 non-null  object \n",
      " 16  Acreage                            26017 non-null  float64\n",
      " 17  Tax District                       26017 non-null  object \n",
      " 18  Neighborhood                       26017 non-null  float64\n",
      " 19  image                              25335 non-null  object \n",
      " 20  Land Value                         26017 non-null  float64\n",
      " 21  Building Value                     26017 non-null  float64\n",
      " 22  Total Value                        26017 non-null  float64\n",
      " 23  Finished Area                      24166 non-null  float64\n",
      " 24  Foundation Type                    24164 non-null  object \n",
      " 25  Year Built                         24165 non-null  float64\n",
      " 26  Exterior Wall                      24165 non-null  object \n",
      " 27  Grade                              24165 non-null  object \n",
      " 28  Bedrooms                           24159 non-null  float64\n",
      " 29  Full Bath                          24277 non-null  float64\n",
      " 30  Half Bath                          24146 non-null  float64\n",
      "dtypes: float64(10), int64(3), object(18)\n",
      "memory usage: 13.4+ MB\n"
     ]
    }
   ],
   "source": [
    "housing.info()"
   ]
  },
  {
   "cell_type": "code",
   "execution_count": 209,
   "id": "1184399c",
   "metadata": {},
   "outputs": [],
   "source": [
    "housing['Address'] = housing['Address'].fillna(housing['Property Address'])"
   ]
  },
  {
   "cell_type": "code",
   "execution_count": 210,
   "id": "b4433908",
   "metadata": {},
   "outputs": [
    {
     "data": {
      "text/plain": [
       "Index(['Unnamed: 0', 'Unnamed: 0.1', 'Parcel ID', 'Land Use',\n",
       "       'Property Address', 'Suite/ Condo   #', 'Property City', 'Sale Date',\n",
       "       'Sale Price', 'Legal Reference', 'Sold As Vacant',\n",
       "       'Multiple Parcels Involved in Sale', 'Owner Name', 'Address', 'City',\n",
       "       'State', 'Acreage', 'Tax District', 'Neighborhood', 'image',\n",
       "       'Land Value', 'Building Value', 'Total Value', 'Finished Area',\n",
       "       'Foundation Type', 'Year Built', 'Exterior Wall', 'Grade', 'Bedrooms',\n",
       "       'Full Bath', 'Half Bath'],\n",
       "      dtype='object')"
      ]
     },
     "execution_count": 210,
     "metadata": {},
     "output_type": "execute_result"
    }
   ],
   "source": [
    "housing.columns"
   ]
  },
  {
   "cell_type": "code",
   "execution_count": 211,
   "id": "30bc5232",
   "metadata": {},
   "outputs": [],
   "source": [
    "df2=housing.dropna(subset=['Owner Name', 'Address', 'City',\n",
    "       'State', 'Acreage', 'Tax District', 'Neighborhood', 'image',\n",
    "       'Land Value', 'Building Value', 'Total Value', 'Finished Area',\n",
    "       'Foundation Type', 'Year Built', 'Exterior Wall', 'Grade', 'Bedrooms',\n",
    "       'Full Bath', 'Half Bath'])"
   ]
  },
  {
   "cell_type": "code",
   "execution_count": 212,
   "id": "fef74a6a",
   "metadata": {},
   "outputs": [
    {
     "name": "stdout",
     "output_type": "stream",
     "text": [
      "<class 'pandas.core.frame.DataFrame'>\n",
      "Int64Index: 23721 entries, 1 to 56615\n",
      "Data columns (total 31 columns):\n",
      " #   Column                             Non-Null Count  Dtype  \n",
      "---  ------                             --------------  -----  \n",
      " 0   Unnamed: 0                         23721 non-null  int64  \n",
      " 1   Unnamed: 0.1                       23721 non-null  int64  \n",
      " 2   Parcel ID                          23721 non-null  object \n",
      " 3   Land Use                           23721 non-null  object \n",
      " 4   Property Address                   23721 non-null  object \n",
      " 5   Suite/ Condo   #                   2 non-null      object \n",
      " 6   Property City                      23721 non-null  object \n",
      " 7   Sale Date                          23721 non-null  object \n",
      " 8   Sale Price                         23721 non-null  int64  \n",
      " 9   Legal Reference                    23721 non-null  object \n",
      " 10  Sold As Vacant                     23721 non-null  object \n",
      " 11  Multiple Parcels Involved in Sale  23721 non-null  object \n",
      " 12  Owner Name                         23721 non-null  object \n",
      " 13  Address                            23721 non-null  object \n",
      " 14  City                               23721 non-null  object \n",
      " 15  State                              23721 non-null  object \n",
      " 16  Acreage                            23721 non-null  float64\n",
      " 17  Tax District                       23721 non-null  object \n",
      " 18  Neighborhood                       23721 non-null  float64\n",
      " 19  image                              23721 non-null  object \n",
      " 20  Land Value                         23721 non-null  float64\n",
      " 21  Building Value                     23721 non-null  float64\n",
      " 22  Total Value                        23721 non-null  float64\n",
      " 23  Finished Area                      23721 non-null  float64\n",
      " 24  Foundation Type                    23721 non-null  object \n",
      " 25  Year Built                         23721 non-null  float64\n",
      " 26  Exterior Wall                      23721 non-null  object \n",
      " 27  Grade                              23721 non-null  object \n",
      " 28  Bedrooms                           23721 non-null  float64\n",
      " 29  Full Bath                          23721 non-null  float64\n",
      " 30  Half Bath                          23721 non-null  float64\n",
      "dtypes: float64(10), int64(3), object(18)\n",
      "memory usage: 5.8+ MB\n"
     ]
    }
   ],
   "source": [
    "df2.info()"
   ]
  },
  {
   "cell_type": "code",
   "execution_count": 213,
   "id": "34fdaec3",
   "metadata": {},
   "outputs": [],
   "source": [
    "df2.drop('Suite/ Condo   #', axis=1, inplace=True)\n",
    "df2.drop('Unnamed: 0', axis=1, inplace=True)\n",
    "df2.drop('Unnamed: 0.1', axis=1, inplace=True)"
   ]
  },
  {
   "cell_type": "code",
   "execution_count": 214,
   "id": "a8fec20a",
   "metadata": {},
   "outputs": [
    {
     "name": "stdout",
     "output_type": "stream",
     "text": [
      "<class 'pandas.core.frame.DataFrame'>\n",
      "Int64Index: 23721 entries, 1 to 56615\n",
      "Data columns (total 28 columns):\n",
      " #   Column                             Non-Null Count  Dtype  \n",
      "---  ------                             --------------  -----  \n",
      " 0   Parcel ID                          23721 non-null  object \n",
      " 1   Land Use                           23721 non-null  object \n",
      " 2   Property Address                   23721 non-null  object \n",
      " 3   Property City                      23721 non-null  object \n",
      " 4   Sale Date                          23721 non-null  object \n",
      " 5   Sale Price                         23721 non-null  int64  \n",
      " 6   Legal Reference                    23721 non-null  object \n",
      " 7   Sold As Vacant                     23721 non-null  object \n",
      " 8   Multiple Parcels Involved in Sale  23721 non-null  object \n",
      " 9   Owner Name                         23721 non-null  object \n",
      " 10  Address                            23721 non-null  object \n",
      " 11  City                               23721 non-null  object \n",
      " 12  State                              23721 non-null  object \n",
      " 13  Acreage                            23721 non-null  float64\n",
      " 14  Tax District                       23721 non-null  object \n",
      " 15  Neighborhood                       23721 non-null  float64\n",
      " 16  image                              23721 non-null  object \n",
      " 17  Land Value                         23721 non-null  float64\n",
      " 18  Building Value                     23721 non-null  float64\n",
      " 19  Total Value                        23721 non-null  float64\n",
      " 20  Finished Area                      23721 non-null  float64\n",
      " 21  Foundation Type                    23721 non-null  object \n",
      " 22  Year Built                         23721 non-null  float64\n",
      " 23  Exterior Wall                      23721 non-null  object \n",
      " 24  Grade                              23721 non-null  object \n",
      " 25  Bedrooms                           23721 non-null  float64\n",
      " 26  Full Bath                          23721 non-null  float64\n",
      " 27  Half Bath                          23721 non-null  float64\n",
      "dtypes: float64(10), int64(1), object(17)\n",
      "memory usage: 5.2+ MB\n"
     ]
    }
   ],
   "source": [
    "df2.info()"
   ]
  },
  {
   "cell_type": "code",
   "execution_count": 215,
   "id": "20b010ec",
   "metadata": {},
   "outputs": [
    {
     "data": {
      "text/plain": [
       "(23721, 28)"
      ]
     },
     "execution_count": 215,
     "metadata": {},
     "output_type": "execute_result"
    }
   ],
   "source": [
    "df2.shape"
   ]
  },
  {
   "cell_type": "code",
   "execution_count": 216,
   "id": "2e77639b",
   "metadata": {},
   "outputs": [
    {
     "name": "stdout",
     "output_type": "stream",
     "text": [
      "Parcel ID : 20493\n",
      "Land Use : 26\n",
      "Property Address : 21279\n",
      "Property City : 10\n",
      "Sale Date : 1048\n",
      "Sale Price : 3760\n",
      "Legal Reference : 23447\n",
      "Sold As Vacant : 2\n",
      "Multiple Parcels Involved in Sale : 2\n",
      "Owner Name : 19069\n",
      "Address : 20490\n",
      "City : 10\n",
      "State : 1\n",
      "Acreage : 427\n",
      "Tax District : 7\n",
      "Neighborhood : 190\n",
      "image : 20493\n",
      "Land Value : 934\n",
      "Building Value : 4367\n",
      "Total Value : 5589\n",
      "Finished Area : 6064\n",
      "Foundation Type : 6\n",
      "Year Built : 126\n",
      "Exterior Wall : 10\n",
      "Grade : 17\n",
      "Bedrooms : 12\n",
      "Full Bath : 11\n",
      "Half Bath : 4\n"
     ]
    }
   ],
   "source": [
    "# to check the number of unique values in every columns\n",
    "for n in df2.columns:\n",
    "    print( n, ':', df2[n].nunique() )"
   ]
  },
  {
   "cell_type": "code",
   "execution_count": 217,
   "id": "7e2a8c36",
   "metadata": {},
   "outputs": [],
   "source": [
    "#removing columns which have large number of unique values also removing some unimportant columns like state and city.\n",
    "df3 = df2.drop(columns = ['Parcel ID', 'Property Address', 'Legal Reference', 'Owner Name', 'Address', 'image','State', 'City' ])"
   ]
  },
  {
   "cell_type": "code",
   "execution_count": 218,
   "id": "13c45fbd",
   "metadata": {},
   "outputs": [
    {
     "data": {
      "text/plain": [
       "Land Use                             0\n",
       "Property City                        0\n",
       "Sale Date                            0\n",
       "Sale Price                           0\n",
       "Sold As Vacant                       0\n",
       "Multiple Parcels Involved in Sale    0\n",
       "Acreage                              0\n",
       "Tax District                         0\n",
       "Neighborhood                         0\n",
       "Land Value                           0\n",
       "Building Value                       0\n",
       "Total Value                          0\n",
       "Finished Area                        0\n",
       "Foundation Type                      0\n",
       "Year Built                           0\n",
       "Exterior Wall                        0\n",
       "Grade                                0\n",
       "Bedrooms                             0\n",
       "Full Bath                            0\n",
       "Half Bath                            0\n",
       "dtype: int64"
      ]
     },
     "execution_count": 218,
     "metadata": {},
     "output_type": "execute_result"
    }
   ],
   "source": [
    "df3.isnull().sum()"
   ]
  },
  {
   "cell_type": "code",
   "execution_count": 219,
   "id": "05f63407",
   "metadata": {},
   "outputs": [
    {
     "data": {
      "text/html": [
       "<div>\n",
       "<style scoped>\n",
       "    .dataframe tbody tr th:only-of-type {\n",
       "        vertical-align: middle;\n",
       "    }\n",
       "\n",
       "    .dataframe tbody tr th {\n",
       "        vertical-align: top;\n",
       "    }\n",
       "\n",
       "    .dataframe thead th {\n",
       "        text-align: right;\n",
       "    }\n",
       "</style>\n",
       "<table border=\"1\" class=\"dataframe\">\n",
       "  <thead>\n",
       "    <tr style=\"text-align: right;\">\n",
       "      <th></th>\n",
       "      <th>Sale Price</th>\n",
       "      <th>Acreage</th>\n",
       "      <th>Neighborhood</th>\n",
       "      <th>Land Value</th>\n",
       "      <th>Building Value</th>\n",
       "      <th>Total Value</th>\n",
       "      <th>Finished Area</th>\n",
       "      <th>Year Built</th>\n",
       "      <th>Bedrooms</th>\n",
       "      <th>Full Bath</th>\n",
       "      <th>Half Bath</th>\n",
       "    </tr>\n",
       "  </thead>\n",
       "  <tbody>\n",
       "    <tr>\n",
       "      <th>count</th>\n",
       "      <td>2.372100e+04</td>\n",
       "      <td>23721.000000</td>\n",
       "      <td>23721.000000</td>\n",
       "      <td>2.372100e+04</td>\n",
       "      <td>2.372100e+04</td>\n",
       "      <td>2.372100e+04</td>\n",
       "      <td>23721.000000</td>\n",
       "      <td>23721.000000</td>\n",
       "      <td>23721.000000</td>\n",
       "      <td>23721.000000</td>\n",
       "      <td>23721.000000</td>\n",
       "    </tr>\n",
       "    <tr>\n",
       "      <th>mean</th>\n",
       "      <td>2.749120e+05</td>\n",
       "      <td>0.455818</td>\n",
       "      <td>4444.770583</td>\n",
       "      <td>6.901500e+04</td>\n",
       "      <td>1.730121e+05</td>\n",
       "      <td>2.446997e+05</td>\n",
       "      <td>1919.246358</td>\n",
       "      <td>1963.733148</td>\n",
       "      <td>3.093967</td>\n",
       "      <td>1.896758</td>\n",
       "      <td>0.286666</td>\n",
       "    </tr>\n",
       "    <tr>\n",
       "      <th>std</th>\n",
       "      <td>3.043397e+05</td>\n",
       "      <td>0.793732</td>\n",
       "      <td>2137.157728</td>\n",
       "      <td>1.021294e+05</td>\n",
       "      <td>1.935189e+05</td>\n",
       "      <td>2.722758e+05</td>\n",
       "      <td>1105.055694</td>\n",
       "      <td>26.389463</td>\n",
       "      <td>0.850591</td>\n",
       "      <td>0.955020</td>\n",
       "      <td>0.489548</td>\n",
       "    </tr>\n",
       "    <tr>\n",
       "      <th>min</th>\n",
       "      <td>1.000000e+02</td>\n",
       "      <td>0.040000</td>\n",
       "      <td>107.000000</td>\n",
       "      <td>1.000000e+02</td>\n",
       "      <td>1.400000e+03</td>\n",
       "      <td>1.260000e+04</td>\n",
       "      <td>450.000000</td>\n",
       "      <td>1799.000000</td>\n",
       "      <td>0.000000</td>\n",
       "      <td>0.000000</td>\n",
       "      <td>0.000000</td>\n",
       "    </tr>\n",
       "    <tr>\n",
       "      <th>25%</th>\n",
       "      <td>1.250000e+05</td>\n",
       "      <td>0.190000</td>\n",
       "      <td>3130.000000</td>\n",
       "      <td>2.200000e+04</td>\n",
       "      <td>8.390000e+04</td>\n",
       "      <td>1.097000e+05</td>\n",
       "      <td>1242.000000</td>\n",
       "      <td>1948.000000</td>\n",
       "      <td>3.000000</td>\n",
       "      <td>1.000000</td>\n",
       "      <td>0.000000</td>\n",
       "    </tr>\n",
       "    <tr>\n",
       "      <th>50%</th>\n",
       "      <td>1.850000e+05</td>\n",
       "      <td>0.270000</td>\n",
       "      <td>4026.000000</td>\n",
       "      <td>2.990000e+04</td>\n",
       "      <td>1.175000e+05</td>\n",
       "      <td>1.547000e+05</td>\n",
       "      <td>1633.000000</td>\n",
       "      <td>1960.000000</td>\n",
       "      <td>3.000000</td>\n",
       "      <td>2.000000</td>\n",
       "      <td>0.000000</td>\n",
       "    </tr>\n",
       "    <tr>\n",
       "      <th>75%</th>\n",
       "      <td>3.249000e+05</td>\n",
       "      <td>0.450000</td>\n",
       "      <td>6229.000000</td>\n",
       "      <td>6.030000e+04</td>\n",
       "      <td>1.892000e+05</td>\n",
       "      <td>2.781000e+05</td>\n",
       "      <td>2214.000000</td>\n",
       "      <td>1983.000000</td>\n",
       "      <td>4.000000</td>\n",
       "      <td>2.000000</td>\n",
       "      <td>1.000000</td>\n",
       "    </tr>\n",
       "    <tr>\n",
       "      <th>max</th>\n",
       "      <td>1.075000e+07</td>\n",
       "      <td>47.500000</td>\n",
       "      <td>9530.000000</td>\n",
       "      <td>1.869000e+06</td>\n",
       "      <td>5.824300e+06</td>\n",
       "      <td>6.402600e+06</td>\n",
       "      <td>19728.249880</td>\n",
       "      <td>2017.000000</td>\n",
       "      <td>11.000000</td>\n",
       "      <td>10.000000</td>\n",
       "      <td>3.000000</td>\n",
       "    </tr>\n",
       "  </tbody>\n",
       "</table>\n",
       "</div>"
      ],
      "text/plain": [
       "         Sale Price       Acreage  Neighborhood    Land Value  Building Value  \\\n",
       "count  2.372100e+04  23721.000000  23721.000000  2.372100e+04    2.372100e+04   \n",
       "mean   2.749120e+05      0.455818   4444.770583  6.901500e+04    1.730121e+05   \n",
       "std    3.043397e+05      0.793732   2137.157728  1.021294e+05    1.935189e+05   \n",
       "min    1.000000e+02      0.040000    107.000000  1.000000e+02    1.400000e+03   \n",
       "25%    1.250000e+05      0.190000   3130.000000  2.200000e+04    8.390000e+04   \n",
       "50%    1.850000e+05      0.270000   4026.000000  2.990000e+04    1.175000e+05   \n",
       "75%    3.249000e+05      0.450000   6229.000000  6.030000e+04    1.892000e+05   \n",
       "max    1.075000e+07     47.500000   9530.000000  1.869000e+06    5.824300e+06   \n",
       "\n",
       "        Total Value  Finished Area    Year Built      Bedrooms     Full Bath  \\\n",
       "count  2.372100e+04   23721.000000  23721.000000  23721.000000  23721.000000   \n",
       "mean   2.446997e+05    1919.246358   1963.733148      3.093967      1.896758   \n",
       "std    2.722758e+05    1105.055694     26.389463      0.850591      0.955020   \n",
       "min    1.260000e+04     450.000000   1799.000000      0.000000      0.000000   \n",
       "25%    1.097000e+05    1242.000000   1948.000000      3.000000      1.000000   \n",
       "50%    1.547000e+05    1633.000000   1960.000000      3.000000      2.000000   \n",
       "75%    2.781000e+05    2214.000000   1983.000000      4.000000      2.000000   \n",
       "max    6.402600e+06   19728.249880   2017.000000     11.000000     10.000000   \n",
       "\n",
       "          Half Bath  \n",
       "count  23721.000000  \n",
       "mean       0.286666  \n",
       "std        0.489548  \n",
       "min        0.000000  \n",
       "25%        0.000000  \n",
       "50%        0.000000  \n",
       "75%        1.000000  \n",
       "max        3.000000  "
      ]
     },
     "execution_count": 219,
     "metadata": {},
     "output_type": "execute_result"
    }
   ],
   "source": [
    "df3.describe()"
   ]
  },
  {
   "cell_type": "code",
   "execution_count": 220,
   "id": "a094bd55",
   "metadata": {},
   "outputs": [
    {
     "name": "stdout",
     "output_type": "stream",
     "text": [
      "<class 'pandas.core.frame.DataFrame'>\n",
      "Int64Index: 23721 entries, 1 to 56615\n",
      "Data columns (total 20 columns):\n",
      " #   Column                             Non-Null Count  Dtype  \n",
      "---  ------                             --------------  -----  \n",
      " 0   Land Use                           23721 non-null  object \n",
      " 1   Property City                      23721 non-null  object \n",
      " 2   Sale Date                          23721 non-null  object \n",
      " 3   Sale Price                         23721 non-null  int64  \n",
      " 4   Sold As Vacant                     23721 non-null  object \n",
      " 5   Multiple Parcels Involved in Sale  23721 non-null  object \n",
      " 6   Acreage                            23721 non-null  float64\n",
      " 7   Tax District                       23721 non-null  object \n",
      " 8   Neighborhood                       23721 non-null  float64\n",
      " 9   Land Value                         23721 non-null  float64\n",
      " 10  Building Value                     23721 non-null  float64\n",
      " 11  Total Value                        23721 non-null  float64\n",
      " 12  Finished Area                      23721 non-null  float64\n",
      " 13  Foundation Type                    23721 non-null  object \n",
      " 14  Year Built                         23721 non-null  float64\n",
      " 15  Exterior Wall                      23721 non-null  object \n",
      " 16  Grade                              23721 non-null  object \n",
      " 17  Bedrooms                           23721 non-null  float64\n",
      " 18  Full Bath                          23721 non-null  float64\n",
      " 19  Half Bath                          23721 non-null  float64\n",
      "dtypes: float64(10), int64(1), object(9)\n",
      "memory usage: 3.8+ MB\n"
     ]
    }
   ],
   "source": [
    "df3.info()"
   ]
  },
  {
   "cell_type": "code",
   "execution_count": 221,
   "id": "0440fd2f",
   "metadata": {},
   "outputs": [],
   "source": [
    "df3['Sale Date'] = pd.to_datetime(df3['Sale Date'])\n",
    "df3['Sale Year'] = pd.DatetimeIndex(df3['Sale Date']).year\n",
    "df3['Sale Month'] = pd.DatetimeIndex(df3['Sale Date']).month\n",
    "df3 = df3.drop(columns = ['Sale Date'])"
   ]
  },
  {
   "cell_type": "code",
   "execution_count": 222,
   "id": "9b84801c",
   "metadata": {},
   "outputs": [
    {
     "name": "stdout",
     "output_type": "stream",
     "text": [
      "<class 'pandas.core.frame.DataFrame'>\n",
      "Int64Index: 23721 entries, 1 to 56615\n",
      "Data columns (total 21 columns):\n",
      " #   Column                             Non-Null Count  Dtype  \n",
      "---  ------                             --------------  -----  \n",
      " 0   Land Use                           23721 non-null  object \n",
      " 1   Property City                      23721 non-null  object \n",
      " 2   Sale Price                         23721 non-null  int64  \n",
      " 3   Sold As Vacant                     23721 non-null  object \n",
      " 4   Multiple Parcels Involved in Sale  23721 non-null  object \n",
      " 5   Acreage                            23721 non-null  float64\n",
      " 6   Tax District                       23721 non-null  object \n",
      " 7   Neighborhood                       23721 non-null  float64\n",
      " 8   Land Value                         23721 non-null  float64\n",
      " 9   Building Value                     23721 non-null  float64\n",
      " 10  Total Value                        23721 non-null  float64\n",
      " 11  Finished Area                      23721 non-null  float64\n",
      " 12  Foundation Type                    23721 non-null  object \n",
      " 13  Year Built                         23721 non-null  float64\n",
      " 14  Exterior Wall                      23721 non-null  object \n",
      " 15  Grade                              23721 non-null  object \n",
      " 16  Bedrooms                           23721 non-null  float64\n",
      " 17  Full Bath                          23721 non-null  float64\n",
      " 18  Half Bath                          23721 non-null  float64\n",
      " 19  Sale Year                          23721 non-null  int64  \n",
      " 20  Sale Month                         23721 non-null  int64  \n",
      "dtypes: float64(10), int64(3), object(8)\n",
      "memory usage: 4.0+ MB\n"
     ]
    }
   ],
   "source": [
    "df3.info()"
   ]
  },
  {
   "cell_type": "code",
   "execution_count": 223,
   "id": "00bbc249",
   "metadata": {},
   "outputs": [],
   "source": [
    "df3['House Age'] = df3['Sale Year'] - df3['Year Built']"
   ]
  },
  {
   "cell_type": "code",
   "execution_count": 224,
   "id": "d293485a",
   "metadata": {},
   "outputs": [
    {
     "data": {
      "text/html": [
       "<div>\n",
       "<style scoped>\n",
       "    .dataframe tbody tr th:only-of-type {\n",
       "        vertical-align: middle;\n",
       "    }\n",
       "\n",
       "    .dataframe tbody tr th {\n",
       "        vertical-align: top;\n",
       "    }\n",
       "\n",
       "    .dataframe thead th {\n",
       "        text-align: right;\n",
       "    }\n",
       "</style>\n",
       "<table border=\"1\" class=\"dataframe\">\n",
       "  <thead>\n",
       "    <tr style=\"text-align: right;\">\n",
       "      <th></th>\n",
       "      <th>Land Use</th>\n",
       "      <th>Property City</th>\n",
       "      <th>Sale Price</th>\n",
       "      <th>Sold As Vacant</th>\n",
       "      <th>Multiple Parcels Involved in Sale</th>\n",
       "      <th>Acreage</th>\n",
       "      <th>Tax District</th>\n",
       "      <th>Neighborhood</th>\n",
       "      <th>Land Value</th>\n",
       "      <th>Building Value</th>\n",
       "      <th>...</th>\n",
       "      <th>Foundation Type</th>\n",
       "      <th>Year Built</th>\n",
       "      <th>Exterior Wall</th>\n",
       "      <th>Grade</th>\n",
       "      <th>Bedrooms</th>\n",
       "      <th>Full Bath</th>\n",
       "      <th>Half Bath</th>\n",
       "      <th>Sale Year</th>\n",
       "      <th>Sale Month</th>\n",
       "      <th>House Age</th>\n",
       "    </tr>\n",
       "  </thead>\n",
       "  <tbody>\n",
       "    <tr>\n",
       "      <th>1</th>\n",
       "      <td>SINGLE FAMILY</td>\n",
       "      <td>NASHVILLE</td>\n",
       "      <td>191500</td>\n",
       "      <td>No</td>\n",
       "      <td>No</td>\n",
       "      <td>0.17</td>\n",
       "      <td>URBAN SERVICES DISTRICT</td>\n",
       "      <td>3127.0</td>\n",
       "      <td>32000.0</td>\n",
       "      <td>134400.0</td>\n",
       "      <td>...</td>\n",
       "      <td>PT BSMT</td>\n",
       "      <td>1941.0</td>\n",
       "      <td>BRICK</td>\n",
       "      <td>C</td>\n",
       "      <td>2.0</td>\n",
       "      <td>1.0</td>\n",
       "      <td>0.0</td>\n",
       "      <td>2013</td>\n",
       "      <td>1</td>\n",
       "      <td>72.0</td>\n",
       "    </tr>\n",
       "    <tr>\n",
       "      <th>2</th>\n",
       "      <td>SINGLE FAMILY</td>\n",
       "      <td>NASHVILLE</td>\n",
       "      <td>202000</td>\n",
       "      <td>No</td>\n",
       "      <td>No</td>\n",
       "      <td>0.11</td>\n",
       "      <td>CITY OF BERRY HILL</td>\n",
       "      <td>9126.0</td>\n",
       "      <td>34000.0</td>\n",
       "      <td>157800.0</td>\n",
       "      <td>...</td>\n",
       "      <td>SLAB</td>\n",
       "      <td>2000.0</td>\n",
       "      <td>BRICK/FRAME</td>\n",
       "      <td>C</td>\n",
       "      <td>3.0</td>\n",
       "      <td>2.0</td>\n",
       "      <td>1.0</td>\n",
       "      <td>2013</td>\n",
       "      <td>1</td>\n",
       "      <td>13.0</td>\n",
       "    </tr>\n",
       "    <tr>\n",
       "      <th>3</th>\n",
       "      <td>SINGLE FAMILY</td>\n",
       "      <td>NASHVILLE</td>\n",
       "      <td>32000</td>\n",
       "      <td>No</td>\n",
       "      <td>No</td>\n",
       "      <td>0.17</td>\n",
       "      <td>URBAN SERVICES DISTRICT</td>\n",
       "      <td>3130.0</td>\n",
       "      <td>25000.0</td>\n",
       "      <td>243700.0</td>\n",
       "      <td>...</td>\n",
       "      <td>FULL BSMT</td>\n",
       "      <td>1948.0</td>\n",
       "      <td>BRICK/FRAME</td>\n",
       "      <td>B</td>\n",
       "      <td>4.0</td>\n",
       "      <td>2.0</td>\n",
       "      <td>0.0</td>\n",
       "      <td>2013</td>\n",
       "      <td>1</td>\n",
       "      <td>65.0</td>\n",
       "    </tr>\n",
       "    <tr>\n",
       "      <th>4</th>\n",
       "      <td>SINGLE FAMILY</td>\n",
       "      <td>NASHVILLE</td>\n",
       "      <td>102000</td>\n",
       "      <td>No</td>\n",
       "      <td>No</td>\n",
       "      <td>0.34</td>\n",
       "      <td>URBAN SERVICES DISTRICT</td>\n",
       "      <td>3130.0</td>\n",
       "      <td>25000.0</td>\n",
       "      <td>138100.0</td>\n",
       "      <td>...</td>\n",
       "      <td>CRAWL</td>\n",
       "      <td>1910.0</td>\n",
       "      <td>FRAME</td>\n",
       "      <td>C</td>\n",
       "      <td>2.0</td>\n",
       "      <td>1.0</td>\n",
       "      <td>0.0</td>\n",
       "      <td>2013</td>\n",
       "      <td>1</td>\n",
       "      <td>103.0</td>\n",
       "    </tr>\n",
       "    <tr>\n",
       "      <th>5</th>\n",
       "      <td>SINGLE FAMILY</td>\n",
       "      <td>NASHVILLE</td>\n",
       "      <td>93736</td>\n",
       "      <td>No</td>\n",
       "      <td>No</td>\n",
       "      <td>0.17</td>\n",
       "      <td>URBAN SERVICES DISTRICT</td>\n",
       "      <td>3130.0</td>\n",
       "      <td>25000.0</td>\n",
       "      <td>86100.0</td>\n",
       "      <td>...</td>\n",
       "      <td>CRAWL</td>\n",
       "      <td>1945.0</td>\n",
       "      <td>FRAME</td>\n",
       "      <td>C</td>\n",
       "      <td>2.0</td>\n",
       "      <td>1.0</td>\n",
       "      <td>0.0</td>\n",
       "      <td>2013</td>\n",
       "      <td>1</td>\n",
       "      <td>68.0</td>\n",
       "    </tr>\n",
       "  </tbody>\n",
       "</table>\n",
       "<p>5 rows × 22 columns</p>\n",
       "</div>"
      ],
      "text/plain": [
       "        Land Use Property City  Sale Price Sold As Vacant  \\\n",
       "1  SINGLE FAMILY     NASHVILLE      191500             No   \n",
       "2  SINGLE FAMILY     NASHVILLE      202000             No   \n",
       "3  SINGLE FAMILY     NASHVILLE       32000             No   \n",
       "4  SINGLE FAMILY     NASHVILLE      102000             No   \n",
       "5  SINGLE FAMILY     NASHVILLE       93736             No   \n",
       "\n",
       "  Multiple Parcels Involved in Sale  Acreage             Tax District  \\\n",
       "1                                No     0.17  URBAN SERVICES DISTRICT   \n",
       "2                                No     0.11       CITY OF BERRY HILL   \n",
       "3                                No     0.17  URBAN SERVICES DISTRICT   \n",
       "4                                No     0.34  URBAN SERVICES DISTRICT   \n",
       "5                                No     0.17  URBAN SERVICES DISTRICT   \n",
       "\n",
       "   Neighborhood  Land Value  Building Value  ...  Foundation Type  Year Built  \\\n",
       "1        3127.0     32000.0        134400.0  ...          PT BSMT      1941.0   \n",
       "2        9126.0     34000.0        157800.0  ...             SLAB      2000.0   \n",
       "3        3130.0     25000.0        243700.0  ...        FULL BSMT      1948.0   \n",
       "4        3130.0     25000.0        138100.0  ...            CRAWL      1910.0   \n",
       "5        3130.0     25000.0         86100.0  ...            CRAWL      1945.0   \n",
       "\n",
       "  Exterior Wall  Grade Bedrooms Full Bath  Half Bath  Sale Year  Sale Month  \\\n",
       "1         BRICK   C         2.0       1.0        0.0       2013           1   \n",
       "2   BRICK/FRAME   C         3.0       2.0        1.0       2013           1   \n",
       "3   BRICK/FRAME   B         4.0       2.0        0.0       2013           1   \n",
       "4         FRAME   C         2.0       1.0        0.0       2013           1   \n",
       "5         FRAME   C         2.0       1.0        0.0       2013           1   \n",
       "\n",
       "   House Age  \n",
       "1       72.0  \n",
       "2       13.0  \n",
       "3       65.0  \n",
       "4      103.0  \n",
       "5       68.0  \n",
       "\n",
       "[5 rows x 22 columns]"
      ]
     },
     "execution_count": 224,
     "metadata": {},
     "output_type": "execute_result"
    }
   ],
   "source": [
    "df3.head()"
   ]
  },
  {
   "cell_type": "code",
   "execution_count": 225,
   "id": "dc61a14b",
   "metadata": {},
   "outputs": [
    {
     "data": {
      "text/plain": [
       "<AxesSubplot:>"
      ]
     },
     "execution_count": 225,
     "metadata": {},
     "output_type": "execute_result"
    },
    {
     "data": {
      "image/png": "[encoded data removed]",
      "text/plain": [
       "<Figure size 1080x720 with 2 Axes>"
      ]
     },
     "metadata": {
      "needs_background": "light"
     },
     "output_type": "display_data"
    }
   ],
   "source": [
    "plt.figure(figsize=(15,10))\n",
    "sns.heatmap(df3.corr(),annot=True)"
   ]
  },
  {
   "cell_type": "code",
   "execution_count": 226,
   "id": "73b376da",
   "metadata": {
    "scrolled": true
   },
   "outputs": [
    {
     "data": {
      "text/html": [
       "<div>\n",
       "<style scoped>\n",
       "    .dataframe tbody tr th:only-of-type {\n",
       "        vertical-align: middle;\n",
       "    }\n",
       "\n",
       "    .dataframe tbody tr th {\n",
       "        vertical-align: top;\n",
       "    }\n",
       "\n",
       "    .dataframe thead th {\n",
       "        text-align: right;\n",
       "    }\n",
       "</style>\n",
       "<table border=\"1\" class=\"dataframe\">\n",
       "  <thead>\n",
       "    <tr style=\"text-align: right;\">\n",
       "      <th></th>\n",
       "      <th>Grade</th>\n",
       "      <th>Grade_code</th>\n",
       "    </tr>\n",
       "  </thead>\n",
       "  <tbody>\n",
       "    <tr>\n",
       "      <th>1</th>\n",
       "      <td>C</td>\n",
       "      <td>3.0</td>\n",
       "    </tr>\n",
       "    <tr>\n",
       "      <th>2</th>\n",
       "      <td>C</td>\n",
       "      <td>3.0</td>\n",
       "    </tr>\n",
       "    <tr>\n",
       "      <th>3</th>\n",
       "      <td>B</td>\n",
       "      <td>2.0</td>\n",
       "    </tr>\n",
       "    <tr>\n",
       "      <th>4</th>\n",
       "      <td>C</td>\n",
       "      <td>3.0</td>\n",
       "    </tr>\n",
       "    <tr>\n",
       "      <th>5</th>\n",
       "      <td>C</td>\n",
       "      <td>3.0</td>\n",
       "    </tr>\n",
       "    <tr>\n",
       "      <th>7</th>\n",
       "      <td>D</td>\n",
       "      <td>4.0</td>\n",
       "    </tr>\n",
       "    <tr>\n",
       "      <th>8</th>\n",
       "      <td>D</td>\n",
       "      <td>4.0</td>\n",
       "    </tr>\n",
       "    <tr>\n",
       "      <th>9</th>\n",
       "      <td>C</td>\n",
       "      <td>3.0</td>\n",
       "    </tr>\n",
       "    <tr>\n",
       "      <th>10</th>\n",
       "      <td>C</td>\n",
       "      <td>3.0</td>\n",
       "    </tr>\n",
       "    <tr>\n",
       "      <th>11</th>\n",
       "      <td>C</td>\n",
       "      <td>3.0</td>\n",
       "    </tr>\n",
       "    <tr>\n",
       "      <th>12</th>\n",
       "      <td>C</td>\n",
       "      <td>3.0</td>\n",
       "    </tr>\n",
       "  </tbody>\n",
       "</table>\n",
       "</div>"
      ],
      "text/plain": [
       "   Grade  Grade_code\n",
       "1   C            3.0\n",
       "2   C            3.0\n",
       "3   B            2.0\n",
       "4   C            3.0\n",
       "5   C            3.0\n",
       "7   D            4.0\n",
       "8   D            4.0\n",
       "9   C            3.0\n",
       "10  C            3.0\n",
       "11  C            3.0\n",
       "12  C            3.0"
      ]
     },
     "execution_count": 226,
     "metadata": {},
     "output_type": "execute_result"
    }
   ],
   "source": [
    "from sklearn.preprocessing import OrdinalEncoder\n",
    "\n",
    "ord_enc = OrdinalEncoder()\n",
    "df3[\"Grade_code\"] = ord_enc.fit_transform(df3[[\"Grade\"]])\n",
    "df3[[\"Grade\", \"Grade_code\"]].head(11)"
   ]
  },
  {
   "cell_type": "code",
   "execution_count": 227,
   "id": "d78a81bc",
   "metadata": {},
   "outputs": [],
   "source": [
    "df3.drop('Grade', axis=1, inplace=True)"
   ]
  },
  {
   "cell_type": "code",
   "execution_count": 228,
   "id": "ec04aa1b",
   "metadata": {},
   "outputs": [],
   "source": [
    "df4 = pd.get_dummies(df3, columns = ['Property City','Sold As Vacant', 'Multiple Parcels Involved in Sale','Land Use','Tax District','Foundation Type', 'Exterior Wall'])"
   ]
  },
  {
   "cell_type": "code",
   "execution_count": 229,
   "id": "15027011",
   "metadata": {},
   "outputs": [
    {
     "name": "stdout",
     "output_type": "stream",
     "text": [
      "<class 'pandas.core.frame.DataFrame'>\n",
      "Int64Index: 23721 entries, 1 to 56615\n",
      "Data columns (total 78 columns):\n",
      " #   Column                                           Non-Null Count  Dtype  \n",
      "---  ------                                           --------------  -----  \n",
      " 0   Sale Price                                       23721 non-null  int64  \n",
      " 1   Acreage                                          23721 non-null  float64\n",
      " 2   Neighborhood                                     23721 non-null  float64\n",
      " 3   Land Value                                       23721 non-null  float64\n",
      " 4   Building Value                                   23721 non-null  float64\n",
      " 5   Total Value                                      23721 non-null  float64\n",
      " 6   Finished Area                                    23721 non-null  float64\n",
      " 7   Year Built                                       23721 non-null  float64\n",
      " 8   Bedrooms                                         23721 non-null  float64\n",
      " 9   Full Bath                                        23721 non-null  float64\n",
      " 10  Half Bath                                        23721 non-null  float64\n",
      " 11  Sale Year                                        23721 non-null  int64  \n",
      " 12  Sale Month                                       23721 non-null  int64  \n",
      " 13  House Age                                        23721 non-null  float64\n",
      " 14  Grade_code                                       23721 non-null  float64\n",
      " 15  Property City_ANTIOCH                            23721 non-null  uint8  \n",
      " 16  Property City_BRENTWOOD                          23721 non-null  uint8  \n",
      " 17  Property City_GOODLETTSVILLE                     23721 non-null  uint8  \n",
      " 18  Property City_HERMITAGE                          23721 non-null  uint8  \n",
      " 19  Property City_JOELTON                            23721 non-null  uint8  \n",
      " 20  Property City_MADISON                            23721 non-null  uint8  \n",
      " 21  Property City_MOUNT JULIET                       23721 non-null  uint8  \n",
      " 22  Property City_NASHVILLE                          23721 non-null  uint8  \n",
      " 23  Property City_OLD HICKORY                        23721 non-null  uint8  \n",
      " 24  Property City_WHITES CREEK                       23721 non-null  uint8  \n",
      " 25  Sold As Vacant_No                                23721 non-null  uint8  \n",
      " 26  Sold As Vacant_Yes                               23721 non-null  uint8  \n",
      " 27  Multiple Parcels Involved in Sale_No             23721 non-null  uint8  \n",
      " 28  Multiple Parcels Involved in Sale_Yes            23721 non-null  uint8  \n",
      " 29  Land Use_APARTMENT: LOW RISE (BUILT SINCE 1960)  23721 non-null  uint8  \n",
      " 30  Land Use_CHURCH                                  23721 non-null  uint8  \n",
      " 31  Land Use_CLUB/UNION HALL/LODGE                   23721 non-null  uint8  \n",
      " 32  Land Use_CONVENIENCE MARKET WITHOUT GAS          23721 non-null  uint8  \n",
      " 33  Land Use_DAY CARE CENTER                         23721 non-null  uint8  \n",
      " 34  Land Use_DORMITORY/BOARDING HOUSE                23721 non-null  uint8  \n",
      " 35  Land Use_DUPLEX                                  23721 non-null  uint8  \n",
      " 36  Land Use_FOREST                                  23721 non-null  uint8  \n",
      " 37  Land Use_GREENBELT                               23721 non-null  uint8  \n",
      " 38  Land Use_GREENBELT/RES\r\n",
      "GRRENBELT/RES            23721 non-null  uint8  \n",
      " 39  Land Use_LIGHT MANUFACTURING                     23721 non-null  uint8  \n",
      " 40  Land Use_MOBILE HOME                             23721 non-null  uint8  \n",
      " 41  Land Use_NON-PROFIT CHARITABLE SERVICE           23721 non-null  uint8  \n",
      " 42  Land Use_OFFICE BLDG (ONE OR TWO STORIES)        23721 non-null  uint8  \n",
      " 43  Land Use_ONE STORY GENERAL RETAIL STORE          23721 non-null  uint8  \n",
      " 44  Land Use_PARSONAGE                               23721 non-null  uint8  \n",
      " 45  Land Use_QUADPLEX                                23721 non-null  uint8  \n",
      " 46  Land Use_RESIDENTIAL COMBO/MISC                  23721 non-null  uint8  \n",
      " 47  Land Use_SINGLE FAMILY                           23721 non-null  uint8  \n",
      " 48  Land Use_SPLIT CLASS                             23721 non-null  uint8  \n",
      " 49  Land Use_STRIP SHOPPING CENTER                   23721 non-null  uint8  \n",
      " 50  Land Use_TERMINAL/DISTRIBUTION WAREHOUSE         23721 non-null  uint8  \n",
      " 51  Land Use_TRIPLEX                                 23721 non-null  uint8  \n",
      " 52  Land Use_VACANT RES LAND                         23721 non-null  uint8  \n",
      " 53  Land Use_VACANT RESIDENTIAL LAND                 23721 non-null  uint8  \n",
      " 54  Land Use_ZERO LOT LINE                           23721 non-null  uint8  \n",
      " 55  Tax District_CITY OF BELLE MEADE                 23721 non-null  uint8  \n",
      " 56  Tax District_CITY OF BERRY HILL                  23721 non-null  uint8  \n",
      " 57  Tax District_CITY OF FOREST HILLS                23721 non-null  uint8  \n",
      " 58  Tax District_CITY OF GOODLETTSVILLE              23721 non-null  uint8  \n",
      " 59  Tax District_CITY OF OAK HILL                    23721 non-null  uint8  \n",
      " 60  Tax District_GENERAL SERVICES DISTRICT           23721 non-null  uint8  \n",
      " 61  Tax District_URBAN SERVICES DISTRICT             23721 non-null  uint8  \n",
      " 62  Foundation Type_CRAWL                            23721 non-null  uint8  \n",
      " 63  Foundation Type_FULL BSMT                        23721 non-null  uint8  \n",
      " 64  Foundation Type_PIERS                            23721 non-null  uint8  \n",
      " 65  Foundation Type_PT BSMT                          23721 non-null  uint8  \n",
      " 66  Foundation Type_SLAB                             23721 non-null  uint8  \n",
      " 67  Foundation Type_TYPICAL                          23721 non-null  uint8  \n",
      " 68  Exterior Wall_BRICK                              23721 non-null  uint8  \n",
      " 69  Exterior Wall_BRICK/FRAME                        23721 non-null  uint8  \n",
      " 70  Exterior Wall_CONC BLK                           23721 non-null  uint8  \n",
      " 71  Exterior Wall_FRAME                              23721 non-null  uint8  \n",
      " 72  Exterior Wall_FRAME/STONE                        23721 non-null  uint8  \n",
      " 73  Exterior Wall_LOG                                23721 non-null  uint8  \n",
      " 74  Exterior Wall_METAL                              23721 non-null  uint8  \n",
      " 75  Exterior Wall_PRECAST CONC                       23721 non-null  uint8  \n",
      " 76  Exterior Wall_STONE                              23721 non-null  uint8  \n",
      " 77  Exterior Wall_STUCCO                             23721 non-null  uint8  \n",
      "dtypes: float64(12), int64(3), uint8(63)\n",
      "memory usage: 4.3 MB\n"
     ]
    }
   ],
   "source": [
    "df4.info()"
   ]
  },
  {
   "cell_type": "code",
   "execution_count": 395,
   "id": "d7c92b1b",
   "metadata": {},
   "outputs": [],
   "source": [
    "y = df4['Sale Price']\n",
    "\n",
    "X = df4.drop(['Sale Price', 'House Age'], axis = 1)"
   ]
  },
  {
   "cell_type": "code",
   "execution_count": 396,
   "id": "c0c7b7f0",
   "metadata": {},
   "outputs": [],
   "source": [
    "X_train, X_test, y_train, y_test = train_test_split(X, y, test_size = 0.25, random_state = 42)"
   ]
  },
  {
   "cell_type": "code",
   "execution_count": 397,
   "id": "9ef71cbe",
   "metadata": {},
   "outputs": [],
   "source": [
    "lr= LinearRegression()\n",
    "lr.fit(X_train, y_train)\n",
    "\n",
    "y_pred = lr.predict(X_test)"
   ]
  },
  {
   "cell_type": "code",
   "execution_count": 398,
   "id": "665f927a",
   "metadata": {},
   "outputs": [
    {
     "data": {
      "text/plain": [
       "array([313311.32318855, 327999.69240754, 440705.92893785, ...,\n",
       "       197281.07522883, 220842.61269904, 232980.23735534])"
      ]
     },
     "execution_count": 398,
     "metadata": {},
     "output_type": "execute_result"
    }
   ],
   "source": [
    "y_pred"
   ]
  },
  {
   "cell_type": "code",
   "execution_count": null,
   "id": "4fea3475",
   "metadata": {},
   "outputs": [],
   "source": []
  },
  {
   "cell_type": "code",
   "execution_count": 399,
   "id": "7cbeefd5",
   "metadata": {},
   "outputs": [
    {
     "name": "stdout",
     "output_type": "stream",
     "text": [
      "                            OLS Regression Results                            \n",
      "==============================================================================\n",
      "Dep. Variable:             Sale Price   R-squared:                       0.796\n",
      "Model:                            OLS   Adj. R-squared:                  0.795\n",
      "Method:                 Least Squares   F-statistic:                     986.0\n",
      "Date:                Fri, 24 Jun 2022   Prob (F-statistic):               0.00\n",
      "Time:                        07:27:58   Log-Likelihood:            -2.3512e+05\n",
      "No. Observations:               17790   AIC:                         4.704e+05\n",
      "Df Residuals:                   17719   BIC:                         4.709e+05\n",
      "Df Model:                          70                                         \n",
      "Covariance Type:            nonrobust                                         \n",
      "===================================================================================================================\n",
      "                                                      coef    std err          t      P>|t|      [0.025      0.975]\n",
      "-------------------------------------------------------------------------------------------------------------------\n",
      "Acreage                                          7253.7662   1843.829      3.934      0.000    3639.682    1.09e+04\n",
      "Neighborhood                                       -3.5532      0.749     -4.746      0.000      -5.021      -2.086\n",
      "Land Value                                         -0.9270      0.141     -6.556      0.000      -1.204      -0.650\n",
      "Building Value                                     -1.6398      0.141    -11.636      0.000      -1.916      -1.364\n",
      "Total Value                                         2.2030      0.139     15.834      0.000       1.930       2.476\n",
      "Finished Area                                      14.1938      2.538      5.592      0.000       9.219      19.169\n",
      "Year Built                                         19.7738     48.442      0.408      0.683     -75.178     114.725\n",
      "Bedrooms                                         1925.6704   1673.556      1.151      0.250   -1354.663    5206.003\n",
      "Full Bath                                        1.059e+04   2019.427      5.246      0.000    6635.596    1.46e+04\n",
      "Half Bath                                        1.338e+04   2498.170      5.354      0.000    8478.673    1.83e+04\n",
      "Sale Year                                        1.133e+04   1055.335     10.740      0.000    9265.830    1.34e+04\n",
      "Sale Month                                       1356.0761    330.332      4.105      0.000     708.594    2003.559\n",
      "Grade_code                                       3924.9211    596.055      6.585      0.000    2756.596    5093.247\n",
      "Property City_ANTIOCH                           -1.464e+06   1.38e+05    -10.629      0.000   -1.73e+06   -1.19e+06\n",
      "Property City_BRENTWOOD                          -1.47e+06   1.38e+05    -10.682      0.000   -1.74e+06    -1.2e+06\n",
      "Property City_GOODLETTSVILLE                    -1.461e+06   1.38e+05    -10.576      0.000   -1.73e+06   -1.19e+06\n",
      "Property City_HERMITAGE                         -1.454e+06   1.38e+05    -10.570      0.000   -1.72e+06   -1.18e+06\n",
      "Property City_JOELTON                           -1.461e+06   1.45e+05    -10.073      0.000   -1.75e+06   -1.18e+06\n",
      "Property City_MADISON                           -1.457e+06   1.38e+05    -10.583      0.000   -1.73e+06   -1.19e+06\n",
      "Property City_MOUNT JULIET                      -1.602e+06   1.45e+05    -11.068      0.000   -1.89e+06   -1.32e+06\n",
      "Property City_NASHVILLE                          -1.46e+06   1.37e+05    -10.622      0.000   -1.73e+06   -1.19e+06\n",
      "Property City_OLD HICKORY                        -1.46e+06   1.38e+05    -10.604      0.000   -1.73e+06   -1.19e+06\n",
      "Property City_WHITES CREEK                      -1.508e+06   1.42e+05    -10.656      0.000   -1.79e+06   -1.23e+06\n",
      "Sold As Vacant_No                               -7.312e+06   6.86e+05    -10.654      0.000   -8.66e+06   -5.97e+06\n",
      "Sold As Vacant_Yes                              -7.485e+06   6.86e+05    -10.904      0.000   -8.83e+06   -6.14e+06\n",
      "Multiple Parcels Involved in Sale_No            -7.491e+06   6.86e+05    -10.913      0.000   -8.84e+06   -6.15e+06\n",
      "Multiple Parcels Involved in Sale_Yes           -7.306e+06   6.86e+05    -10.646      0.000   -8.65e+06   -5.96e+06\n",
      "Land Use_APARTMENT: LOW RISE (BUILT SINCE 1960)  6.079e+05   1.46e+05      4.158      0.000    3.21e+05    8.95e+05\n",
      "Land Use_CHURCH                                 -5.723e+05    6.5e+04     -8.800      0.000      -7e+05   -4.45e+05\n",
      "Land Use_CLUB/UNION HALL/LODGE                  -9.244e+05   1.44e+05     -6.411      0.000   -1.21e+06   -6.42e+05\n",
      "Land Use_CONVENIENCE MARKET WITHOUT GAS         -6.204e+05   1.45e+05     -4.277      0.000   -9.05e+05   -3.36e+05\n",
      "Land Use_DAY CARE CENTER                         4.051e+05   1.07e+05      3.770      0.000    1.94e+05    6.16e+05\n",
      "Land Use_DORMITORY/BOARDING HOUSE               -6.441e+05   7.42e+04     -8.683      0.000   -7.89e+05   -4.99e+05\n",
      "Land Use_DUPLEX                                  -6.42e+05   5.86e+04    -10.959      0.000   -7.57e+05   -5.27e+05\n",
      "Land Use_FOREST                                 -8.101e+05   9.67e+04     -8.377      0.000      -1e+06   -6.21e+05\n",
      "Land Use_GREENBELT                              -5109.3249   9.16e+04     -0.056      0.956   -1.85e+05    1.75e+05\n",
      "Land Use_GREENBELT/RES\r\n",
      "GRRENBELT/RES           -9.601e+05   1.62e+05     -5.942      0.000   -1.28e+06   -6.43e+05\n",
      "Land Use_LIGHT MANUFACTURING                    -5.065e+05   1.48e+05     -3.414      0.001   -7.97e+05   -2.16e+05\n",
      "Land Use_MOBILE HOME                            -7.293e+05   1.41e+05     -5.180      0.000   -1.01e+06   -4.53e+05\n",
      "Land Use_NON-PROFIT CHARITABLE SERVICE          -5.954e+05   1.41e+05     -4.209      0.000   -8.73e+05   -3.18e+05\n",
      "Land Use_OFFICE BLDG (ONE OR TWO STORIES)       -5.694e+05   1.41e+05     -4.028      0.000   -8.46e+05   -2.92e+05\n",
      "Land Use_ONE STORY GENERAL RETAIL STORE         -8.246e+05   1.45e+05     -5.704      0.000   -1.11e+06   -5.41e+05\n",
      "Land Use_PARSONAGE                              -6.447e+05   8.67e+04     -7.433      0.000   -8.15e+05   -4.75e+05\n",
      "Land Use_QUADPLEX                               -6.471e+05   6.38e+04    -10.149      0.000   -7.72e+05   -5.22e+05\n",
      "Land Use_RESIDENTIAL COMBO/MISC                 -5.972e+05   6.35e+04     -9.412      0.000   -7.22e+05   -4.73e+05\n",
      "Land Use_SINGLE FAMILY                          -6.275e+05   5.84e+04    -10.742      0.000   -7.42e+05   -5.13e+05\n",
      "Land Use_SPLIT CLASS                             -7.12e+05   7.57e+04     -9.409      0.000    -8.6e+05   -5.64e+05\n",
      "Land Use_STRIP SHOPPING CENTER                  -6.981e+05   1.44e+05     -4.861      0.000    -9.8e+05   -4.17e+05\n",
      "Land Use_TERMINAL/DISTRIBUTION WAREHOUSE        -6.968e+05   1.13e+05     -6.157      0.000   -9.19e+05   -4.75e+05\n",
      "Land Use_TRIPLEX                                -6.581e+05   6.09e+04    -10.806      0.000   -7.77e+05   -5.39e+05\n",
      "Land Use_VACANT RES LAND                        -7.493e+05   5.86e+04    -12.795      0.000   -8.64e+05   -6.35e+05\n",
      "Land Use_VACANT RESIDENTIAL LAND                -7.355e+05   6.03e+04    -12.205      0.000   -8.54e+05   -6.17e+05\n",
      "Land Use_ZERO LOT LINE                          -6.397e+05    5.9e+04    -10.843      0.000   -7.55e+05   -5.24e+05\n",
      "Tax District_CITY OF BELLE MEADE                -2.134e+06   1.97e+05    -10.835      0.000   -2.52e+06   -1.75e+06\n",
      "Tax District_CITY OF BERRY HILL                 -2.089e+06   1.98e+05    -10.540      0.000   -2.48e+06    -1.7e+06\n",
      "Tax District_CITY OF FOREST HILLS               -2.155e+06   1.96e+05    -10.970      0.000   -2.54e+06   -1.77e+06\n",
      "Tax District_CITY OF GOODLETTSVILLE             -2.092e+06   1.97e+05    -10.630      0.000   -2.48e+06   -1.71e+06\n",
      "Tax District_CITY OF OAK HILL                   -2.111e+06   1.96e+05    -10.761      0.000    -2.5e+06   -1.73e+06\n",
      "Tax District_GENERAL SERVICES DISTRICT           -2.11e+06   1.96e+05    -10.758      0.000   -2.49e+06   -1.73e+06\n",
      "Tax District_URBAN SERVICES DISTRICT            -2.105e+06   1.96e+05    -10.735      0.000   -2.49e+06   -1.72e+06\n",
      "Foundation Type_CRAWL                            -2.49e+06   2.29e+05    -10.869      0.000   -2.94e+06   -2.04e+06\n",
      "Foundation Type_FULL BSMT                       -2.488e+06   2.29e+05    -10.861      0.000   -2.94e+06   -2.04e+06\n",
      "Foundation Type_PIERS                           -2.416e+06    2.3e+05    -10.508      0.000   -2.87e+06   -1.97e+06\n",
      "Foundation Type_PT BSMT                         -2.473e+06   2.29e+05    -10.799      0.000   -2.92e+06   -2.02e+06\n",
      "Foundation Type_SLAB                            -2.495e+06   2.29e+05    -10.891      0.000   -2.94e+06   -2.05e+06\n",
      "Foundation Type_TYPICAL                         -2.433e+06   2.32e+05    -10.473      0.000   -2.89e+06   -1.98e+06\n",
      "Exterior Wall_BRICK                             -1.424e+06   1.38e+05    -10.318      0.000   -1.69e+06   -1.15e+06\n",
      "Exterior Wall_BRICK/FRAME                       -1.427e+06   1.38e+05    -10.336      0.000    -1.7e+06   -1.16e+06\n",
      "Exterior Wall_CONC BLK                           -1.48e+06   1.39e+05    -10.656      0.000   -1.75e+06   -1.21e+06\n",
      "Exterior Wall_FRAME                             -1.422e+06   1.38e+05    -10.305      0.000   -1.69e+06   -1.15e+06\n",
      "Exterior Wall_FRAME/STONE                       -1.392e+06   1.39e+05    -10.026      0.000   -1.66e+06   -1.12e+06\n",
      "Exterior Wall_LOG                               -1.382e+06   1.41e+05     -9.790      0.000   -1.66e+06   -1.11e+06\n",
      "Exterior Wall_METAL                             -1.382e+06   1.44e+05     -9.605      0.000   -1.66e+06    -1.1e+06\n",
      "Exterior Wall_PRECAST CONC                      -2.078e+06   1.83e+05    -11.332      0.000   -2.44e+06   -1.72e+06\n",
      "Exterior Wall_STONE                             -1.439e+06   1.38e+05    -10.415      0.000   -1.71e+06   -1.17e+06\n",
      "Exterior Wall_STUCCO                             -1.37e+06   1.38e+05     -9.901      0.000   -1.64e+06    -1.1e+06\n",
      "Absolute Value                                   1.138e+05   2317.837     49.102      0.000    1.09e+05    1.18e+05\n",
      "==============================================================================\n",
      "Omnibus:                    21628.971   Durbin-Watson:                   1.997\n",
      "Prob(Omnibus):                  0.000   Jarque-Bera (JB):         41441187.646\n",
      "Skew:                           5.569   Prob(JB):                         0.00\n",
      "Kurtosis:                     239.184   Cond. No.                     4.99e+21\n",
      "==============================================================================\n",
      "\n",
      "Notes:\n",
      "[1] Standard Errors assume that the covariance matrix of the errors is correctly specified.\n",
      "[2] The smallest eigenvalue is 1.49e-28. This might indicate that there are\n",
      "strong multicollinearity problems or that the design matrix is singular.\n"
     ]
    }
   ],
   "source": [
    "import statsmodels.api as sm\n",
    "results = sm.OLS(y_train, X_train).fit()\n",
    "print(results.summary())"
   ]
  },
  {
   "cell_type": "code",
   "execution_count": 400,
   "id": "d23bc5d1",
   "metadata": {},
   "outputs": [
    {
     "name": "stdout",
     "output_type": "stream",
     "text": [
      "Accuracy :  67.433 %\n"
     ]
    }
   ],
   "source": [
    "from sklearn.metrics import accuracy_score\n",
    "print(\"Accuracy : \" , round((lr.score(X_test, y_test)*100),3), '%')"
   ]
  },
  {
   "cell_type": "markdown",
   "id": "52654e38",
   "metadata": {},
   "source": [
    "## Decision Tree"
   ]
  },
  {
   "cell_type": "code",
   "execution_count": 245,
   "id": "6a59e2c8",
   "metadata": {},
   "outputs": [],
   "source": [
    "df4['Absolute Value'] = df4['Sale Price'] - df4['Total Value']\n",
    "status_mean = df4['Absolute Value'].mean()\n",
    "df4.loc[df4['Absolute Value'] < status_mean, ('Absolute Value')] = 0\n",
    "df4.loc[df4['Absolute Value'] >= status_mean, ('Absolute Value')] = 1"
   ]
  },
  {
   "cell_type": "code",
   "execution_count": 246,
   "id": "8626d94b",
   "metadata": {},
   "outputs": [
    {
     "name": "stdout",
     "output_type": "stream",
     "text": [
      "<class 'pandas.core.frame.DataFrame'>\n",
      "Int64Index: 23721 entries, 1 to 56615\n",
      "Data columns (total 79 columns):\n",
      " #   Column                                           Non-Null Count  Dtype  \n",
      "---  ------                                           --------------  -----  \n",
      " 0   Sale Price                                       23721 non-null  int64  \n",
      " 1   Acreage                                          23721 non-null  float64\n",
      " 2   Neighborhood                                     23721 non-null  float64\n",
      " 3   Land Value                                       23721 non-null  float64\n",
      " 4   Building Value                                   23721 non-null  float64\n",
      " 5   Total Value                                      23721 non-null  float64\n",
      " 6   Finished Area                                    23721 non-null  float64\n",
      " 7   Year Built                                       23721 non-null  float64\n",
      " 8   Bedrooms                                         23721 non-null  float64\n",
      " 9   Full Bath                                        23721 non-null  float64\n",
      " 10  Half Bath                                        23721 non-null  float64\n",
      " 11  Sale Year                                        23721 non-null  int64  \n",
      " 12  Sale Month                                       23721 non-null  int64  \n",
      " 13  House Age                                        23721 non-null  float64\n",
      " 14  Grade_code                                       23721 non-null  float64\n",
      " 15  Property City_ANTIOCH                            23721 non-null  uint8  \n",
      " 16  Property City_BRENTWOOD                          23721 non-null  uint8  \n",
      " 17  Property City_GOODLETTSVILLE                     23721 non-null  uint8  \n",
      " 18  Property City_HERMITAGE                          23721 non-null  uint8  \n",
      " 19  Property City_JOELTON                            23721 non-null  uint8  \n",
      " 20  Property City_MADISON                            23721 non-null  uint8  \n",
      " 21  Property City_MOUNT JULIET                       23721 non-null  uint8  \n",
      " 22  Property City_NASHVILLE                          23721 non-null  uint8  \n",
      " 23  Property City_OLD HICKORY                        23721 non-null  uint8  \n",
      " 24  Property City_WHITES CREEK                       23721 non-null  uint8  \n",
      " 25  Sold As Vacant_No                                23721 non-null  uint8  \n",
      " 26  Sold As Vacant_Yes                               23721 non-null  uint8  \n",
      " 27  Multiple Parcels Involved in Sale_No             23721 non-null  uint8  \n",
      " 28  Multiple Parcels Involved in Sale_Yes            23721 non-null  uint8  \n",
      " 29  Land Use_APARTMENT: LOW RISE (BUILT SINCE 1960)  23721 non-null  uint8  \n",
      " 30  Land Use_CHURCH                                  23721 non-null  uint8  \n",
      " 31  Land Use_CLUB/UNION HALL/LODGE                   23721 non-null  uint8  \n",
      " 32  Land Use_CONVENIENCE MARKET WITHOUT GAS          23721 non-null  uint8  \n",
      " 33  Land Use_DAY CARE CENTER                         23721 non-null  uint8  \n",
      " 34  Land Use_DORMITORY/BOARDING HOUSE                23721 non-null  uint8  \n",
      " 35  Land Use_DUPLEX                                  23721 non-null  uint8  \n",
      " 36  Land Use_FOREST                                  23721 non-null  uint8  \n",
      " 37  Land Use_GREENBELT                               23721 non-null  uint8  \n",
      " 38  Land Use_GREENBELT/RES\r\n",
      "GRRENBELT/RES            23721 non-null  uint8  \n",
      " 39  Land Use_LIGHT MANUFACTURING                     23721 non-null  uint8  \n",
      " 40  Land Use_MOBILE HOME                             23721 non-null  uint8  \n",
      " 41  Land Use_NON-PROFIT CHARITABLE SERVICE           23721 non-null  uint8  \n",
      " 42  Land Use_OFFICE BLDG (ONE OR TWO STORIES)        23721 non-null  uint8  \n",
      " 43  Land Use_ONE STORY GENERAL RETAIL STORE          23721 non-null  uint8  \n",
      " 44  Land Use_PARSONAGE                               23721 non-null  uint8  \n",
      " 45  Land Use_QUADPLEX                                23721 non-null  uint8  \n",
      " 46  Land Use_RESIDENTIAL COMBO/MISC                  23721 non-null  uint8  \n",
      " 47  Land Use_SINGLE FAMILY                           23721 non-null  uint8  \n",
      " 48  Land Use_SPLIT CLASS                             23721 non-null  uint8  \n",
      " 49  Land Use_STRIP SHOPPING CENTER                   23721 non-null  uint8  \n",
      " 50  Land Use_TERMINAL/DISTRIBUTION WAREHOUSE         23721 non-null  uint8  \n",
      " 51  Land Use_TRIPLEX                                 23721 non-null  uint8  \n",
      " 52  Land Use_VACANT RES LAND                         23721 non-null  uint8  \n",
      " 53  Land Use_VACANT RESIDENTIAL LAND                 23721 non-null  uint8  \n",
      " 54  Land Use_ZERO LOT LINE                           23721 non-null  uint8  \n",
      " 55  Tax District_CITY OF BELLE MEADE                 23721 non-null  uint8  \n",
      " 56  Tax District_CITY OF BERRY HILL                  23721 non-null  uint8  \n",
      " 57  Tax District_CITY OF FOREST HILLS                23721 non-null  uint8  \n",
      " 58  Tax District_CITY OF GOODLETTSVILLE              23721 non-null  uint8  \n",
      " 59  Tax District_CITY OF OAK HILL                    23721 non-null  uint8  \n",
      " 60  Tax District_GENERAL SERVICES DISTRICT           23721 non-null  uint8  \n",
      " 61  Tax District_URBAN SERVICES DISTRICT             23721 non-null  uint8  \n",
      " 62  Foundation Type_CRAWL                            23721 non-null  uint8  \n",
      " 63  Foundation Type_FULL BSMT                        23721 non-null  uint8  \n",
      " 64  Foundation Type_PIERS                            23721 non-null  uint8  \n",
      " 65  Foundation Type_PT BSMT                          23721 non-null  uint8  \n",
      " 66  Foundation Type_SLAB                             23721 non-null  uint8  \n",
      " 67  Foundation Type_TYPICAL                          23721 non-null  uint8  \n",
      " 68  Exterior Wall_BRICK                              23721 non-null  uint8  \n",
      " 69  Exterior Wall_BRICK/FRAME                        23721 non-null  uint8  \n",
      " 70  Exterior Wall_CONC BLK                           23721 non-null  uint8  \n",
      " 71  Exterior Wall_FRAME                              23721 non-null  uint8  \n",
      " 72  Exterior Wall_FRAME/STONE                        23721 non-null  uint8  \n",
      " 73  Exterior Wall_LOG                                23721 non-null  uint8  \n",
      " 74  Exterior Wall_METAL                              23721 non-null  uint8  \n",
      " 75  Exterior Wall_PRECAST CONC                       23721 non-null  uint8  \n",
      " 76  Exterior Wall_STONE                              23721 non-null  uint8  \n",
      " 77  Exterior Wall_STUCCO                             23721 non-null  uint8  \n",
      " 78  Absolute Value                                   23721 non-null  float64\n",
      "dtypes: float64(13), int64(3), uint8(63)\n",
      "memory usage: 4.5 MB\n"
     ]
    }
   ],
   "source": [
    "df4.info()"
   ]
  },
  {
   "cell_type": "code",
   "execution_count": 247,
   "id": "993b0d98",
   "metadata": {},
   "outputs": [],
   "source": [
    "df5 = df4.drop(columns = ['Sale Price','Total Value','Building Value','Land Value'])"
   ]
  },
  {
   "cell_type": "code",
   "execution_count": 248,
   "id": "7c0383fd",
   "metadata": {},
   "outputs": [],
   "source": [
    "y = df5['Absolute Value']\n",
    "\n",
    "X = df5.drop('Absolute Value',axis = 1)"
   ]
  },
  {
   "cell_type": "code",
   "execution_count": 249,
   "id": "e8505ecd",
   "metadata": {},
   "outputs": [],
   "source": [
    "X_train, X_test, y_train, y_test = train_test_split(X, y, random_state = 42, test_size = 0.2)"
   ]
  },
  {
   "cell_type": "code",
   "execution_count": 250,
   "id": "ea9dd1c8",
   "metadata": {},
   "outputs": [],
   "source": [
    "from sklearn import tree\n",
    "from sklearn.tree import DecisionTreeClassifier # Tree algorithm\n",
    "from sklearn.tree import plot_tree  # Tree plotting"
   ]
  },
  {
   "cell_type": "code",
   "execution_count": 343,
   "id": "97d61a16",
   "metadata": {},
   "outputs": [
    {
     "name": "stdout",
     "output_type": "stream",
     "text": [
      "Wall time: 128 ms\n"
     ]
    },
    {
     "data": {
      "text/plain": [
       "DecisionTreeClassifier(max_depth=20, random_state=100)"
      ]
     },
     "execution_count": 343,
     "metadata": {},
     "output_type": "execute_result"
    }
   ],
   "source": [
    "%%time\n",
    "model_decision_tree = DecisionTreeClassifier(random_state = 100, max_depth = 20)\n",
    "model_decision_tree.fit(X_train, y_train)"
   ]
  },
  {
   "cell_type": "code",
   "execution_count": 344,
   "id": "83673f48",
   "metadata": {},
   "outputs": [
    {
     "data": {
      "text/plain": [
       "array([[1715,  782],\n",
       "       [ 682, 1566]], dtype=int64)"
      ]
     },
     "execution_count": 344,
     "metadata": {},
     "output_type": "execute_result"
    }
   ],
   "source": [
    "model_decision_tree.score(X_train, y_train)\n",
    "y_pred_dt = model_decision_tree.predict(X_test)\n",
    "confusion_matrix(y_test, y_pred_dt)"
   ]
  },
  {
   "cell_type": "code",
   "execution_count": 253,
   "id": "73bf2ef9",
   "metadata": {},
   "outputs": [],
   "source": [
    "from sklearn.metrics import precision_score, recall_score, f1_score, accuracy_score, mean_squared_error"
   ]
  },
  {
   "cell_type": "code",
   "execution_count": 254,
   "id": "2c948691",
   "metadata": {},
   "outputs": [
    {
     "name": "stdout",
     "output_type": "stream",
     "text": [
      "              precision    recall  f1-score   support\n",
      "\n",
      "         0.0       0.72      0.69      0.70      2497\n",
      "         1.0       0.67      0.70      0.68      2248\n",
      "\n",
      "    accuracy                           0.69      4745\n",
      "   macro avg       0.69      0.69      0.69      4745\n",
      "weighted avg       0.69      0.69      0.69      4745\n",
      "\n"
     ]
    }
   ],
   "source": [
    "print(classification_report(y_test, y_pred_dt))"
   ]
  },
  {
   "cell_type": "code",
   "execution_count": 255,
   "id": "3c0a3bd8",
   "metadata": {},
   "outputs": [
    {
     "data": {
      "image/png": "[encoded data removed]",
      "text/plain": [
       "<Figure size 432x288 with 1 Axes>"
      ]
     },
     "metadata": {
      "needs_background": "light"
     },
     "output_type": "display_data"
    }
   ],
   "source": [
    "from sklearn import metrics\n",
    "fpr, tpr, _ = metrics.roc_curve(y_test,y_pred_dt)\n",
    "\n",
    "#create ROC curve\n",
    "plt.plot(fpr,tpr)\n",
    "plt.ylabel('True Positive Rate')\n",
    "plt.xlabel('False Positive Rate')\n",
    "plt.show()"
   ]
  },
  {
   "cell_type": "markdown",
   "id": "5e629344",
   "metadata": {},
   "source": [
    "## Random Forest"
   ]
  },
  {
   "cell_type": "code",
   "execution_count": 256,
   "id": "a81b6b51",
   "metadata": {},
   "outputs": [],
   "source": [
    "from sklearn.ensemble import RandomForestClassifier\n",
    "model_RF = RandomForestClassifier(n_estimators=160, criterion= 'gini', random_state = 43)"
   ]
  },
  {
   "cell_type": "code",
   "execution_count": 345,
   "id": "0706213e",
   "metadata": {},
   "outputs": [
    {
     "name": "stdout",
     "output_type": "stream",
     "text": [
      "Wall time: 2.96 s\n"
     ]
    },
    {
     "data": {
      "text/plain": [
       "RandomForestClassifier(n_estimators=160, random_state=43)"
      ]
     },
     "execution_count": 345,
     "metadata": {},
     "output_type": "execute_result"
    }
   ],
   "source": [
    "%%time\n",
    "model_RF.fit(X_train, y_train)"
   ]
  },
  {
   "cell_type": "code",
   "execution_count": 258,
   "id": "0ca9ac5a",
   "metadata": {},
   "outputs": [
    {
     "data": {
      "text/plain": [
       "0.9994203204047217"
      ]
     },
     "execution_count": 258,
     "metadata": {},
     "output_type": "execute_result"
    }
   ],
   "source": [
    "model_RF.score(X_train, y_train)"
   ]
  },
  {
   "cell_type": "code",
   "execution_count": 259,
   "id": "f5daddad",
   "metadata": {},
   "outputs": [
    {
     "data": {
      "text/plain": [
       "array([[1868,  629],\n",
       "       [ 574, 1674]], dtype=int64)"
      ]
     },
     "execution_count": 259,
     "metadata": {},
     "output_type": "execute_result"
    }
   ],
   "source": [
    "model_RF.score(X_test, y_test)\n",
    "y_pred_RF = model_RF.predict(X_test)\n",
    "confusion_matrix(y_test, y_pred_RF)"
   ]
  },
  {
   "cell_type": "code",
   "execution_count": null,
   "id": "5151fdba",
   "metadata": {},
   "outputs": [],
   "source": []
  },
  {
   "cell_type": "code",
   "execution_count": null,
   "id": "4190c126",
   "metadata": {},
   "outputs": [],
   "source": []
  },
  {
   "cell_type": "code",
   "execution_count": null,
   "id": "88d51104",
   "metadata": {},
   "outputs": [],
   "source": []
  },
  {
   "cell_type": "code",
   "execution_count": 260,
   "id": "8ebbf03a",
   "metadata": {},
   "outputs": [
    {
     "name": "stdout",
     "output_type": "stream",
     "text": [
      "              precision    recall  f1-score   support\n",
      "\n",
      "         0.0       0.76      0.75      0.76      2497\n",
      "         1.0       0.73      0.74      0.74      2248\n",
      "\n",
      "    accuracy                           0.75      4745\n",
      "   macro avg       0.75      0.75      0.75      4745\n",
      "weighted avg       0.75      0.75      0.75      4745\n",
      "\n"
     ]
    }
   ],
   "source": [
    "print(classification_report(y_test, y_pred_RF))"
   ]
  },
  {
   "cell_type": "code",
   "execution_count": 261,
   "id": "cace8260",
   "metadata": {},
   "outputs": [
    {
     "data": {
      "image/png": "[encoded data removed]",
      "text/plain": [
       "<Figure size 432x288 with 1 Axes>"
      ]
     },
     "metadata": {
      "needs_background": "light"
     },
     "output_type": "display_data"
    }
   ],
   "source": [
    "from sklearn import metrics\n",
    "fpr, tpr, _ = metrics.roc_curve(y_test,y_pred_RF)\n",
    "\n",
    "#create ROC curve\n",
    "plt.plot(fpr,tpr)\n",
    "plt.ylabel('True Positive Rate')\n",
    "plt.xlabel('False Positive Rate')\n",
    "plt.show()"
   ]
  },
  {
   "cell_type": "markdown",
   "id": "37984eed",
   "metadata": {},
   "source": [
    "## Gradient Boosting"
   ]
  },
  {
   "cell_type": "code",
   "execution_count": 262,
   "id": "a69c53c4",
   "metadata": {},
   "outputs": [],
   "source": [
    "from sklearn.ensemble import GradientBoostingClassifier"
   ]
  },
  {
   "cell_type": "code",
   "execution_count": 329,
   "id": "d0eaf951",
   "metadata": {},
   "outputs": [],
   "source": [
    "grad_boosting_classifier = GradientBoostingClassifier(learning_rate = 0.4, max_depth = 16,n_estimators = 160,loss='exponential',criterion = 'squared_error')"
   ]
  },
  {
   "cell_type": "code",
   "execution_count": 346,
   "id": "c1d3664e",
   "metadata": {},
   "outputs": [
    {
     "name": "stdout",
     "output_type": "stream",
     "text": [
      "Wall time: 26.6 s\n"
     ]
    },
    {
     "data": {
      "text/plain": [
       "GradientBoostingClassifier(criterion='squared_error', learning_rate=0.4,\n",
       "                           loss='exponential', max_depth=16, n_estimators=160)"
      ]
     },
     "execution_count": 346,
     "metadata": {},
     "output_type": "execute_result"
    }
   ],
   "source": [
    "%%time\n",
    "grad_boosting_classifier.fit(X_train, y_train)"
   ]
  },
  {
   "cell_type": "code",
   "execution_count": 331,
   "id": "878499b4",
   "metadata": {},
   "outputs": [
    {
     "data": {
      "text/plain": [
       "0.9994203204047217"
      ]
     },
     "execution_count": 331,
     "metadata": {},
     "output_type": "execute_result"
    }
   ],
   "source": [
    "grad_boosting_classifier.score(X_train, y_train)"
   ]
  },
  {
   "cell_type": "code",
   "execution_count": 332,
   "id": "2b58e3b5",
   "metadata": {},
   "outputs": [
    {
     "data": {
      "text/plain": [
       "array([[1856,  562],\n",
       "       [ 641, 1686]], dtype=int64)"
      ]
     },
     "execution_count": 332,
     "metadata": {},
     "output_type": "execute_result"
    }
   ],
   "source": [
    "grad_boosting_classifier.score(X_test, y_test)\n",
    "y_pred_gbm = grad_boosting_classifier.predict(X_test)\n",
    "confusion_matrix(y_pred_gbm, y_test)"
   ]
  },
  {
   "cell_type": "code",
   "execution_count": 333,
   "id": "3f931119",
   "metadata": {},
   "outputs": [
    {
     "name": "stdout",
     "output_type": "stream",
     "text": [
      "              precision    recall  f1-score   support\n",
      "\n",
      "         0.0       0.77      0.74      0.76      2497\n",
      "         1.0       0.72      0.75      0.74      2248\n",
      "\n",
      "    accuracy                           0.75      4745\n",
      "   macro avg       0.75      0.75      0.75      4745\n",
      "weighted avg       0.75      0.75      0.75      4745\n",
      "\n"
     ]
    }
   ],
   "source": [
    "print(classification_report(y_test, y_pred_gbm))"
   ]
  },
  {
   "cell_type": "code",
   "execution_count": 334,
   "id": "38c42839",
   "metadata": {},
   "outputs": [
    {
     "data": {
      "image/png": "[encoded data removed]",
      "text/plain": [
       "<Figure size 432x288 with 1 Axes>"
      ]
     },
     "metadata": {
      "needs_background": "light"
     },
     "output_type": "display_data"
    }
   ],
   "source": [
    "from sklearn import metrics\n",
    "fpr, tpr, _ = metrics.roc_curve(y_test,y_pred_gbm)\n",
    "\n",
    "#create ROC curve\n",
    "plt.plot(fpr,tpr)\n",
    "plt.ylabel('True Positive Rate')\n",
    "plt.xlabel('False Positive Rate')\n",
    "plt.show()"
   ]
  },
  {
   "cell_type": "code",
   "execution_count": 269,
   "id": "4c779edd",
   "metadata": {},
   "outputs": [],
   "source": [
    "models = []\n",
    "#models.append(('Linear Regression', LinearRegression()))\n",
    "models.append(('Decision Tree Classifier', DecisionTreeClassifier()))\n",
    "models.append(('Random Forest Classifier', RandomForestClassifier()))\n",
    "models.append(('Gradient Boosting Classifier', GradientBoostingClassifier()))"
   ]
  },
  {
   "cell_type": "code",
   "execution_count": 270,
   "id": "da55a340",
   "metadata": {},
   "outputs": [],
   "source": [
    "from sklearn import model_selection"
   ]
  },
  {
   "cell_type": "code",
   "execution_count": 342,
   "id": "c26c0e25",
   "metadata": {},
   "outputs": [
    {
     "name": "stdout",
     "output_type": "stream",
     "text": [
      "Decision Tree Classifier: 0.656208 (0.053938)\n",
      "Random Forest Classifier: 0.729771 (0.052220)\n",
      "Gradient Boosting Classifier: 0.741195 (0.050262)\n"
     ]
    }
   ],
   "source": [
    "results = []\n",
    "names = []\n",
    "scoring = 'accuracy'\n",
    "for name, model in models:\n",
    "    kfold = model_selection.KFold(n_splits=20)\n",
    "    cv_results = model_selection.cross_val_score(model, X, y, cv=kfold, scoring=scoring)\n",
    "    results.append(cv_results)\n",
    "    names.append(name)\n",
    "    msg = \"%s: %f (%f)\" % (name, cv_results.mean(), cv_results.std())\n",
    "    print(msg)"
   ]
  },
  {
   "cell_type": "code",
   "execution_count": 339,
   "id": "fc93cfc8",
   "metadata": {},
   "outputs": [
    {
     "data": {
      "image/png": "[encoded data removed]",
      "text/plain": [
       "<Figure size 720x432 with 1 Axes>"
      ]
     },
     "metadata": {
      "needs_background": "light"
     },
     "output_type": "display_data"
    }
   ],
   "source": [
    "fig = plt.figure(figsize=(10,6))\n",
    "fig.suptitle('Algorithm Comparison')\n",
    "ax = fig.add_subplot(111)\n",
    "plt.boxplot(results)\n",
    "ax.set_xticklabels(names)\n",
    "plt.show()"
   ]
  },
  {
   "cell_type": "code",
   "execution_count": 387,
   "id": "13c11665",
   "metadata": {},
   "outputs": [
    {
     "data": {
      "text/plain": [
       "Text(0, 0.5, 'Time Elapsed in seconds')"
      ]
     },
     "execution_count": 387,
     "metadata": {},
     "output_type": "execute_result"
    },
    {
     "data": {
      "image/png": "[encoded data removed]",
      "text/plain": [
       "<Figure size 720x432 with 1 Axes>"
      ]
     },
     "metadata": {
      "needs_background": "light"
     },
     "output_type": "display_data"
    }
   ],
   "source": [
    "Time_df=[['Decision_Tree',0.128],['Random_Forest',2.96],['Gradient_Boosting',26.6]]\n",
    "\n",
    "Time_for_models=pd.DataFrame(Time_df,columns=['Model','Time Taken'])\n",
    "\n",
    "plt.figure(figsize=(10,6))\n",
    "ax = sns.barplot(x='Model', y='Time Taken', data=Time_for_models)\n",
    "ax.bar_label(ax.containers[0])\n",
    "ax.set_title('Time taken by models')\n",
    "ax.set_ylabel('Time Elapsed in seconds')"
   ]
  },
  {
   "cell_type": "code",
   "execution_count": null,
   "id": "4702666c",
   "metadata": {},
   "outputs": [],
   "source": []
  },
  {
   "cell_type": "code",
   "execution_count": null,
   "id": "3b423abd",
   "metadata": {},
   "outputs": [],
   "source": []
  },
  {
   "cell_type": "code",
   "execution_count": null,
   "id": "84cbbc54",
   "metadata": {},
   "outputs": [],
   "source": []
  },
  {
   "cell_type": "code",
   "execution_count": null,
   "id": "2ad77fdc",
   "metadata": {},
   "outputs": [],
   "source": []
  },
  {
   "cell_type": "code",
   "execution_count": null,
   "id": "da5d9c71",
   "metadata": {},
   "outputs": [],
   "source": []
  },
  {
   "cell_type": "code",
   "execution_count": null,
   "id": "8a2b1ef3",
   "metadata": {},
   "outputs": [],
   "source": []
  }
 ],
 "metadata": {
  "kernelspec": {
   "display_name": "Python 3 (ipykernel)",
   "language": "python",
   "name": "python3"
  },
  "language_info": {
   "codemirror_mode": {
    "name": "ipython",
    "version": 3
   },
   "file_extension": ".py",
   "mimetype": "text/x-python",
   "name": "python",
   "nbconvert_exporter": "python",
   "pygments_lexer": "ipython3",
   "version": "3.9.7"
  }
 },
 "nbformat": 4,
 "nbformat_minor": 5
}
