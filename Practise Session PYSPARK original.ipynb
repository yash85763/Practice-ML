{
 "cells": [
  {
   "cell_type": "code",
   "execution_count": 14,
   "id": "1d9cc5ff",
   "metadata": {},
   "outputs": [],
   "source": [
    "import pyspark"
   ]
  },
  {
   "cell_type": "markdown",
   "id": "ddf53d37",
   "metadata": {},
   "source": [
    "## Contents: <a id = 'Content'></a>\n",
    "1. [Problem 1](#problem__1) \n",
    "\n",
    "\n",
    "2. Problem 2 - [Linear Regression](#problem__2)\n",
    "\n",
    "    1. [Acceleration as Dependent Variable](#problem__2_1)\n",
    "    2. [Horsepower as Dependent Variable](#problem__2_2)\n",
    "\n",
    "\n",
    "3. Problem 3 - [Decision Tree](#problem__3)\n",
    "\n",
    "    1. [Horsepower as Dependent Variable](#problem__3_1)\n",
    "    2. [Acceleration as Dependent Variable](#problem__3_2)"
   ]
  },
  {
   "cell_type": "code",
   "execution_count": 2,
   "id": "09e36437",
   "metadata": {},
   "outputs": [],
   "source": [
    "from pyspark.sql import SparkSession"
   ]
  },
  {
   "cell_type": "code",
   "execution_count": 3,
   "id": "f8dfc1f3",
   "metadata": {},
   "outputs": [],
   "source": [
    "spark = SparkSession.builder.appName('Practise').getOrCreate()"
   ]
  },
  {
   "cell_type": "code",
   "execution_count": 4,
   "id": "f9e87f89",
   "metadata": {},
   "outputs": [
    {
     "data": {
      "text/html": [
       "\n",
       "            <div>\n",
       "                <p><b>SparkSession - in-memory</b></p>\n",
       "                \n",
       "        <div>\n",
       "            <p><b>SparkContext</b></p>\n",
       "\n",
       "            <p><a href=\"http://Yadav:4040\">Spark UI</a></p>\n",
       "\n",
       "            <dl>\n",
       "              <dt>Version</dt>\n",
       "                <dd><code>v3.3.0</code></dd>\n",
       "              <dt>Master</dt>\n",
       "                <dd><code>local[*]</code></dd>\n",
       "              <dt>AppName</dt>\n",
       "                <dd><code>Practise</code></dd>\n",
       "            </dl>\n",
       "        </div>\n",
       "        \n",
       "            </div>\n",
       "        "
      ],
      "text/plain": [
       "<pyspark.sql.session.SparkSession at 0x1733ca13e50>"
      ]
     },
     "execution_count": 4,
     "metadata": {},
     "output_type": "execute_result"
    }
   ],
   "source": [
    "spark"
   ]
  },
  {
   "cell_type": "code",
   "execution_count": 5,
   "id": "b099e203",
   "metadata": {},
   "outputs": [],
   "source": [
    "df_pyspark = spark.read.csv('Small_Car_Data.csv')"
   ]
  },
  {
   "cell_type": "code",
   "execution_count": 6,
   "id": "6334c188",
   "metadata": {},
   "outputs": [
    {
     "data": {
      "text/plain": [
       "DataFrame[_c0: string, _c1: string, _c2: string, _c3: string, _c4: string, _c5: string, _c6: string, _c7: string, _c8: string, _c9: string, _c10: string]"
      ]
     },
     "execution_count": 6,
     "metadata": {},
     "output_type": "execute_result"
    }
   ],
   "source": [
    "df_pyspark"
   ]
  },
  {
   "cell_type": "code",
   "execution_count": 7,
   "id": "c7168f7e",
   "metadata": {},
   "outputs": [
    {
     "name": "stdout",
     "output_type": "stream",
     "text": [
      "+----+------------+---------+------------+----------+-------------+--------------------+----------+---+-------+------+\n",
      "| _c0|         _c1|      _c2|         _c3|       _c4|          _c5|                 _c6|       _c7|_c8|    _c9|  _c10|\n",
      "+----+------------+---------+------------+----------+-------------+--------------------+----------+---+-------+------+\n",
      "|null|Acceleration|Cylinders|Displacement|Horsepower| Manufacturer|               Model|Model_Year|MPG| Origin|Weight|\n",
      "|   1|          12|        8|         307|       130|chevrolet    |chevrolet chevell...|        70| 18|USA    |  3504|\n",
      "|   2|        11.5|        8|         350|       165|buick        |buick skylark 320...|        70| 15|USA    |  3693|\n",
      "|   3|          11|        8|         318|       150|plymouth     |plymouth satellit...|        70| 18|USA    |  3436|\n",
      "|   4|          12|        8|         304|       150|amc          |amc rebel sst    ...|        70| 16|USA    |  3433|\n",
      "|   5|        10.5|        8|         302|       140|ford         |ford torino      ...|        70| 17|USA    |  3449|\n",
      "|   6|          10|        8|         429|       198|ford         |ford galaxie 500 ...|        70| 15|USA    |  4341|\n",
      "|   7|           9|        8|         454|       220|chevrolet    |chevrolet impala ...|        70| 14|USA    |  4354|\n",
      "|   8|         8.5|        8|         440|       215|plymouth     |plymouth fury iii...|        70| 14|USA    |  4312|\n",
      "|   9|          10|        8|         455|       225|pontiac      |pontiac catalina ...|        70| 14|USA    |  4425|\n",
      "|  10|         8.5|        8|         390|       190|amc          |amc ambassador dp...|        70| 15|USA    |  3850|\n",
      "|  11|        17.5|        4|         133|       115|citroen      |citroen ds-21 pal...|        70| 14|France |  3090|\n",
      "|  12|        11.5|        8|         350|       165|chevrolet    |chevrolet chevell...|        70| 16|USA    |  4142|\n",
      "|  13|          11|        8|         351|       153|ford         |ford torino (sw) ...|        70| 17|USA    |  4034|\n",
      "|  14|        10.5|        8|         383|       175|plymouth     |plymouth satellit...|        70| 19|USA    |  4166|\n",
      "|  15|          11|        8|         360|       175|amc          |amc rebel sst (sw...|        70| 20|USA    |  3850|\n",
      "|  16|          10|        8|         383|       170|dodge        |dodge challenger ...|        70| 15|USA    |  3563|\n",
      "|  17|           8|        8|         340|       160|plymouth     |plymouth 'cuda 34...|        70| 14|USA    |  3609|\n",
      "|  18|           8|        8|         302|       140|ford         |ford mustang boss...|        70| 16|USA    |  3353|\n",
      "|  19|         9.5|        8|         400|       150|chevrolet    |chevrolet monte c...|        70| 15|USA    |  3761|\n",
      "+----+------------+---------+------------+----------+-------------+--------------------+----------+---+-------+------+\n",
      "only showing top 20 rows\n",
      "\n"
     ]
    }
   ],
   "source": [
    "df_pyspark.show()"
   ]
  },
  {
   "cell_type": "code",
   "execution_count": 87,
   "id": "e1d9964d",
   "metadata": {},
   "outputs": [],
   "source": [
    "#this can be done by the following way also\n",
    "## df_pyspark = spark.read.csv('Small_Car_Data.csv', header = True, inferSchema=True)\n",
    "## Infer Schema is used because initially the schema is read as string but as we want integer value for some features, That is why we0 used inferSchema.\n",
    "df_pyspark = spark.read.option('header', 'true').csv('Small_Car_Data.csv', inferSchema=True)"
   ]
  },
  {
   "cell_type": "markdown",
   "id": "65e07603",
   "metadata": {},
   "source": [
    "### Problem_1 EDA <a id = problem__1></a>\n",
    "- This is EDA, if you want to skip to Linear regression, click [here](#Lin_Reg_Problem_1)"
   ]
  },
  {
   "cell_type": "code",
   "execution_count": 88,
   "id": "ec0bd785",
   "metadata": {},
   "outputs": [
    {
     "name": "stdout",
     "output_type": "stream",
     "text": [
      "+---+------------+---------+------------+----------+-------------+--------------------+----------+----+-------+------+\n",
      "|_c0|Acceleration|Cylinders|Displacement|Horsepower| Manufacturer|               Model|Model_Year| MPG| Origin|Weight|\n",
      "+---+------------+---------+------------+----------+-------------+--------------------+----------+----+-------+------+\n",
      "|  1|        12.0|        8|         307|       130|chevrolet    |chevrolet chevell...|        70|18.0|USA    |  3504|\n",
      "|  2|        11.5|        8|         350|       165|buick        |buick skylark 320...|        70|15.0|USA    |  3693|\n",
      "|  3|        11.0|        8|         318|       150|plymouth     |plymouth satellit...|        70|18.0|USA    |  3436|\n",
      "|  4|        12.0|        8|         304|       150|amc          |amc rebel sst    ...|        70|16.0|USA    |  3433|\n",
      "|  5|        10.5|        8|         302|       140|ford         |ford torino      ...|        70|17.0|USA    |  3449|\n",
      "|  6|        10.0|        8|         429|       198|ford         |ford galaxie 500 ...|        70|15.0|USA    |  4341|\n",
      "|  7|         9.0|        8|         454|       220|chevrolet    |chevrolet impala ...|        70|14.0|USA    |  4354|\n",
      "|  8|         8.5|        8|         440|       215|plymouth     |plymouth fury iii...|        70|14.0|USA    |  4312|\n",
      "|  9|        10.0|        8|         455|       225|pontiac      |pontiac catalina ...|        70|14.0|USA    |  4425|\n",
      "| 10|         8.5|        8|         390|       190|amc          |amc ambassador dp...|        70|15.0|USA    |  3850|\n",
      "| 11|        17.5|        4|         133|       115|citroen      |citroen ds-21 pal...|        70|14.0|France |  3090|\n",
      "| 12|        11.5|        8|         350|       165|chevrolet    |chevrolet chevell...|        70|16.0|USA    |  4142|\n",
      "| 13|        11.0|        8|         351|       153|ford         |ford torino (sw) ...|        70|17.0|USA    |  4034|\n",
      "| 14|        10.5|        8|         383|       175|plymouth     |plymouth satellit...|        70|19.0|USA    |  4166|\n",
      "| 15|        11.0|        8|         360|       175|amc          |amc rebel sst (sw...|        70|20.0|USA    |  3850|\n",
      "| 16|        10.0|        8|         383|       170|dodge        |dodge challenger ...|        70|15.0|USA    |  3563|\n",
      "| 17|         8.0|        8|         340|       160|plymouth     |plymouth 'cuda 34...|        70|14.0|USA    |  3609|\n",
      "| 18|         8.0|        8|         302|       140|ford         |ford mustang boss...|        70|16.0|USA    |  3353|\n",
      "| 19|         9.5|        8|         400|       150|chevrolet    |chevrolet monte c...|        70|15.0|USA    |  3761|\n",
      "| 20|        10.0|        8|         455|       225|buick        |buick estate wago...|        70|14.0|USA    |  3086|\n",
      "+---+------------+---------+------------+----------+-------------+--------------------+----------+----+-------+------+\n",
      "only showing top 20 rows\n",
      "\n"
     ]
    }
   ],
   "source": [
    "df_pyspark.show()"
   ]
  },
  {
   "cell_type": "code",
   "execution_count": 10,
   "id": "72fed440",
   "metadata": {},
   "outputs": [
    {
     "name": "stdout",
     "output_type": "stream",
     "text": [
      "root\n",
      " |-- _c0: integer (nullable = true)\n",
      " |-- Acceleration: double (nullable = true)\n",
      " |-- Cylinders: integer (nullable = true)\n",
      " |-- Displacement: integer (nullable = true)\n",
      " |-- Horsepower: integer (nullable = true)\n",
      " |-- Manufacturer: string (nullable = true)\n",
      " |-- Model: string (nullable = true)\n",
      " |-- Model_Year: integer (nullable = true)\n",
      " |-- MPG: double (nullable = true)\n",
      " |-- Origin: string (nullable = true)\n",
      " |-- Weight: integer (nullable = true)\n",
      "\n"
     ]
    }
   ],
   "source": [
    "# to check the data type of the dataframe\n",
    "df_pyspark.printSchema()"
   ]
  },
  {
   "cell_type": "code",
   "execution_count": 11,
   "id": "0d6cd198",
   "metadata": {},
   "outputs": [
    {
     "name": "stdout",
     "output_type": "stream",
     "text": [
      "+------------+----------+\n",
      "|Displacement|Horsepower|\n",
      "+------------+----------+\n",
      "|         307|       130|\n",
      "|         350|       165|\n",
      "|         318|       150|\n",
      "|         304|       150|\n",
      "|         302|       140|\n",
      "|         429|       198|\n",
      "|         454|       220|\n",
      "|         440|       215|\n",
      "|         455|       225|\n",
      "|         390|       190|\n",
      "|         133|       115|\n",
      "|         350|       165|\n",
      "|         351|       153|\n",
      "|         383|       175|\n",
      "|         360|       175|\n",
      "|         383|       170|\n",
      "|         340|       160|\n",
      "|         302|       140|\n",
      "|         400|       150|\n",
      "|         455|       225|\n",
      "+------------+----------+\n",
      "only showing top 20 rows\n",
      "\n"
     ]
    }
   ],
   "source": [
    "df_part1 = df_pyspark.select(['Displacement', 'Horsepower'])\n",
    "df_part1.show()"
   ]
  },
  {
   "cell_type": "code",
   "execution_count": 12,
   "id": "a2d92aba",
   "metadata": {},
   "outputs": [
    {
     "name": "stdout",
     "output_type": "stream",
     "text": [
      "root\n",
      " |-- Displacement: integer (nullable = true)\n",
      " |-- Horsepower: integer (nullable = true)\n",
      "\n"
     ]
    }
   ],
   "source": [
    "df_part1.printSchema()"
   ]
  },
  {
   "cell_type": "code",
   "execution_count": 13,
   "id": "b884c8c3",
   "metadata": {},
   "outputs": [
    {
     "name": "stdout",
     "output_type": "stream",
     "text": [
      "+-------+------------------+------------------+\n",
      "|summary|      Displacement|        Horsepower|\n",
      "+-------+------------------+------------------+\n",
      "|  count|               100|               100|\n",
      "|   mean|             207.6|            111.83|\n",
      "| stddev|111.77448435817251|45.345153316456326|\n",
      "|    min|                85|                46|\n",
      "|    max|               455|               225|\n",
      "+-------+------------------+------------------+\n",
      "\n"
     ]
    }
   ],
   "source": [
    "df_part1.describe().show()"
   ]
  },
  {
   "cell_type": "code",
   "execution_count": 23,
   "id": "5901a3ef",
   "metadata": {},
   "outputs": [],
   "source": [
    "## adding columns in pyspark\n",
    "\n",
    "## this does not have inplace attribute, therefore we If we nne to implement, we need to assign it to something\n",
    "\n",
    "## df.withColumn('New_columnName', condition)\n",
    "## sample condition -- df.['displacement']/2"
   ]
  },
  {
   "cell_type": "code",
   "execution_count": 22,
   "id": "b5a32ce2",
   "metadata": {},
   "outputs": [],
   "source": [
    "## Dropping the columns\n",
    "\n",
    "## this does not have inplace attribute, therefore we If we nne to implement, we need to assign it to something\n",
    "\n",
    "## df.drop('columnName')"
   ]
  },
  {
   "cell_type": "code",
   "execution_count": 24,
   "id": "8287bab3",
   "metadata": {},
   "outputs": [],
   "source": [
    "## renaming the df\n",
    "## df.withColumnRenamed('columnName', 'NewColumnName')"
   ]
  },
  {
   "cell_type": "markdown",
   "id": "407890b4",
   "metadata": {},
   "source": [
    "<hr style=\"border:2px solid gray\">"
   ]
  },
  {
   "cell_type": "markdown",
   "id": "7871b284",
   "metadata": {},
   "source": [
    "## Linear regression for Problem 1 <a id = 'Lin_Reg_Problem_1'></a>\n",
    "- Go to [Contents](#Content) "
   ]
  },
  {
   "cell_type": "code",
   "execution_count": 15,
   "id": "65630d81",
   "metadata": {},
   "outputs": [],
   "source": [
    "from pyspark.ml.feature import VectorAssembler\n",
    "feature_assembler = VectorAssembler(inputCols = ['Displacement'], outputCol='Indexed_displacement')\n",
    "\n"
   ]
  },
  {
   "cell_type": "code",
   "execution_count": 16,
   "id": "abbfa1ab",
   "metadata": {},
   "outputs": [
    {
     "name": "stdout",
     "output_type": "stream",
     "text": [
      "+------------+----------+--------------------+\n",
      "|Displacement|Horsepower|Indexed_displacement|\n",
      "+------------+----------+--------------------+\n",
      "|         307|       130|             [307.0]|\n",
      "|         350|       165|             [350.0]|\n",
      "|         318|       150|             [318.0]|\n",
      "|         304|       150|             [304.0]|\n",
      "|         302|       140|             [302.0]|\n",
      "|         429|       198|             [429.0]|\n",
      "|         454|       220|             [454.0]|\n",
      "|         440|       215|             [440.0]|\n",
      "|         455|       225|             [455.0]|\n",
      "|         390|       190|             [390.0]|\n",
      "|         133|       115|             [133.0]|\n",
      "|         350|       165|             [350.0]|\n",
      "|         351|       153|             [351.0]|\n",
      "|         383|       175|             [383.0]|\n",
      "|         360|       175|             [360.0]|\n",
      "|         383|       170|             [383.0]|\n",
      "|         340|       160|             [340.0]|\n",
      "|         302|       140|             [302.0]|\n",
      "|         400|       150|             [400.0]|\n",
      "|         455|       225|             [455.0]|\n",
      "+------------+----------+--------------------+\n",
      "only showing top 20 rows\n",
      "\n"
     ]
    }
   ],
   "source": [
    "df_LR_part1 = feature_assembler.transform(df_part1)\n",
    "df_LR_part1.show()"
   ]
  },
  {
   "cell_type": "code",
   "execution_count": 17,
   "id": "0b3fc836",
   "metadata": {},
   "outputs": [],
   "source": [
    "from pyspark.ml.regression import LinearRegression\n",
    "train_data, test_data = df_LR_part1.randomSplit([0.9, 0.1])\n",
    "regressor = LinearRegression(featuresCol='Indexed_displacement', labelCol = 'Horsepower')\n",
    "regressor = regressor.fit(train_data)"
   ]
  },
  {
   "cell_type": "code",
   "execution_count": 18,
   "id": "fbc5b66e",
   "metadata": {},
   "outputs": [
    {
     "data": {
      "text/plain": [
       "DenseVector([0.3695])"
      ]
     },
     "execution_count": 18,
     "metadata": {},
     "output_type": "execute_result"
    }
   ],
   "source": [
    "regressor.coefficients"
   ]
  },
  {
   "cell_type": "code",
   "execution_count": 19,
   "id": "2674a3bd",
   "metadata": {},
   "outputs": [
    {
     "data": {
      "text/plain": [
       "35.345636823327595"
      ]
     },
     "execution_count": 19,
     "metadata": {},
     "output_type": "execute_result"
    }
   ],
   "source": [
    "regressor.intercept"
   ]
  },
  {
   "cell_type": "code",
   "execution_count": 20,
   "id": "64e5f953",
   "metadata": {},
   "outputs": [],
   "source": [
    "LR_pred = regressor.evaluate(test_data)"
   ]
  },
  {
   "cell_type": "code",
   "execution_count": 21,
   "id": "0d04cd7b",
   "metadata": {},
   "outputs": [
    {
     "name": "stdout",
     "output_type": "stream",
     "text": [
      "+------------+----------+--------------------+------------------+\n",
      "|Displacement|Horsepower|Indexed_displacement|        prediction|\n",
      "+------------+----------+--------------------+------------------+\n",
      "|          91|        67|              [91.0]| 68.96635558057675|\n",
      "|          91|        68|              [91.0]| 68.96635558057675|\n",
      "|          97|        75|              [97.0]|  71.1831062678679|\n",
      "|         107|        75|             [107.0]| 74.87769074668648|\n",
      "|         151|        90|             [151.0]| 91.13386245348828|\n",
      "|         200|        81|             [200.0]|109.23732639969936|\n",
      "|         318|       150|             [318.0]| 152.8334232497587|\n",
      "|         318|       150|             [318.0]| 152.8334232497587|\n",
      "|         318|       150|             [318.0]| 152.8334232497587|\n",
      "|         350|       180|             [350.0]|164.65609358197818|\n",
      "+------------+----------+--------------------+------------------+\n",
      "\n"
     ]
    }
   ],
   "source": [
    "LR_pred.predictions.show()"
   ]
  },
  {
   "cell_type": "code",
   "execution_count": 22,
   "id": "cde9c825",
   "metadata": {},
   "outputs": [
    {
     "name": "stdout",
     "output_type": "stream",
     "text": [
      "+-------------------+\n",
      "|          residuals|\n",
      "+-------------------+\n",
      "|-1.9663555805767459|\n",
      "|-0.9663555805767459|\n",
      "|  3.816893732132101|\n",
      "|0.12230925331351727|\n",
      "|-1.1338624534882769|\n",
      "|-28.237326399699356|\n",
      "|-2.8334232497587095|\n",
      "|-2.8334232497587095|\n",
      "|-2.8334232497587095|\n",
      "| 15.343906418021817|\n",
      "+-------------------+\n",
      "\n"
     ]
    },
    {
     "data": {
      "text/plain": [
       "(6.008727916708469, None)"
      ]
     },
     "execution_count": 22,
     "metadata": {},
     "output_type": "execute_result"
    }
   ],
   "source": [
    "LR_pred.meanAbsoluteError, LR_pred.residuals.show()"
   ]
  },
  {
   "cell_type": "code",
   "execution_count": 43,
   "id": "60b14319",
   "metadata": {},
   "outputs": [
    {
     "data": {
      "text/plain": [
       "0.9365572756728744"
      ]
     },
     "execution_count": 43,
     "metadata": {},
     "output_type": "execute_result"
    }
   ],
   "source": [
    "# r^2 shows that how well our LR model fits the test case.\n",
    "LR_pred.r2"
   ]
  },
  {
   "cell_type": "markdown",
   "id": "76a3e973",
   "metadata": {},
   "source": [
    "### Problem 2 <a id = 'problem__2'></a>\n",
    "- features:\n",
    "    1. Cylinders\n",
    "    2. Displacement\n",
    "    3. Manufacturer\n",
    "    4. Model Year\n",
    "    5. Origin\n",
    "    6. Weight\n",
    "    \n",
    "\n",
    "- Target:\n",
    "    1. [Acceleration](#problem__2_1)\n",
    "    2. [Horsepower](#problem__2_1)\n",
    "    \n",
    "    \n",
    "    \n",
    "- Please note that some of those are categorical variables.\n",
    "- Use test data to assess quality of prediction for both target variables. \n",
    "- Which of two target variables is easier to predict, in the sense that predicted values differ less from the original values\n",
    "\n",
    "- Refer Problem 1 EDA for reference [Problem_1](#problem__1)"
   ]
  },
  {
   "cell_type": "markdown",
   "id": "973a09a0",
   "metadata": {},
   "source": [
    "## Problem 2 EDA <a id = 'problem__2_EDA'></a>"
   ]
  },
  {
   "cell_type": "code",
   "execution_count": 89,
   "id": "9b28796f",
   "metadata": {},
   "outputs": [
    {
     "name": "stdout",
     "output_type": "stream",
     "text": [
      "+---+------------+---------+------------+----------+-------------+--------------------+----------+----+-------+------+\n",
      "|_c0|Acceleration|Cylinders|Displacement|Horsepower| Manufacturer|               Model|Model_Year| MPG| Origin|Weight|\n",
      "+---+------------+---------+------------+----------+-------------+--------------------+----------+----+-------+------+\n",
      "|  1|        12.0|        8|         307|       130|chevrolet    |chevrolet chevell...|        70|18.0|USA    |  3504|\n",
      "|  2|        11.5|        8|         350|       165|buick        |buick skylark 320...|        70|15.0|USA    |  3693|\n",
      "|  3|        11.0|        8|         318|       150|plymouth     |plymouth satellit...|        70|18.0|USA    |  3436|\n",
      "|  4|        12.0|        8|         304|       150|amc          |amc rebel sst    ...|        70|16.0|USA    |  3433|\n",
      "|  5|        10.5|        8|         302|       140|ford         |ford torino      ...|        70|17.0|USA    |  3449|\n",
      "|  6|        10.0|        8|         429|       198|ford         |ford galaxie 500 ...|        70|15.0|USA    |  4341|\n",
      "|  7|         9.0|        8|         454|       220|chevrolet    |chevrolet impala ...|        70|14.0|USA    |  4354|\n",
      "|  8|         8.5|        8|         440|       215|plymouth     |plymouth fury iii...|        70|14.0|USA    |  4312|\n",
      "|  9|        10.0|        8|         455|       225|pontiac      |pontiac catalina ...|        70|14.0|USA    |  4425|\n",
      "| 10|         8.5|        8|         390|       190|amc          |amc ambassador dp...|        70|15.0|USA    |  3850|\n",
      "| 11|        17.5|        4|         133|       115|citroen      |citroen ds-21 pal...|        70|14.0|France |  3090|\n",
      "| 12|        11.5|        8|         350|       165|chevrolet    |chevrolet chevell...|        70|16.0|USA    |  4142|\n",
      "| 13|        11.0|        8|         351|       153|ford         |ford torino (sw) ...|        70|17.0|USA    |  4034|\n",
      "| 14|        10.5|        8|         383|       175|plymouth     |plymouth satellit...|        70|19.0|USA    |  4166|\n",
      "| 15|        11.0|        8|         360|       175|amc          |amc rebel sst (sw...|        70|20.0|USA    |  3850|\n",
      "| 16|        10.0|        8|         383|       170|dodge        |dodge challenger ...|        70|15.0|USA    |  3563|\n",
      "| 17|         8.0|        8|         340|       160|plymouth     |plymouth 'cuda 34...|        70|14.0|USA    |  3609|\n",
      "| 18|         8.0|        8|         302|       140|ford         |ford mustang boss...|        70|16.0|USA    |  3353|\n",
      "| 19|         9.5|        8|         400|       150|chevrolet    |chevrolet monte c...|        70|15.0|USA    |  3761|\n",
      "| 20|        10.0|        8|         455|       225|buick        |buick estate wago...|        70|14.0|USA    |  3086|\n",
      "+---+------------+---------+------------+----------+-------------+--------------------+----------+----+-------+------+\n",
      "only showing top 20 rows\n",
      "\n"
     ]
    }
   ],
   "source": [
    "df_pyspark.show()"
   ]
  },
  {
   "cell_type": "code",
   "execution_count": 90,
   "id": "affd1c85",
   "metadata": {},
   "outputs": [
    {
     "name": "stdout",
     "output_type": "stream",
     "text": [
      "+---+------------+---------+------------+----------+-------------+--------------------+----------+----+-------+------+\n",
      "|_c0|Acceleration|Cylinders|Displacement|Horsepower| Manufacturer|               Model|Model_year| MPG| Origin|Weight|\n",
      "+---+------------+---------+------------+----------+-------------+--------------------+----------+----+-------+------+\n",
      "|  1|        12.0|        8|         307|       130|chevrolet    |chevrolet chevell...|      1970|18.0|USA    |  3504|\n",
      "|  2|        11.5|        8|         350|       165|buick        |buick skylark 320...|      1970|15.0|USA    |  3693|\n",
      "|  3|        11.0|        8|         318|       150|plymouth     |plymouth satellit...|      1970|18.0|USA    |  3436|\n",
      "|  4|        12.0|        8|         304|       150|amc          |amc rebel sst    ...|      1970|16.0|USA    |  3433|\n",
      "|  5|        10.5|        8|         302|       140|ford         |ford torino      ...|      1970|17.0|USA    |  3449|\n",
      "|  6|        10.0|        8|         429|       198|ford         |ford galaxie 500 ...|      1970|15.0|USA    |  4341|\n",
      "|  7|         9.0|        8|         454|       220|chevrolet    |chevrolet impala ...|      1970|14.0|USA    |  4354|\n",
      "|  8|         8.5|        8|         440|       215|plymouth     |plymouth fury iii...|      1970|14.0|USA    |  4312|\n",
      "|  9|        10.0|        8|         455|       225|pontiac      |pontiac catalina ...|      1970|14.0|USA    |  4425|\n",
      "| 10|         8.5|        8|         390|       190|amc          |amc ambassador dp...|      1970|15.0|USA    |  3850|\n",
      "| 11|        17.5|        4|         133|       115|citroen      |citroen ds-21 pal...|      1970|14.0|France |  3090|\n",
      "| 12|        11.5|        8|         350|       165|chevrolet    |chevrolet chevell...|      1970|16.0|USA    |  4142|\n",
      "| 13|        11.0|        8|         351|       153|ford         |ford torino (sw) ...|      1970|17.0|USA    |  4034|\n",
      "| 14|        10.5|        8|         383|       175|plymouth     |plymouth satellit...|      1970|19.0|USA    |  4166|\n",
      "| 15|        11.0|        8|         360|       175|amc          |amc rebel sst (sw...|      1970|20.0|USA    |  3850|\n",
      "| 16|        10.0|        8|         383|       170|dodge        |dodge challenger ...|      1970|15.0|USA    |  3563|\n",
      "| 17|         8.0|        8|         340|       160|plymouth     |plymouth 'cuda 34...|      1970|14.0|USA    |  3609|\n",
      "| 18|         8.0|        8|         302|       140|ford         |ford mustang boss...|      1970|16.0|USA    |  3353|\n",
      "| 19|         9.5|        8|         400|       150|chevrolet    |chevrolet monte c...|      1970|15.0|USA    |  3761|\n",
      "| 20|        10.0|        8|         455|       225|buick        |buick estate wago...|      1970|14.0|USA    |  3086|\n",
      "+---+------------+---------+------------+----------+-------------+--------------------+----------+----+-------+------+\n",
      "only showing top 20 rows\n",
      "\n"
     ]
    }
   ],
   "source": [
    "df_pyspark = df_pyspark.withColumn(\"Model_year\", df_pyspark.Model_Year+1900)\n",
    "df_pyspark.show()"
   ]
  },
  {
   "cell_type": "code",
   "execution_count": 51,
   "id": "4820af81",
   "metadata": {},
   "outputs": [],
   "source": [
    "from pyspark.ml.feature import StringIndexer"
   ]
  },
  {
   "cell_type": "code",
   "execution_count": 106,
   "id": "3ecdce04",
   "metadata": {},
   "outputs": [],
   "source": [
    "\n",
    "indexer = StringIndexer(inputCols=['Manufacturer', 'Origin'], outputCols=['Mnft_categoryIndex', 'Orgn_categoryIndex'])\n",
    "df_problem2 = indexer.fit(df_pyspark).transform(df_pyspark)\n",
    "\n"
   ]
  },
  {
   "cell_type": "code",
   "execution_count": 107,
   "id": "333c1b93",
   "metadata": {},
   "outputs": [],
   "source": [
    "df_problem2 = df_problem2.drop('Manufacturer','Model', 'Origin')"
   ]
  },
  {
   "cell_type": "code",
   "execution_count": 108,
   "id": "f9b60c5f",
   "metadata": {},
   "outputs": [
    {
     "name": "stdout",
     "output_type": "stream",
     "text": [
      "root\n",
      " |-- _c0: integer (nullable = true)\n",
      " |-- Acceleration: double (nullable = true)\n",
      " |-- Cylinders: integer (nullable = true)\n",
      " |-- Displacement: integer (nullable = true)\n",
      " |-- Horsepower: integer (nullable = true)\n",
      " |-- Model_year: integer (nullable = true)\n",
      " |-- MPG: double (nullable = true)\n",
      " |-- Weight: integer (nullable = true)\n",
      " |-- Mnft_categoryIndex: double (nullable = false)\n",
      " |-- Orgn_categoryIndex: double (nullable = false)\n",
      "\n"
     ]
    }
   ],
   "source": [
    "df_problem2.printSchema()"
   ]
  },
  {
   "cell_type": "code",
   "execution_count": 109,
   "id": "f0ca57d7",
   "metadata": {},
   "outputs": [
    {
     "name": "stdout",
     "output_type": "stream",
     "text": [
      "+---+------------+---------+------------+----------+----------+----+------+------------------+------------------+\n",
      "|_c0|Acceleration|Cylinders|Displacement|Horsepower|Model_year| MPG|Weight|Mnft_categoryIndex|Orgn_categoryIndex|\n",
      "+---+------------+---------+------------+----------+----------+----+------+------------------+------------------+\n",
      "|  1|        12.0|        8|         307|       130|      1970|18.0|  3504|               1.0|               0.0|\n",
      "|  2|        11.5|        8|         350|       165|      1970|15.0|  3693|               9.0|               0.0|\n",
      "|  3|        11.0|        8|         318|       150|      1970|18.0|  3436|               4.0|               0.0|\n",
      "|  4|        12.0|        8|         304|       150|      1970|16.0|  3433|               2.0|               0.0|\n",
      "|  5|        10.5|        8|         302|       140|      1970|17.0|  3449|               0.0|               0.0|\n",
      "|  6|        10.0|        8|         429|       198|      1970|15.0|  4341|               0.0|               0.0|\n",
      "|  7|         9.0|        8|         454|       220|      1970|14.0|  4354|               1.0|               0.0|\n",
      "|  8|         8.5|        8|         440|       215|      1970|14.0|  4312|               4.0|               0.0|\n",
      "|  9|        10.0|        8|         455|       225|      1970|14.0|  4425|               8.0|               0.0|\n",
      "| 10|         8.5|        8|         390|       190|      1970|15.0|  3850|               2.0|               0.0|\n",
      "| 11|        17.5|        4|         133|       115|      1970|14.0|  3090|              17.0|               3.0|\n",
      "| 12|        11.5|        8|         350|       165|      1970|16.0|  4142|               1.0|               0.0|\n",
      "| 13|        11.0|        8|         351|       153|      1970|17.0|  4034|               0.0|               0.0|\n",
      "| 14|        10.5|        8|         383|       175|      1970|19.0|  4166|               4.0|               0.0|\n",
      "| 15|        11.0|        8|         360|       175|      1970|20.0|  3850|               2.0|               0.0|\n",
      "| 16|        10.0|        8|         383|       170|      1970|15.0|  3563|               3.0|               0.0|\n",
      "| 17|         8.0|        8|         340|       160|      1970|14.0|  3609|               4.0|               0.0|\n",
      "| 18|         8.0|        8|         302|       140|      1970|16.0|  3353|               0.0|               0.0|\n",
      "| 19|         9.5|        8|         400|       150|      1970|15.0|  3761|               1.0|               0.0|\n",
      "| 20|        10.0|        8|         455|       225|      1970|14.0|  3086|               9.0|               0.0|\n",
      "+---+------------+---------+------------+----------+----------+----+------+------------------+------------------+\n",
      "only showing top 20 rows\n",
      "\n"
     ]
    }
   ],
   "source": [
    "df_problem2.show()"
   ]
  },
  {
   "cell_type": "code",
   "execution_count": 111,
   "id": "93799a21",
   "metadata": {},
   "outputs": [],
   "source": [
    "from pyspark.ml.linalg import Vector\n",
    "from pyspark.ml.feature import VectorAssembler\n"
   ]
  },
  {
   "cell_type": "code",
   "execution_count": 112,
   "id": "35bee1f5",
   "metadata": {},
   "outputs": [
    {
     "data": {
      "text/plain": [
       "['_c0',\n",
       " 'Acceleration',\n",
       " 'Cylinders',\n",
       " 'Displacement',\n",
       " 'Horsepower',\n",
       " 'Model_year',\n",
       " 'MPG',\n",
       " 'Weight',\n",
       " 'Mnft_categoryIndex',\n",
       " 'Orgn_categoryIndex']"
      ]
     },
     "execution_count": 112,
     "metadata": {},
     "output_type": "execute_result"
    }
   ],
   "source": [
    "df_problem2.columns"
   ]
  },
  {
   "cell_type": "code",
   "execution_count": 115,
   "id": "2f7e49a2",
   "metadata": {},
   "outputs": [],
   "source": [
    "Assembler = VectorAssembler(inputCols = ['Cylinders', 'Displacement', 'Model_year', 'MPG', 'Weight',  'Mnft_categoryIndex', 'Orgn_categoryIndex'], \n",
    "                           outputCol = 'Features')"
   ]
  },
  {
   "cell_type": "code",
   "execution_count": 116,
   "id": "e592e130",
   "metadata": {},
   "outputs": [],
   "source": [
    "OUTPUT_2 = Assembler.transform(df_problem2)"
   ]
  },
  {
   "cell_type": "code",
   "execution_count": 117,
   "id": "7b19b58d",
   "metadata": {},
   "outputs": [
    {
     "name": "stdout",
     "output_type": "stream",
     "text": [
      "+---+------------+---------+------------+----------+----------+----+------+------------------+------------------+--------------------+\n",
      "|_c0|Acceleration|Cylinders|Displacement|Horsepower|Model_year| MPG|Weight|Mnft_categoryIndex|Orgn_categoryIndex|            Features|\n",
      "+---+------------+---------+------------+----------+----------+----+------+------------------+------------------+--------------------+\n",
      "|  1|        12.0|        8|         307|       130|      1970|18.0|  3504|               1.0|               0.0|[8.0,307.0,1970.0...|\n",
      "|  2|        11.5|        8|         350|       165|      1970|15.0|  3693|               9.0|               0.0|[8.0,350.0,1970.0...|\n",
      "|  3|        11.0|        8|         318|       150|      1970|18.0|  3436|               4.0|               0.0|[8.0,318.0,1970.0...|\n",
      "|  4|        12.0|        8|         304|       150|      1970|16.0|  3433|               2.0|               0.0|[8.0,304.0,1970.0...|\n",
      "|  5|        10.5|        8|         302|       140|      1970|17.0|  3449|               0.0|               0.0|[8.0,302.0,1970.0...|\n",
      "|  6|        10.0|        8|         429|       198|      1970|15.0|  4341|               0.0|               0.0|[8.0,429.0,1970.0...|\n",
      "|  7|         9.0|        8|         454|       220|      1970|14.0|  4354|               1.0|               0.0|[8.0,454.0,1970.0...|\n",
      "|  8|         8.5|        8|         440|       215|      1970|14.0|  4312|               4.0|               0.0|[8.0,440.0,1970.0...|\n",
      "|  9|        10.0|        8|         455|       225|      1970|14.0|  4425|               8.0|               0.0|[8.0,455.0,1970.0...|\n",
      "| 10|         8.5|        8|         390|       190|      1970|15.0|  3850|               2.0|               0.0|[8.0,390.0,1970.0...|\n",
      "| 11|        17.5|        4|         133|       115|      1970|14.0|  3090|              17.0|               3.0|[4.0,133.0,1970.0...|\n",
      "| 12|        11.5|        8|         350|       165|      1970|16.0|  4142|               1.0|               0.0|[8.0,350.0,1970.0...|\n",
      "| 13|        11.0|        8|         351|       153|      1970|17.0|  4034|               0.0|               0.0|[8.0,351.0,1970.0...|\n",
      "| 14|        10.5|        8|         383|       175|      1970|19.0|  4166|               4.0|               0.0|[8.0,383.0,1970.0...|\n",
      "| 15|        11.0|        8|         360|       175|      1970|20.0|  3850|               2.0|               0.0|[8.0,360.0,1970.0...|\n",
      "| 16|        10.0|        8|         383|       170|      1970|15.0|  3563|               3.0|               0.0|[8.0,383.0,1970.0...|\n",
      "| 17|         8.0|        8|         340|       160|      1970|14.0|  3609|               4.0|               0.0|[8.0,340.0,1970.0...|\n",
      "| 18|         8.0|        8|         302|       140|      1970|16.0|  3353|               0.0|               0.0|[8.0,302.0,1970.0...|\n",
      "| 19|         9.5|        8|         400|       150|      1970|15.0|  3761|               1.0|               0.0|[8.0,400.0,1970.0...|\n",
      "| 20|        10.0|        8|         455|       225|      1970|14.0|  3086|               9.0|               0.0|[8.0,455.0,1970.0...|\n",
      "+---+------------+---------+------------+----------+----------+----+------+------------------+------------------+--------------------+\n",
      "only showing top 20 rows\n",
      "\n"
     ]
    }
   ],
   "source": [
    "OUTPUT_2.show()"
   ]
  },
  {
   "cell_type": "code",
   "execution_count": 118,
   "id": "4bc17780",
   "metadata": {},
   "outputs": [],
   "source": [
    "from pyspark.ml.feature import StandardScaler"
   ]
  },
  {
   "cell_type": "code",
   "execution_count": 120,
   "id": "d184387c",
   "metadata": {},
   "outputs": [],
   "source": [
    "scaler_2 = StandardScaler(inputCol = 'Features', outputCol = 'Scaled_Features_2', withMean = True, withStd = True)"
   ]
  },
  {
   "cell_type": "code",
   "execution_count": 121,
   "id": "54791ae5",
   "metadata": {},
   "outputs": [],
   "source": [
    "Scaler_Model_2 = scaler_2.fit(OUTPUT_2)"
   ]
  },
  {
   "cell_type": "code",
   "execution_count": 122,
   "id": "091b28bb",
   "metadata": {},
   "outputs": [
    {
     "data": {
      "text/plain": [
       "StandardScalerModel: uid=StandardScaler_e427d80b8fb0, numFeatures=7, withMean=true, withStd=true"
      ]
     },
     "execution_count": 122,
     "metadata": {},
     "output_type": "execute_result"
    }
   ],
   "source": [
    "Scaler_Model_2"
   ]
  },
  {
   "cell_type": "code",
   "execution_count": 123,
   "id": "29ec3195",
   "metadata": {},
   "outputs": [],
   "source": [
    "scaled_data_2 = Scaler_Model_2.transform(OUTPUT_2)"
   ]
  },
  {
   "cell_type": "code",
   "execution_count": 124,
   "id": "426d403f",
   "metadata": {},
   "outputs": [
    {
     "name": "stdout",
     "output_type": "stream",
     "text": [
      "+---+------------+---------+------------+----------+----------+----+------+------------------+------------------+--------------------+--------------------+\n",
      "|_c0|Acceleration|Cylinders|Displacement|Horsepower|Model_year| MPG|Weight|Mnft_categoryIndex|Orgn_categoryIndex|            Features|   Scaled_Features_2|\n",
      "+---+------------+---------+------------+----------+----------+----+------+------------------+------------------+--------------------+--------------------+\n",
      "|  1|        12.0|        8|         307|       130|      1970|18.0|  3504|               1.0|               0.0|[8.0,307.0,1970.0...|[1.32886743167390...|\n",
      "|  2|        11.5|        8|         350|       165|      1970|15.0|  3693|               9.0|               0.0|[8.0,350.0,1970.0...|[1.32886743167390...|\n",
      "|  3|        11.0|        8|         318|       150|      1970|18.0|  3436|               4.0|               0.0|[8.0,318.0,1970.0...|[1.32886743167390...|\n",
      "|  4|        12.0|        8|         304|       150|      1970|16.0|  3433|               2.0|               0.0|[8.0,304.0,1970.0...|[1.32886743167390...|\n",
      "|  5|        10.5|        8|         302|       140|      1970|17.0|  3449|               0.0|               0.0|[8.0,302.0,1970.0...|[1.32886743167390...|\n",
      "|  6|        10.0|        8|         429|       198|      1970|15.0|  4341|               0.0|               0.0|[8.0,429.0,1970.0...|[1.32886743167390...|\n",
      "|  7|         9.0|        8|         454|       220|      1970|14.0|  4354|               1.0|               0.0|[8.0,454.0,1970.0...|[1.32886743167390...|\n",
      "|  8|         8.5|        8|         440|       215|      1970|14.0|  4312|               4.0|               0.0|[8.0,440.0,1970.0...|[1.32886743167390...|\n",
      "|  9|        10.0|        8|         455|       225|      1970|14.0|  4425|               8.0|               0.0|[8.0,455.0,1970.0...|[1.32886743167390...|\n",
      "| 10|         8.5|        8|         390|       190|      1970|15.0|  3850|               2.0|               0.0|[8.0,390.0,1970.0...|[1.32886743167390...|\n",
      "| 11|        17.5|        4|         133|       115|      1970|14.0|  3090|              17.0|               3.0|[4.0,133.0,1970.0...|[-0.9045232097948...|\n",
      "| 12|        11.5|        8|         350|       165|      1970|16.0|  4142|               1.0|               0.0|[8.0,350.0,1970.0...|[1.32886743167390...|\n",
      "| 13|        11.0|        8|         351|       153|      1970|17.0|  4034|               0.0|               0.0|[8.0,351.0,1970.0...|[1.32886743167390...|\n",
      "| 14|        10.5|        8|         383|       175|      1970|19.0|  4166|               4.0|               0.0|[8.0,383.0,1970.0...|[1.32886743167390...|\n",
      "| 15|        11.0|        8|         360|       175|      1970|20.0|  3850|               2.0|               0.0|[8.0,360.0,1970.0...|[1.32886743167390...|\n",
      "| 16|        10.0|        8|         383|       170|      1970|15.0|  3563|               3.0|               0.0|[8.0,383.0,1970.0...|[1.32886743167390...|\n",
      "| 17|         8.0|        8|         340|       160|      1970|14.0|  3609|               4.0|               0.0|[8.0,340.0,1970.0...|[1.32886743167390...|\n",
      "| 18|         8.0|        8|         302|       140|      1970|16.0|  3353|               0.0|               0.0|[8.0,302.0,1970.0...|[1.32886743167390...|\n",
      "| 19|         9.5|        8|         400|       150|      1970|15.0|  3761|               1.0|               0.0|[8.0,400.0,1970.0...|[1.32886743167390...|\n",
      "| 20|        10.0|        8|         455|       225|      1970|14.0|  3086|               9.0|               0.0|[8.0,455.0,1970.0...|[1.32886743167390...|\n",
      "+---+------------+---------+------------+----------+----------+----+------+------------------+------------------+--------------------+--------------------+\n",
      "only showing top 20 rows\n",
      "\n"
     ]
    }
   ],
   "source": [
    "scaled_data_2.show()"
   ]
  },
  {
   "cell_type": "code",
   "execution_count": 128,
   "id": "e7c7441b",
   "metadata": {},
   "outputs": [
    {
     "name": "stdout",
     "output_type": "stream",
     "text": [
      "+-------------------------------------------------------------------------------------------------------------------------------------------+\n",
      "|Scaled_Features_2                                                                                                                          |\n",
      "+-------------------------------------------------------------------------------------------------------------------------------------------+\n",
      "|[1.3288674316739035,0.8892906155709074,-1.1771828306459147,-0.6671273396275227,0.6099044872969679,-0.744231418570891,-0.5493381302054059]  |\n",
      "|[1.3288674316739035,1.2739937993691872,-1.1771828306459147,-1.0436808709318621,0.8441161379443599,0.42319041448148675,-0.5493381302054059] |\n",
      "|[1.3288674316739035,0.9877030579379092,-1.1771828306459147,-0.6671273396275227,0.5256378616672185,-0.30644823117624936,-0.5493381302054059]|\n",
      "|[1.3288674316739035,0.8624508585617251,-1.1771828306459147,-0.918163027163749,0.5219202164188471,-0.5983036894393439,-0.5493381302054059]  |\n",
      "|[1.3288674316739035,0.8445576872222702,-1.1771828306459147,-0.7926451833956358,0.5417476577434941,-0.8901591477024383,-0.5493381302054059] |\n",
      "|[1.3288674316739035,1.9807740672776548,-1.1771828306459147,-1.0436808709318621,1.6471275115925612,-0.8901591477024383,-0.5493381302054059] |\n",
      "|[1.3288674316739035,2.204438709020841,-1.1771828306459147,-1.1691987146999752,1.6632373076688367,-0.744231418570891,-0.5493381302054059]   |\n",
      "|[1.3288674316739035,2.0791865096446567,-1.1771828306459147,-1.1691987146999752,1.6111902741916386,-0.30644823117624936,-0.5493381302054059]|\n",
      "|[1.3288674316739035,2.213385294690568,-1.1771828306459147,-1.1691987146999752,1.7512215785469576,0.27726268534993953,-0.5493381302054059]  |\n",
      "|[1.3288674316739035,1.6318572261582849,-1.1771828306459147,-1.0436808709318621,1.038672905942458,-0.5983036894393439,-0.5493381302054059]  |\n",
      "|[-0.904523209794842,-0.6674152909616669,-1.1771828306459147,-1.1691987146999752,0.09686944302172831,1.5906122475338644,2.292065991546694]  |\n",
      "|[1.3288674316739035,1.2739937993691872,-1.1771828306459147,-0.918163027163749,1.4005237101172647,-0.744231418570891,-0.5493381302054059]   |\n",
      "|[1.3288674316739035,1.2829403850389147,-1.1771828306459147,-0.7926451833956358,1.2666884811758978,-0.8901591477024383,-0.5493381302054059] |\n",
      "|[1.3288674316739035,1.5692311264701928,-1.1771828306459147,-0.5416094958594097,1.4302648721042353,-0.30644823117624936,-0.5493381302054059]|\n",
      "|[1.3288674316739035,1.3634596560664616,-1.1771828306459147,-0.4160916520912965,1.038672905942458,-0.5983036894393439,-0.5493381302054059]  |\n",
      "|[1.3288674316739035,1.5692311264701928,-1.1771828306459147,-1.0436808709318621,0.6830181771816035,-0.4523759603077966,-0.5493381302054059] |\n",
      "|[1.3288674316739035,1.1845279426719129,-1.1771828306459147,-1.1691987146999752,0.7400220709899635,-0.30644823117624936,-0.5493381302054059]|\n",
      "|[1.3288674316739035,0.8445576872222702,-1.1771828306459147,-0.918163027163749,0.42278300979561245,-0.8901591477024383,-0.5493381302054059] |\n",
      "|[1.3288674316739035,1.7213230828555592,-1.1771828306459147,-1.0436808709318621,0.9283827635741094,-0.744231418570891,-0.5493381302054059]  |\n",
      "|[1.3288674316739035,2.213385294690568,-1.1771828306459147,-1.1691987146999752,0.09191258269056657,0.42319041448148675,-0.5493381302054059] |\n",
      "+-------------------------------------------------------------------------------------------------------------------------------------------+\n",
      "only showing top 20 rows\n",
      "\n"
     ]
    }
   ],
   "source": [
    "scaled_data_2.select('Scaled_Features_2').show(truncate=False)"
   ]
  },
  {
   "cell_type": "markdown",
   "id": "b6bc6a7b",
   "metadata": {},
   "source": [
    "###  Acceleration as Dependent Variable <a id = 'problem__2_1'></a>\n",
    "- For Contents, click [here](#Content)"
   ]
  },
  {
   "cell_type": "code",
   "execution_count": 208,
   "id": "c8b177ec",
   "metadata": {},
   "outputs": [],
   "source": [
    "from pyspark.ml.regression import LinearRegression\n",
    "train_data_P2, test_data_P2 = scaled_data_2.randomSplit([0.9, 0.1])\n",
    "regressor_P2 = LinearRegression(featuresCol='Scaled_Features_2', labelCol = 'Acceleration', regParam = 0.03)\n",
    "regressor_P2 = regressor_P2.fit(train_data_P2)"
   ]
  },
  {
   "cell_type": "code",
   "execution_count": 209,
   "id": "d9d80fa0",
   "metadata": {},
   "outputs": [
    {
     "data": {
      "text/plain": [
       "DenseVector([-0.5086, -3.5595, 0.3166, -0.3847, 1.6949, 0.0179, -0.3314])"
      ]
     },
     "execution_count": 209,
     "metadata": {},
     "output_type": "execute_result"
    }
   ],
   "source": [
    "regressor_P2.coefficients"
   ]
  },
  {
   "cell_type": "code",
   "execution_count": 210,
   "id": "399cb053",
   "metadata": {},
   "outputs": [
    {
     "data": {
      "text/plain": [
       "DataFrame[_c0: int, Acceleration: double, Cylinders: int, Displacement: int, Horsepower: int, Model_year: int, MPG: double, Weight: int, Mnft_categoryIndex: double, Orgn_categoryIndex: double, Features: vector, Scaled_Features_2: vector, prediction: double]"
      ]
     },
     "execution_count": 210,
     "metadata": {},
     "output_type": "execute_result"
    }
   ],
   "source": [
    "LR_pred_P2 = regressor_P2.evaluate(test_data_P2)\n",
    "LR_pred_P2.predictions"
   ]
  },
  {
   "cell_type": "code",
   "execution_count": 211,
   "id": "7fc3f679",
   "metadata": {},
   "outputs": [
    {
     "name": "stdout",
     "output_type": "stream",
     "text": [
      "+--------------------+\n",
      "|           residuals|\n",
      "+--------------------+\n",
      "| -0.7855603546912864|\n",
      "| -0.8381193382910297|\n",
      "|   1.578052823758025|\n",
      "|  0.7088714336786808|\n",
      "|-0.43618233044278654|\n",
      "+--------------------+\n",
      "\n"
     ]
    },
    {
     "data": {
      "text/plain": [
       "(0.8693572561723617, None)"
      ]
     },
     "execution_count": 211,
     "metadata": {},
     "output_type": "execute_result"
    }
   ],
   "source": [
    "LR_pred_P2.meanAbsoluteError, LR_pred_P2.residuals.show()"
   ]
  },
  {
   "cell_type": "code",
   "execution_count": 212,
   "id": "b03c7398",
   "metadata": {},
   "outputs": [
    {
     "data": {
      "text/plain": [
       "0.9243420899057848"
      ]
     },
     "execution_count": 212,
     "metadata": {},
     "output_type": "execute_result"
    }
   ],
   "source": [
    "LR_pred_P2.r2"
   ]
  },
  {
   "cell_type": "markdown",
   "id": "87ecc5b5",
   "metadata": {},
   "source": [
    "### Horsepower as Dependent Variable <a id = 'problem__2_2'></a>\n",
    "\n",
    "- With Acceleration as a targert variable it is easier to predict by independent features as the mean absolute error is less than error while Horsepower being the dependent variable\n",
    "\n",
    "- For Contents, click [here](#Content)"
   ]
  },
  {
   "cell_type": "code",
   "execution_count": 224,
   "id": "63ef4246",
   "metadata": {},
   "outputs": [],
   "source": [
    "from pyspark.ml.regression import LinearRegression\n",
    "train_data_P2_hp, test_data_P2_hp = scaled_data_2.randomSplit([0.9, 0.1])\n",
    "regressor_P2_hp = LinearRegression(featuresCol='Scaled_Features_2', labelCol = 'Horsepower', regParam = 0.03)\n",
    "regressor_P2_hp = regressor_P2_hp.fit(train_data_P2_hp)"
   ]
  },
  {
   "cell_type": "code",
   "execution_count": 225,
   "id": "dd05f169",
   "metadata": {},
   "outputs": [
    {
     "data": {
      "text/plain": [
       "DenseVector([-8.9065, 35.5243, -5.2915, -3.4768, 11.384, 4.7333, 0.064])"
      ]
     },
     "execution_count": 225,
     "metadata": {},
     "output_type": "execute_result"
    }
   ],
   "source": [
    "regressor_P2_hp.coefficients"
   ]
  },
  {
   "cell_type": "code",
   "execution_count": 226,
   "id": "133dbe65",
   "metadata": {},
   "outputs": [
    {
     "data": {
      "text/plain": [
       "DataFrame[_c0: int, Acceleration: double, Cylinders: int, Displacement: int, Horsepower: int, Model_year: int, MPG: double, Weight: int, Mnft_categoryIndex: double, Orgn_categoryIndex: double, Features: vector, Scaled_Features_2: vector, prediction: double]"
      ]
     },
     "execution_count": 226,
     "metadata": {},
     "output_type": "execute_result"
    }
   ],
   "source": [
    "LR_pred_P2_hp = regressor_P2_hp.evaluate(test_data_P2_hp)\n",
    "LR_pred_P2_hp.predictions"
   ]
  },
  {
   "cell_type": "code",
   "execution_count": 227,
   "id": "c4dac668",
   "metadata": {},
   "outputs": [
    {
     "name": "stdout",
     "output_type": "stream",
     "text": [
      "+-------------------+\n",
      "|          residuals|\n",
      "+-------------------+\n",
      "| 14.834814981179278|\n",
      "|-14.718073816324107|\n",
      "|-16.481021460424145|\n",
      "| -8.857428880130925|\n",
      "| -15.68701014301547|\n",
      "| 22.133919025068778|\n",
      "|  5.426620289483068|\n",
      "|-0.9474620557972884|\n",
      "| 2.8410563490636207|\n",
      "|  8.015118801141824|\n",
      "+-------------------+\n",
      "\n"
     ]
    },
    {
     "data": {
      "text/plain": [
       "(10.99425258016285, None)"
      ]
     },
     "execution_count": 227,
     "metadata": {},
     "output_type": "execute_result"
    }
   ],
   "source": [
    "LR_pred_P2_hp.meanAbsoluteError, LR_pred_P2_hp.residuals.show()"
   ]
  },
  {
   "cell_type": "code",
   "execution_count": 237,
   "id": "74ca7c82",
   "metadata": {},
   "outputs": [
    {
     "data": {
      "text/plain": [
       "0.9266323397748596"
      ]
     },
     "execution_count": 237,
     "metadata": {},
     "output_type": "execute_result"
    }
   ],
   "source": [
    "LR_pred_P2_hp.r2"
   ]
  },
  {
   "cell_type": "code",
   "execution_count": null,
   "id": "0f62aacc",
   "metadata": {},
   "outputs": [],
   "source": [
    "LR_pred_P2_hp."
   ]
  },
  {
   "cell_type": "markdown",
   "id": "e4d013a3",
   "metadata": {},
   "source": [
    "## Decision Tree <a id = 'problem__3'></a>\n",
    "### Horsepower as Dependent Variable <a id = 'problem__3_1'></a>\n",
    "- For Contents, click [here](#Content)"
   ]
  },
  {
   "cell_type": "code",
   "execution_count": 266,
   "id": "78ee531d",
   "metadata": {},
   "outputs": [],
   "source": [
    "from pyspark.ml import Pipeline\n",
    "from pyspark.ml.evaluation import RegressionEvaluator"
   ]
  },
  {
   "cell_type": "code",
   "execution_count": 267,
   "id": "706393c8",
   "metadata": {},
   "outputs": [],
   "source": [
    "train_data_P2_hp, test_data_P2_hp = scaled_data_2.randomSplit([0.9, 0.1])"
   ]
  },
  {
   "cell_type": "code",
   "execution_count": 241,
   "id": "78648cdb",
   "metadata": {},
   "outputs": [],
   "source": [
    "from pyspark.ml.regression import DecisionTreeRegressor"
   ]
  },
  {
   "cell_type": "code",
   "execution_count": 268,
   "id": "2afb5ae1",
   "metadata": {},
   "outputs": [],
   "source": [
    "DTR = DecisionTreeRegressor(featuresCol='Scaled_Features_2', labelCol = 'Horsepower')\n",
    "DTR_model = DTR.fit(train_data_P2_hp)"
   ]
  },
  {
   "cell_type": "code",
   "execution_count": 269,
   "id": "76f29f90",
   "metadata": {},
   "outputs": [],
   "source": [
    "DTR_model_pred = DTR_model.transform(test_data_P2_hp)"
   ]
  },
  {
   "cell_type": "code",
   "execution_count": 270,
   "id": "fa48bc05",
   "metadata": {},
   "outputs": [
    {
     "data": {
      "text/plain": [
       "DataFrame[_c0: int, Acceleration: double, Cylinders: int, Displacement: int, Horsepower: int, Model_year: int, MPG: double, Weight: int, Mnft_categoryIndex: double, Orgn_categoryIndex: double, Features: vector, Scaled_Features_2: vector, prediction: double]"
      ]
     },
     "execution_count": 270,
     "metadata": {},
     "output_type": "execute_result"
    }
   ],
   "source": [
    "DTR_model_pred"
   ]
  },
  {
   "cell_type": "code",
   "execution_count": 254,
   "id": "aad425f1",
   "metadata": {},
   "outputs": [
    {
     "data": {
      "text/plain": [
       "DataFrame[summary: string, _c0: string, Acceleration: string, Cylinders: string, Displacement: string, Horsepower: string, Model_year: string, MPG: string, Weight: string, Mnft_categoryIndex: string, Orgn_categoryIndex: string, prediction: string]"
      ]
     },
     "execution_count": 254,
     "metadata": {},
     "output_type": "execute_result"
    }
   ],
   "source": [
    "DTR_model_pred.summary()"
   ]
  },
  {
   "cell_type": "code",
   "execution_count": 294,
   "id": "2310cc86",
   "metadata": {},
   "outputs": [
    {
     "name": "stdout",
     "output_type": "stream",
     "text": [
      "+----------+----------+\n",
      "|prediction|Horsepower|\n",
      "+----------+----------+\n",
      "|     220.0|       220|\n",
      "|     225.0|       225|\n",
      "|     180.0|       190|\n",
      "|     115.0|       115|\n",
      "|     180.0|       175|\n",
      "+----------+----------+\n",
      "only showing top 5 rows\n",
      "\n",
      "R2 Score  of test data = 0.992422\n",
      "RMSE  of test data = 5.0521\n"
     ]
    }
   ],
   "source": [
    "train_data_P2_hp, test_data_P2_hp = scaled_data_2.randomSplit([0.8, 0.2])\n",
    "DTR_model_pred = DTR_model.transform(test_data_P2_hp)\n",
    "DTR_model_pred.select(\"prediction\", \"Horsepower\").show(5)\n",
    "evaluator = RegressionEvaluator(\n",
    "    labelCol=\"Horsepower\", predictionCol=\"prediction\", metricName=\"r2\")\n",
    "evaluator_rsme = RegressionEvaluator(\n",
    "    labelCol=\"Horsepower\", predictionCol=\"prediction\", metricName=\"rmse\")\n",
    "r2 = evaluator.evaluate(DTR_model_pred)\n",
    "rsme = evaluator_rsme.evaluate(DTR_model_pred)\n",
    "\n",
    "print (\"R2 Score  of test data = %g\" % r2)\n",
    "print (\"RMSE  of test data = %g\" % rmse)"
   ]
  },
  {
   "cell_type": "markdown",
   "id": "753bac75",
   "metadata": {},
   "source": [
    "### Accelerations as Dependent Variable <a id = 'problem__3_2'></a>\n",
    "- For Contents, click [here](#Content)"
   ]
  },
  {
   "cell_type": "code",
   "execution_count": 287,
   "id": "eb067826",
   "metadata": {},
   "outputs": [],
   "source": [
    "train_data_P2, test_data_P2 = scaled_data_2.randomSplit([0.8, 0.2])"
   ]
  },
  {
   "cell_type": "code",
   "execution_count": 288,
   "id": "75eda726",
   "metadata": {},
   "outputs": [],
   "source": [
    "DTR = DecisionTreeRegressor(featuresCol='Scaled_Features_2', labelCol = 'Acceleration')\n",
    "DTR_model_a = DTR.fit(train_data_P2)"
   ]
  },
  {
   "cell_type": "code",
   "execution_count": 295,
   "id": "ea0e0631",
   "metadata": {},
   "outputs": [
    {
     "name": "stdout",
     "output_type": "stream",
     "text": [
      "+-----------------+------------+\n",
      "|       prediction|Acceleration|\n",
      "+-----------------+------------+\n",
      "|             10.8|        12.0|\n",
      "|9.428571428571429|        11.5|\n",
      "|16.62857142857143|        17.5|\n",
      "|            11.75|         8.0|\n",
      "|9.428571428571429|         9.5|\n",
      "+-----------------+------------+\n",
      "only showing top 5 rows\n",
      "\n",
      "R2 Score  of test data = 0.992422\n",
      "RMSE  of test data = 5.0521\n"
     ]
    }
   ],
   "source": [
    "DTR_model_pred_a = DTR_model_a.transform(test_data_P2)\n",
    "DTR_model_pred_a.select(\"prediction\", \"Acceleration\").show(5)\n",
    "evaluator = RegressionEvaluator(\n",
    "    labelCol=\"Acceleration\", predictionCol=\"prediction\", metricName=\"r2\")\n",
    "evaluator_rsme = RegressionEvaluator(\n",
    "    labelCol=\"Acceleration\", predictionCol=\"prediction\", metricName=\"rmse\")\n",
    "r2_a = evaluator.evaluate(DTR_model_pred_a)\n",
    "rsme_a = evaluator_rsme.evaluate(DTR_model_pred_a)\n",
    "\n",
    "print (\"R2 Score  of test data = %g\" % r2)\n",
    "print (\"RMSE  of test data = %g\" % rmse)"
   ]
  },
  {
   "cell_type": "code",
   "execution_count": null,
   "id": "00059ca0",
   "metadata": {},
   "outputs": [],
   "source": []
  },
  {
   "cell_type": "code",
   "execution_count": null,
   "id": "71c7dbf6",
   "metadata": {},
   "outputs": [],
   "source": []
  },
  {
   "cell_type": "code",
   "execution_count": null,
   "id": "0ec3c8ae",
   "metadata": {},
   "outputs": [],
   "source": []
  },
  {
   "cell_type": "code",
   "execution_count": null,
   "id": "86a2671d",
   "metadata": {},
   "outputs": [],
   "source": []
  },
  {
   "cell_type": "code",
   "execution_count": null,
   "id": "f30d951c",
   "metadata": {},
   "outputs": [],
   "source": []
  },
  {
   "cell_type": "code",
   "execution_count": null,
   "id": "0c3a3eff",
   "metadata": {},
   "outputs": [],
   "source": []
  },
  {
   "cell_type": "code",
   "execution_count": null,
   "id": "66d9cabe",
   "metadata": {},
   "outputs": [],
   "source": []
  },
  {
   "cell_type": "code",
   "execution_count": null,
   "id": "67235e34",
   "metadata": {},
   "outputs": [],
   "source": []
  },
  {
   "cell_type": "code",
   "execution_count": null,
   "id": "658edecf",
   "metadata": {},
   "outputs": [],
   "source": []
  },
  {
   "cell_type": "code",
   "execution_count": null,
   "id": "0336a6f5",
   "metadata": {},
   "outputs": [],
   "source": []
  },
  {
   "cell_type": "code",
   "execution_count": null,
   "id": "3e7a21a5",
   "metadata": {},
   "outputs": [],
   "source": []
  },
  {
   "cell_type": "code",
   "execution_count": null,
   "id": "75e2a6b2",
   "metadata": {},
   "outputs": [],
   "source": []
  },
  {
   "cell_type": "code",
   "execution_count": null,
   "id": "ffb47564",
   "metadata": {},
   "outputs": [],
   "source": []
  },
  {
   "cell_type": "code",
   "execution_count": null,
   "id": "504c9f32",
   "metadata": {},
   "outputs": [],
   "source": []
  },
  {
   "cell_type": "code",
   "execution_count": null,
   "id": "3e26bb52",
   "metadata": {},
   "outputs": [],
   "source": []
  }
 ],
 "metadata": {
  "kernelspec": {
   "display_name": "Python 3 (ipykernel)",
   "language": "python",
   "name": "python3"
  },
  "language_info": {
   "codemirror_mode": {
    "name": "ipython",
    "version": 3
   },
   "file_extension": ".py",
   "mimetype": "text/x-python",
   "name": "python",
   "nbconvert_exporter": "python",
   "pygments_lexer": "ipython3",
   "version": "3.9.7"
  }
 },
 "nbformat": 4,
 "nbformat_minor": 5
}
