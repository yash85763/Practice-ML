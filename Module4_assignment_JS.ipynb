{
 "cells": [
  {
   "cell_type": "code",
   "execution_count": 1,
   "id": "f1942f17",
   "metadata": {},
   "outputs": [],
   "source": [
    "import numpy as np\n",
    "import pandas as pd\n",
    "import seaborn as sns\n",
    "import statsmodels.api as sm\n",
    "from sklearn.metrics import mean_squared_error, r2_score, accuracy_score, classification_report, confusion_matrix\n",
    "from sklearn.model_selection import train_test_split\n",
    "from scipy import stats\n",
    "from sklearn import linear_model\n",
    "from sklearn.linear_model import LinearRegression\n",
    "import matplotlib.pyplot as plt\n",
    "from sklearn.metrics import precision_score, recall_score, f1_score, accuracy_score, mean_squared_error\n",
    "from sklearn.tree import export_graphviz\n",
    "from sklearn.preprocessing import OrdinalEncoder\n",
    "import time"
   ]
  },
  {
   "cell_type": "code",
   "execution_count": 2,
   "id": "799b3198",
   "metadata": {},
   "outputs": [],
   "source": [
    "df = pd.read_csv(\"C:\\\\Users\\\\jigar\\\\OneDrive\\\\Desktop\\\\Courses\\\\ALY6020\\\\Nashville_housing_data_2013_2016.csv\")"
   ]
  },
  {
   "cell_type": "code",
   "execution_count": 3,
   "id": "e22348eb",
   "metadata": {
    "scrolled": true
   },
   "outputs": [
    {
     "data": {
      "text/html": [
       "<div>\n",
       "<style scoped>\n",
       "    .dataframe tbody tr th:only-of-type {\n",
       "        vertical-align: middle;\n",
       "    }\n",
       "\n",
       "    .dataframe tbody tr th {\n",
       "        vertical-align: top;\n",
       "    }\n",
       "\n",
       "    .dataframe thead th {\n",
       "        text-align: right;\n",
       "    }\n",
       "</style>\n",
       "<table border=\"1\" class=\"dataframe\">\n",
       "  <thead>\n",
       "    <tr style=\"text-align: right;\">\n",
       "      <th></th>\n",
       "      <th>Unnamed: 0</th>\n",
       "      <th>Unnamed: 0.1</th>\n",
       "      <th>Parcel ID</th>\n",
       "      <th>Land Use</th>\n",
       "      <th>Property Address</th>\n",
       "      <th>Suite/ Condo   #</th>\n",
       "      <th>Property City</th>\n",
       "      <th>Sale Date</th>\n",
       "      <th>Sale Price</th>\n",
       "      <th>Legal Reference</th>\n",
       "      <th>...</th>\n",
       "      <th>Building Value</th>\n",
       "      <th>Total Value</th>\n",
       "      <th>Finished Area</th>\n",
       "      <th>Foundation Type</th>\n",
       "      <th>Year Built</th>\n",
       "      <th>Exterior Wall</th>\n",
       "      <th>Grade</th>\n",
       "      <th>Bedrooms</th>\n",
       "      <th>Full Bath</th>\n",
       "      <th>Half Bath</th>\n",
       "    </tr>\n",
       "  </thead>\n",
       "  <tbody>\n",
       "    <tr>\n",
       "      <th>0</th>\n",
       "      <td>0</td>\n",
       "      <td>0</td>\n",
       "      <td>105 03 0D 008.00</td>\n",
       "      <td>RESIDENTIAL CONDO</td>\n",
       "      <td>1208  3RD AVE S</td>\n",
       "      <td>8</td>\n",
       "      <td>NASHVILLE</td>\n",
       "      <td>2013-01-24</td>\n",
       "      <td>132000</td>\n",
       "      <td>20130128-0008725</td>\n",
       "      <td>...</td>\n",
       "      <td>NaN</td>\n",
       "      <td>NaN</td>\n",
       "      <td>NaN</td>\n",
       "      <td>NaN</td>\n",
       "      <td>NaN</td>\n",
       "      <td>NaN</td>\n",
       "      <td>NaN</td>\n",
       "      <td>NaN</td>\n",
       "      <td>NaN</td>\n",
       "      <td>NaN</td>\n",
       "    </tr>\n",
       "    <tr>\n",
       "      <th>1</th>\n",
       "      <td>1</td>\n",
       "      <td>1</td>\n",
       "      <td>105 11 0 080.00</td>\n",
       "      <td>SINGLE FAMILY</td>\n",
       "      <td>1802  STEWART PL</td>\n",
       "      <td>NaN</td>\n",
       "      <td>NASHVILLE</td>\n",
       "      <td>2013-01-11</td>\n",
       "      <td>191500</td>\n",
       "      <td>20130118-0006337</td>\n",
       "      <td>...</td>\n",
       "      <td>134400.0</td>\n",
       "      <td>168300.0</td>\n",
       "      <td>1149.00000</td>\n",
       "      <td>PT BSMT</td>\n",
       "      <td>1941.0</td>\n",
       "      <td>BRICK</td>\n",
       "      <td>C</td>\n",
       "      <td>2.0</td>\n",
       "      <td>1.0</td>\n",
       "      <td>0.0</td>\n",
       "    </tr>\n",
       "    <tr>\n",
       "      <th>2</th>\n",
       "      <td>2</td>\n",
       "      <td>2</td>\n",
       "      <td>118 03 0 130.00</td>\n",
       "      <td>SINGLE FAMILY</td>\n",
       "      <td>2761  ROSEDALE PL</td>\n",
       "      <td>NaN</td>\n",
       "      <td>NASHVILLE</td>\n",
       "      <td>2013-01-18</td>\n",
       "      <td>202000</td>\n",
       "      <td>20130124-0008033</td>\n",
       "      <td>...</td>\n",
       "      <td>157800.0</td>\n",
       "      <td>191800.0</td>\n",
       "      <td>2090.82495</td>\n",
       "      <td>SLAB</td>\n",
       "      <td>2000.0</td>\n",
       "      <td>BRICK/FRAME</td>\n",
       "      <td>C</td>\n",
       "      <td>3.0</td>\n",
       "      <td>2.0</td>\n",
       "      <td>1.0</td>\n",
       "    </tr>\n",
       "    <tr>\n",
       "      <th>3</th>\n",
       "      <td>3</td>\n",
       "      <td>3</td>\n",
       "      <td>119 01 0 479.00</td>\n",
       "      <td>SINGLE FAMILY</td>\n",
       "      <td>224  PEACHTREE ST</td>\n",
       "      <td>NaN</td>\n",
       "      <td>NASHVILLE</td>\n",
       "      <td>2013-01-18</td>\n",
       "      <td>32000</td>\n",
       "      <td>20130128-0008863</td>\n",
       "      <td>...</td>\n",
       "      <td>243700.0</td>\n",
       "      <td>268700.0</td>\n",
       "      <td>2145.60001</td>\n",
       "      <td>FULL BSMT</td>\n",
       "      <td>1948.0</td>\n",
       "      <td>BRICK/FRAME</td>\n",
       "      <td>B</td>\n",
       "      <td>4.0</td>\n",
       "      <td>2.0</td>\n",
       "      <td>0.0</td>\n",
       "    </tr>\n",
       "    <tr>\n",
       "      <th>4</th>\n",
       "      <td>4</td>\n",
       "      <td>4</td>\n",
       "      <td>119 05 0 186.00</td>\n",
       "      <td>SINGLE FAMILY</td>\n",
       "      <td>316  LUTIE ST</td>\n",
       "      <td>NaN</td>\n",
       "      <td>NASHVILLE</td>\n",
       "      <td>2013-01-23</td>\n",
       "      <td>102000</td>\n",
       "      <td>20130131-0009929</td>\n",
       "      <td>...</td>\n",
       "      <td>138100.0</td>\n",
       "      <td>164800.0</td>\n",
       "      <td>1969.00000</td>\n",
       "      <td>CRAWL</td>\n",
       "      <td>1910.0</td>\n",
       "      <td>FRAME</td>\n",
       "      <td>C</td>\n",
       "      <td>2.0</td>\n",
       "      <td>1.0</td>\n",
       "      <td>0.0</td>\n",
       "    </tr>\n",
       "    <tr>\n",
       "      <th>5</th>\n",
       "      <td>5</td>\n",
       "      <td>5</td>\n",
       "      <td>119 05 0 387.00</td>\n",
       "      <td>SINGLE FAMILY</td>\n",
       "      <td>2626  FOSTER AVE</td>\n",
       "      <td>NaN</td>\n",
       "      <td>NASHVILLE</td>\n",
       "      <td>2013-01-04</td>\n",
       "      <td>93736</td>\n",
       "      <td>20130118-0006110</td>\n",
       "      <td>...</td>\n",
       "      <td>86100.0</td>\n",
       "      <td>113300.0</td>\n",
       "      <td>1037.00000</td>\n",
       "      <td>CRAWL</td>\n",
       "      <td>1945.0</td>\n",
       "      <td>FRAME</td>\n",
       "      <td>C</td>\n",
       "      <td>2.0</td>\n",
       "      <td>1.0</td>\n",
       "      <td>0.0</td>\n",
       "    </tr>\n",
       "    <tr>\n",
       "      <th>6</th>\n",
       "      <td>6</td>\n",
       "      <td>6</td>\n",
       "      <td>119 10 0A 104.00</td>\n",
       "      <td>RESIDENTIAL CONDO</td>\n",
       "      <td>104  PRESCOTT PL</td>\n",
       "      <td>NaN</td>\n",
       "      <td>NASHVILLE</td>\n",
       "      <td>2013-01-07</td>\n",
       "      <td>64900</td>\n",
       "      <td>20130109-0002881</td>\n",
       "      <td>...</td>\n",
       "      <td>NaN</td>\n",
       "      <td>NaN</td>\n",
       "      <td>NaN</td>\n",
       "      <td>NaN</td>\n",
       "      <td>NaN</td>\n",
       "      <td>NaN</td>\n",
       "      <td>NaN</td>\n",
       "      <td>NaN</td>\n",
       "      <td>NaN</td>\n",
       "      <td>NaN</td>\n",
       "    </tr>\n",
       "    <tr>\n",
       "      <th>7</th>\n",
       "      <td>7</td>\n",
       "      <td>7</td>\n",
       "      <td>119 13 0 183.00</td>\n",
       "      <td>SINGLE FAMILY</td>\n",
       "      <td>501  MORTON AVE</td>\n",
       "      <td>NaN</td>\n",
       "      <td>NASHVILLE</td>\n",
       "      <td>2013-01-15</td>\n",
       "      <td>44000</td>\n",
       "      <td>20130115-0004888</td>\n",
       "      <td>...</td>\n",
       "      <td>68100.0</td>\n",
       "      <td>84300.0</td>\n",
       "      <td>1216.00000</td>\n",
       "      <td>CRAWL</td>\n",
       "      <td>1932.0</td>\n",
       "      <td>FRAME</td>\n",
       "      <td>D</td>\n",
       "      <td>2.0</td>\n",
       "      <td>1.0</td>\n",
       "      <td>0.0</td>\n",
       "    </tr>\n",
       "    <tr>\n",
       "      <th>8</th>\n",
       "      <td>8</td>\n",
       "      <td>8</td>\n",
       "      <td>119 13 0 183.00</td>\n",
       "      <td>SINGLE FAMILY</td>\n",
       "      <td>501  MORTON AVE</td>\n",
       "      <td>NaN</td>\n",
       "      <td>NASHVILLE</td>\n",
       "      <td>2013-01-25</td>\n",
       "      <td>49900</td>\n",
       "      <td>20130128-0008950</td>\n",
       "      <td>...</td>\n",
       "      <td>68100.0</td>\n",
       "      <td>84300.0</td>\n",
       "      <td>1216.00000</td>\n",
       "      <td>CRAWL</td>\n",
       "      <td>1932.0</td>\n",
       "      <td>FRAME</td>\n",
       "      <td>D</td>\n",
       "      <td>2.0</td>\n",
       "      <td>1.0</td>\n",
       "      <td>0.0</td>\n",
       "    </tr>\n",
       "    <tr>\n",
       "      <th>9</th>\n",
       "      <td>9</td>\n",
       "      <td>9</td>\n",
       "      <td>119 15 0 158.00</td>\n",
       "      <td>SINGLE FAMILY</td>\n",
       "      <td>113  NEESE DR</td>\n",
       "      <td>NaN</td>\n",
       "      <td>NASHVILLE</td>\n",
       "      <td>2013-01-09</td>\n",
       "      <td>25000</td>\n",
       "      <td>20130111-0003850</td>\n",
       "      <td>...</td>\n",
       "      <td>57100.0</td>\n",
       "      <td>88400.0</td>\n",
       "      <td>1152.00000</td>\n",
       "      <td>CRAWL</td>\n",
       "      <td>1945.0</td>\n",
       "      <td>FRAME</td>\n",
       "      <td>C</td>\n",
       "      <td>2.0</td>\n",
       "      <td>1.0</td>\n",
       "      <td>0.0</td>\n",
       "    </tr>\n",
       "  </tbody>\n",
       "</table>\n",
       "<p>10 rows × 31 columns</p>\n",
       "</div>"
      ],
      "text/plain": [
       "   Unnamed: 0  Unnamed: 0.1         Parcel ID           Land Use  \\\n",
       "0           0             0  105 03 0D 008.00  RESIDENTIAL CONDO   \n",
       "1           1             1   105 11 0 080.00      SINGLE FAMILY   \n",
       "2           2             2   118 03 0 130.00      SINGLE FAMILY   \n",
       "3           3             3   119 01 0 479.00      SINGLE FAMILY   \n",
       "4           4             4   119 05 0 186.00      SINGLE FAMILY   \n",
       "5           5             5   119 05 0 387.00      SINGLE FAMILY   \n",
       "6           6             6  119 10 0A 104.00  RESIDENTIAL CONDO   \n",
       "7           7             7   119 13 0 183.00      SINGLE FAMILY   \n",
       "8           8             8   119 13 0 183.00      SINGLE FAMILY   \n",
       "9           9             9   119 15 0 158.00      SINGLE FAMILY   \n",
       "\n",
       "    Property Address Suite/ Condo   # Property City   Sale Date  Sale Price  \\\n",
       "0    1208  3RD AVE S                8     NASHVILLE  2013-01-24      132000   \n",
       "1   1802  STEWART PL              NaN     NASHVILLE  2013-01-11      191500   \n",
       "2  2761  ROSEDALE PL              NaN     NASHVILLE  2013-01-18      202000   \n",
       "3  224  PEACHTREE ST              NaN     NASHVILLE  2013-01-18       32000   \n",
       "4      316  LUTIE ST              NaN     NASHVILLE  2013-01-23      102000   \n",
       "5   2626  FOSTER AVE              NaN     NASHVILLE  2013-01-04       93736   \n",
       "6   104  PRESCOTT PL              NaN     NASHVILLE  2013-01-07       64900   \n",
       "7    501  MORTON AVE              NaN     NASHVILLE  2013-01-15       44000   \n",
       "8    501  MORTON AVE              NaN     NASHVILLE  2013-01-25       49900   \n",
       "9      113  NEESE DR              NaN     NASHVILLE  2013-01-09       25000   \n",
       "\n",
       "    Legal Reference  ... Building Value Total Value Finished Area  \\\n",
       "0  20130128-0008725  ...            NaN         NaN           NaN   \n",
       "1  20130118-0006337  ...       134400.0    168300.0    1149.00000   \n",
       "2  20130124-0008033  ...       157800.0    191800.0    2090.82495   \n",
       "3  20130128-0008863  ...       243700.0    268700.0    2145.60001   \n",
       "4  20130131-0009929  ...       138100.0    164800.0    1969.00000   \n",
       "5  20130118-0006110  ...        86100.0    113300.0    1037.00000   \n",
       "6  20130109-0002881  ...            NaN         NaN           NaN   \n",
       "7  20130115-0004888  ...        68100.0     84300.0    1216.00000   \n",
       "8  20130128-0008950  ...        68100.0     84300.0    1216.00000   \n",
       "9  20130111-0003850  ...        57100.0     88400.0    1152.00000   \n",
       "\n",
       "  Foundation Type Year Built Exterior Wall  Grade Bedrooms  Full Bath  \\\n",
       "0             NaN        NaN           NaN    NaN      NaN        NaN   \n",
       "1         PT BSMT     1941.0         BRICK   C         2.0        1.0   \n",
       "2            SLAB     2000.0   BRICK/FRAME   C         3.0        2.0   \n",
       "3       FULL BSMT     1948.0   BRICK/FRAME   B         4.0        2.0   \n",
       "4           CRAWL     1910.0         FRAME   C         2.0        1.0   \n",
       "5           CRAWL     1945.0         FRAME   C         2.0        1.0   \n",
       "6             NaN        NaN           NaN    NaN      NaN        NaN   \n",
       "7           CRAWL     1932.0         FRAME   D         2.0        1.0   \n",
       "8           CRAWL     1932.0         FRAME   D         2.0        1.0   \n",
       "9           CRAWL     1945.0         FRAME   C         2.0        1.0   \n",
       "\n",
       "  Half Bath  \n",
       "0       NaN  \n",
       "1       0.0  \n",
       "2       1.0  \n",
       "3       0.0  \n",
       "4       0.0  \n",
       "5       0.0  \n",
       "6       NaN  \n",
       "7       0.0  \n",
       "8       0.0  \n",
       "9       0.0  \n",
       "\n",
       "[10 rows x 31 columns]"
      ]
     },
     "execution_count": 3,
     "metadata": {},
     "output_type": "execute_result"
    }
   ],
   "source": [
    "df.head(10)"
   ]
  },
  {
   "cell_type": "code",
   "execution_count": 4,
   "id": "d59e5890",
   "metadata": {},
   "outputs": [
    {
     "name": "stdout",
     "output_type": "stream",
     "text": [
      "<class 'pandas.core.frame.DataFrame'>\n",
      "RangeIndex: 56636 entries, 0 to 56635\n",
      "Data columns (total 31 columns):\n",
      " #   Column                             Non-Null Count  Dtype  \n",
      "---  ------                             --------------  -----  \n",
      " 0   Unnamed: 0                         56636 non-null  int64  \n",
      " 1   Unnamed: 0.1                       56636 non-null  int64  \n",
      " 2   Parcel ID                          56636 non-null  object \n",
      " 3   Land Use                           56636 non-null  object \n",
      " 4   Property Address                   56477 non-null  object \n",
      " 5   Suite/ Condo   #                   6109 non-null   object \n",
      " 6   Property City                      56477 non-null  object \n",
      " 7   Sale Date                          56636 non-null  object \n",
      " 8   Sale Price                         56636 non-null  int64  \n",
      " 9   Legal Reference                    56636 non-null  object \n",
      " 10  Sold As Vacant                     56636 non-null  object \n",
      " 11  Multiple Parcels Involved in Sale  56636 non-null  object \n",
      " 12  Owner Name                         25261 non-null  object \n",
      " 13  Address                            26017 non-null  object \n",
      " 14  City                               26017 non-null  object \n",
      " 15  State                              26017 non-null  object \n",
      " 16  Acreage                            26017 non-null  float64\n",
      " 17  Tax District                       26017 non-null  object \n",
      " 18  Neighborhood                       26017 non-null  float64\n",
      " 19  image                              25335 non-null  object \n",
      " 20  Land Value                         26017 non-null  float64\n",
      " 21  Building Value                     26017 non-null  float64\n",
      " 22  Total Value                        26017 non-null  float64\n",
      " 23  Finished Area                      24166 non-null  float64\n",
      " 24  Foundation Type                    24164 non-null  object \n",
      " 25  Year Built                         24165 non-null  float64\n",
      " 26  Exterior Wall                      24165 non-null  object \n",
      " 27  Grade                              24165 non-null  object \n",
      " 28  Bedrooms                           24159 non-null  float64\n",
      " 29  Full Bath                          24277 non-null  float64\n",
      " 30  Half Bath                          24146 non-null  float64\n",
      "dtypes: float64(10), int64(3), object(18)\n",
      "memory usage: 13.4+ MB\n"
     ]
    }
   ],
   "source": [
    "df.info()"
   ]
  },
  {
   "cell_type": "markdown",
   "id": "57254178",
   "metadata": {},
   "source": [
    "## Data Cleaning & Manipulation"
   ]
  },
  {
   "cell_type": "code",
   "execution_count": 5,
   "id": "1e1279ea",
   "metadata": {},
   "outputs": [],
   "source": [
    "# Dropping column 'Unnamed: 0' which has ids for each record.\n",
    "\n",
    "df = df.drop(columns = ['Unnamed: 0','Unnamed: 0.1'])"
   ]
  },
  {
   "cell_type": "code",
   "execution_count": 6,
   "id": "f001ba86",
   "metadata": {},
   "outputs": [],
   "source": [
    "#Dropping rows with more that 70% missing data\n",
    "thresh = len(df.columns)*0.7\n",
    "df1 = df.dropna(thresh=thresh)"
   ]
  },
  {
   "cell_type": "code",
   "execution_count": 7,
   "id": "47ae067e",
   "metadata": {
    "scrolled": true
   },
   "outputs": [
    {
     "name": "stdout",
     "output_type": "stream",
     "text": [
      "Parcel ID : 0\n",
      "Land Use : 0\n",
      "Property Address : 2\n",
      "Suite/ Condo   # : 24275\n",
      "Property City : 2\n",
      "Sale Date : 0\n",
      "Sale Price : 0\n",
      "Legal Reference : 0\n",
      "Sold As Vacant : 0\n",
      "Multiple Parcels Involved in Sale : 0\n",
      "Owner Name : 310\n",
      "Address : 0\n",
      "City : 0\n",
      "State : 0\n",
      "Acreage : 0\n",
      "Tax District : 0\n",
      "Neighborhood : 0\n",
      "image : 63\n",
      "Land Value : 0\n",
      "Building Value : 0\n",
      "Total Value : 0\n",
      "Finished Area : 111\n",
      "Foundation Type : 113\n",
      "Year Built : 112\n",
      "Exterior Wall : 112\n",
      "Grade : 112\n",
      "Bedrooms : 118\n",
      "Full Bath : 5\n",
      "Half Bath : 136\n"
     ]
    }
   ],
   "source": [
    "# Checking for null values in each columns\n",
    "\n",
    "for i in df1.columns:\n",
    "    print(i, ':', df1[i].isnull().sum())"
   ]
  },
  {
   "cell_type": "code",
   "execution_count": 8,
   "id": "5eb95c83",
   "metadata": {},
   "outputs": [
    {
     "data": {
      "text/plain": [
       "(24277, 29)"
      ]
     },
     "execution_count": 8,
     "metadata": {},
     "output_type": "execute_result"
    }
   ],
   "source": [
    "df1.shape"
   ]
  },
  {
   "cell_type": "code",
   "execution_count": 9,
   "id": "1778ac8d",
   "metadata": {},
   "outputs": [],
   "source": [
    "# Dropping column 'Suite/Condo' as it still has more that 90% values misisng\n",
    "\n",
    "data = df1.drop(columns = ['Suite/ Condo   #'])"
   ]
  },
  {
   "cell_type": "code",
   "execution_count": 10,
   "id": "f0e81891",
   "metadata": {},
   "outputs": [
    {
     "name": "stdout",
     "output_type": "stream",
     "text": [
      "Parcel ID : 20952\n",
      "Land Use : 26\n",
      "Property Address : 21780\n",
      "Property City : 10\n",
      "Sale Date : 1049\n",
      "Sale Price : 3791\n",
      "Legal Reference : 23952\n",
      "Sold As Vacant : 2\n",
      "Multiple Parcels Involved in Sale : 2\n",
      "Owner Name : 19219\n",
      "Address : 20946\n",
      "City : 10\n",
      "State : 1\n",
      "Acreage : 440\n",
      "Tax District : 7\n",
      "Neighborhood : 195\n",
      "image : 20895\n",
      "Land Value : 970\n",
      "Building Value : 4406\n",
      "Total Value : 5668\n",
      "Finished Area : 6117\n",
      "Foundation Type : 6\n",
      "Year Built : 126\n",
      "Exterior Wall : 10\n",
      "Grade : 20\n",
      "Bedrooms : 12\n",
      "Full Bath : 11\n",
      "Half Bath : 4\n"
     ]
    }
   ],
   "source": [
    "# Checking for unique values/Cardinality in each column\n",
    "\n",
    "for i in data.columns:\n",
    "    print(i, ':', df1[i].nunique())"
   ]
  },
  {
   "cell_type": "code",
   "execution_count": 11,
   "id": "f77c68c9",
   "metadata": {},
   "outputs": [],
   "source": [
    "#Removing categorical Variables with High Cardinality\n",
    "df = data.drop(columns = ['Parcel ID','Property Address','Legal Reference','Owner Name','Address','image','State','City'])"
   ]
  },
  {
   "cell_type": "code",
   "execution_count": 12,
   "id": "3f0b9ed5",
   "metadata": {
    "scrolled": true
   },
   "outputs": [
    {
     "name": "stdout",
     "output_type": "stream",
     "text": [
      "Land Use : 0\n",
      "Property City : 2\n",
      "Sale Date : 0\n",
      "Sale Price : 0\n",
      "Sold As Vacant : 0\n",
      "Multiple Parcels Involved in Sale : 0\n",
      "Acreage : 0\n",
      "Tax District : 0\n",
      "Neighborhood : 0\n",
      "Land Value : 0\n",
      "Building Value : 0\n",
      "Total Value : 0\n",
      "Finished Area : 111\n",
      "Foundation Type : 113\n",
      "Year Built : 112\n",
      "Exterior Wall : 112\n",
      "Grade : 112\n",
      "Bedrooms : 118\n",
      "Full Bath : 5\n",
      "Half Bath : 136\n"
     ]
    }
   ],
   "source": [
    "# Checking for null values in each columns\n",
    "\n",
    "for i in df.columns:\n",
    "    print(i, ':', df[i].isnull().sum())"
   ]
  },
  {
   "cell_type": "code",
   "execution_count": 13,
   "id": "fe0f8f32",
   "metadata": {},
   "outputs": [],
   "source": [
    "# Filling the missing values in columns\n",
    "df['Finished Area'] = df['Finished Area'].fillna(df['Finished Area'].mean())  #Replacing with mean.\n",
    "\n",
    "df['Bedrooms'] = df['Bedrooms'].fillna(df['Bedrooms'].median()) # Replacing with median because bedrooms cannot be in decimal\n",
    "\n",
    "df['Full Bath'] = df['Full Bath'].fillna(df['Full Bath'].median())\n",
    "\n",
    "df['Half Bath'] = df['Half Bath'].fillna(df['Half Bath'].median())\n",
    "\n",
    "df['Year Built'] = df['Year Built'].fillna(df['Year Built'].median())"
   ]
  },
  {
   "cell_type": "code",
   "execution_count": 14,
   "id": "62cdcbdd",
   "metadata": {},
   "outputs": [],
   "source": [
    "#Filling the Missing Value in Categorical Variable with Most A=Occuring Category"
   ]
  },
  {
   "cell_type": "code",
   "execution_count": 15,
   "id": "e522b084",
   "metadata": {
    "scrolled": true
   },
   "outputs": [
    {
     "data": {
      "text/plain": [
       "NASHVILLE         19176\n",
       "ANTIOCH            1285\n",
       "MADISON            1232\n",
       "HERMITAGE          1026\n",
       "OLD HICKORY         868\n",
       "GOODLETTSVILLE      462\n",
       "BRENTWOOD           188\n",
       "WHITES CREEK         20\n",
       "JOELTON              11\n",
       "MOUNT JULIET          7\n",
       "Name: Property City, dtype: int64"
      ]
     },
     "execution_count": 15,
     "metadata": {},
     "output_type": "execute_result"
    }
   ],
   "source": [
    "df['Property City'].value_counts()"
   ]
  },
  {
   "cell_type": "code",
   "execution_count": 16,
   "id": "0c0415a9",
   "metadata": {},
   "outputs": [],
   "source": [
    "df['Property City'] = df['Property City'].fillna('NASHVILLE')"
   ]
  },
  {
   "cell_type": "code",
   "execution_count": 17,
   "id": "d10cef84",
   "metadata": {},
   "outputs": [
    {
     "data": {
      "text/plain": [
       "CRAWL        15389\n",
       "FULL BSMT     3917\n",
       "PT BSMT       3200\n",
       "SLAB          1581\n",
       "TYPICAL         40\n",
       "PIERS           37\n",
       "Name: Foundation Type, dtype: int64"
      ]
     },
     "execution_count": 17,
     "metadata": {},
     "output_type": "execute_result"
    }
   ],
   "source": [
    "df['Foundation Type'].value_counts()"
   ]
  },
  {
   "cell_type": "code",
   "execution_count": 18,
   "id": "a26cd82d",
   "metadata": {},
   "outputs": [],
   "source": [
    "df['Foundation Type'] = df['Foundation Type'].fillna('CRAWL')"
   ]
  },
  {
   "cell_type": "code",
   "execution_count": 19,
   "id": "3162c034",
   "metadata": {},
   "outputs": [
    {
     "data": {
      "text/plain": [
       "C       17262\n",
       "B        3698\n",
       "D        1984\n",
       "A         598\n",
       "X         523\n",
       "E          60\n",
       "TCC        20\n",
       "AAC         3\n",
       "AAB         3\n",
       "IDC         3\n",
       "OFC         2\n",
       "TAC         1\n",
       "SSC         1\n",
       "SRD         1\n",
       "OFB         1\n",
       "OMB         1\n",
       "SRC         1\n",
       "TCD         1\n",
       "TFC         1\n",
       "TCB         1\n",
       "Name: Grade, dtype: int64"
      ]
     },
     "execution_count": 19,
     "metadata": {},
     "output_type": "execute_result"
    }
   ],
   "source": [
    "df['Grade'].value_counts()"
   ]
  },
  {
   "cell_type": "code",
   "execution_count": 20,
   "id": "9caa7dcf",
   "metadata": {},
   "outputs": [],
   "source": [
    "df['Grade'] = df['Grade'].fillna('C')"
   ]
  },
  {
   "cell_type": "code",
   "execution_count": 21,
   "id": "6db70912",
   "metadata": {},
   "outputs": [
    {
     "data": {
      "text/plain": [
       "BRICK           11942\n",
       "FRAME            8870\n",
       "BRICK/FRAME      2602\n",
       "STONE             331\n",
       "STUCCO            168\n",
       "CONC BLK          113\n",
       "FRAME/STONE       108\n",
       "LOG                15\n",
       "METAL              15\n",
       "PRECAST CONC        1\n",
       "Name: Exterior Wall, dtype: int64"
      ]
     },
     "execution_count": 21,
     "metadata": {},
     "output_type": "execute_result"
    }
   ],
   "source": [
    "df['Exterior Wall'].value_counts()"
   ]
  },
  {
   "cell_type": "code",
   "execution_count": 22,
   "id": "a471dc90",
   "metadata": {},
   "outputs": [],
   "source": [
    "df['Exterior Wall'] = df['Exterior Wall'].fillna('BRICK')"
   ]
  },
  {
   "cell_type": "code",
   "execution_count": 23,
   "id": "17b5567a",
   "metadata": {},
   "outputs": [
    {
     "name": "stdout",
     "output_type": "stream",
     "text": [
      "Land Use : 0\n",
      "Property City : 0\n",
      "Sale Date : 0\n",
      "Sale Price : 0\n",
      "Sold As Vacant : 0\n",
      "Multiple Parcels Involved in Sale : 0\n",
      "Acreage : 0\n",
      "Tax District : 0\n",
      "Neighborhood : 0\n",
      "Land Value : 0\n",
      "Building Value : 0\n",
      "Total Value : 0\n",
      "Finished Area : 0\n",
      "Foundation Type : 0\n",
      "Year Built : 0\n",
      "Exterior Wall : 0\n",
      "Grade : 0\n",
      "Bedrooms : 0\n",
      "Full Bath : 0\n",
      "Half Bath : 0\n"
     ]
    }
   ],
   "source": [
    "# Checking for null values in each columns\n",
    "\n",
    "for i in df.columns:\n",
    "    print(i, ':', df[i].isnull().sum())"
   ]
  },
  {
   "cell_type": "code",
   "execution_count": 24,
   "id": "170e0349",
   "metadata": {
    "scrolled": false
   },
   "outputs": [
    {
     "data": {
      "text/html": [
       "<div>\n",
       "<style scoped>\n",
       "    .dataframe tbody tr th:only-of-type {\n",
       "        vertical-align: middle;\n",
       "    }\n",
       "\n",
       "    .dataframe tbody tr th {\n",
       "        vertical-align: top;\n",
       "    }\n",
       "\n",
       "    .dataframe thead th {\n",
       "        text-align: right;\n",
       "    }\n",
       "</style>\n",
       "<table border=\"1\" class=\"dataframe\">\n",
       "  <thead>\n",
       "    <tr style=\"text-align: right;\">\n",
       "      <th></th>\n",
       "      <th>Sale Price</th>\n",
       "      <th>Acreage</th>\n",
       "      <th>Neighborhood</th>\n",
       "      <th>Land Value</th>\n",
       "      <th>Building Value</th>\n",
       "      <th>Total Value</th>\n",
       "      <th>Finished Area</th>\n",
       "      <th>Year Built</th>\n",
       "      <th>Bedrooms</th>\n",
       "      <th>Full Bath</th>\n",
       "      <th>Half Bath</th>\n",
       "    </tr>\n",
       "  </thead>\n",
       "  <tbody>\n",
       "    <tr>\n",
       "      <th>count</th>\n",
       "      <td>2.427700e+04</td>\n",
       "      <td>24277.000000</td>\n",
       "      <td>24277.000000</td>\n",
       "      <td>2.427700e+04</td>\n",
       "      <td>2.427700e+04</td>\n",
       "      <td>2.427700e+04</td>\n",
       "      <td>24277.000000</td>\n",
       "      <td>24277.000000</td>\n",
       "      <td>24277.000000</td>\n",
       "      <td>24277.000000</td>\n",
       "      <td>24277.000000</td>\n",
       "    </tr>\n",
       "    <tr>\n",
       "      <th>mean</th>\n",
       "      <td>2.760655e+05</td>\n",
       "      <td>0.461978</td>\n",
       "      <td>4425.296824</td>\n",
       "      <td>6.944655e+04</td>\n",
       "      <td>1.723276e+05</td>\n",
       "      <td>2.444474e+05</td>\n",
       "      <td>1926.954345</td>\n",
       "      <td>1963.731927</td>\n",
       "      <td>3.089591</td>\n",
       "      <td>1.886518</td>\n",
       "      <td>0.282448</td>\n",
       "    </tr>\n",
       "    <tr>\n",
       "      <th>std</th>\n",
       "      <td>3.143324e+05</td>\n",
       "      <td>0.894009</td>\n",
       "      <td>2144.274471</td>\n",
       "      <td>1.031534e+05</td>\n",
       "      <td>2.093971e+05</td>\n",
       "      <td>2.847463e+05</td>\n",
       "      <td>1683.156021</td>\n",
       "      <td>26.486052</td>\n",
       "      <td>0.850890</td>\n",
       "      <td>0.961192</td>\n",
       "      <td>0.487031</td>\n",
       "    </tr>\n",
       "    <tr>\n",
       "      <th>min</th>\n",
       "      <td>1.000000e+02</td>\n",
       "      <td>0.040000</td>\n",
       "      <td>107.000000</td>\n",
       "      <td>1.000000e+02</td>\n",
       "      <td>0.000000e+00</td>\n",
       "      <td>7.500000e+03</td>\n",
       "      <td>0.000000</td>\n",
       "      <td>1799.000000</td>\n",
       "      <td>0.000000</td>\n",
       "      <td>0.000000</td>\n",
       "      <td>0.000000</td>\n",
       "    </tr>\n",
       "    <tr>\n",
       "      <th>25%</th>\n",
       "      <td>1.250000e+05</td>\n",
       "      <td>0.190000</td>\n",
       "      <td>3130.000000</td>\n",
       "      <td>2.160000e+04</td>\n",
       "      <td>8.320000e+04</td>\n",
       "      <td>1.094000e+05</td>\n",
       "      <td>1241.000000</td>\n",
       "      <td>1948.000000</td>\n",
       "      <td>3.000000</td>\n",
       "      <td>1.000000</td>\n",
       "      <td>0.000000</td>\n",
       "    </tr>\n",
       "    <tr>\n",
       "      <th>50%</th>\n",
       "      <td>1.850000e+05</td>\n",
       "      <td>0.270000</td>\n",
       "      <td>4026.000000</td>\n",
       "      <td>2.990000e+04</td>\n",
       "      <td>1.170000e+05</td>\n",
       "      <td>1.545000e+05</td>\n",
       "      <td>1636.000000</td>\n",
       "      <td>1960.000000</td>\n",
       "      <td>3.000000</td>\n",
       "      <td>2.000000</td>\n",
       "      <td>0.000000</td>\n",
       "    </tr>\n",
       "    <tr>\n",
       "      <th>75%</th>\n",
       "      <td>3.250000e+05</td>\n",
       "      <td>0.450000</td>\n",
       "      <td>6229.000000</td>\n",
       "      <td>6.030000e+04</td>\n",
       "      <td>1.888000e+05</td>\n",
       "      <td>2.782000e+05</td>\n",
       "      <td>2210.000000</td>\n",
       "      <td>1983.000000</td>\n",
       "      <td>3.000000</td>\n",
       "      <td>2.000000</td>\n",
       "      <td>1.000000</td>\n",
       "    </tr>\n",
       "    <tr>\n",
       "      <th>max</th>\n",
       "      <td>1.235000e+07</td>\n",
       "      <td>51.340000</td>\n",
       "      <td>9530.000000</td>\n",
       "      <td>1.869000e+06</td>\n",
       "      <td>1.297180e+07</td>\n",
       "      <td>1.394040e+07</td>\n",
       "      <td>197988.000000</td>\n",
       "      <td>2017.000000</td>\n",
       "      <td>11.000000</td>\n",
       "      <td>10.000000</td>\n",
       "      <td>3.000000</td>\n",
       "    </tr>\n",
       "  </tbody>\n",
       "</table>\n",
       "</div>"
      ],
      "text/plain": [
       "         Sale Price       Acreage  Neighborhood    Land Value  Building Value  \\\n",
       "count  2.427700e+04  24277.000000  24277.000000  2.427700e+04    2.427700e+04   \n",
       "mean   2.760655e+05      0.461978   4425.296824  6.944655e+04    1.723276e+05   \n",
       "std    3.143324e+05      0.894009   2144.274471  1.031534e+05    2.093971e+05   \n",
       "min    1.000000e+02      0.040000    107.000000  1.000000e+02    0.000000e+00   \n",
       "25%    1.250000e+05      0.190000   3130.000000  2.160000e+04    8.320000e+04   \n",
       "50%    1.850000e+05      0.270000   4026.000000  2.990000e+04    1.170000e+05   \n",
       "75%    3.250000e+05      0.450000   6229.000000  6.030000e+04    1.888000e+05   \n",
       "max    1.235000e+07     51.340000   9530.000000  1.869000e+06    1.297180e+07   \n",
       "\n",
       "        Total Value  Finished Area    Year Built      Bedrooms     Full Bath  \\\n",
       "count  2.427700e+04   24277.000000  24277.000000  24277.000000  24277.000000   \n",
       "mean   2.444474e+05    1926.954345   1963.731927      3.089591      1.886518   \n",
       "std    2.847463e+05    1683.156021     26.486052      0.850890      0.961192   \n",
       "min    7.500000e+03       0.000000   1799.000000      0.000000      0.000000   \n",
       "25%    1.094000e+05    1241.000000   1948.000000      3.000000      1.000000   \n",
       "50%    1.545000e+05    1636.000000   1960.000000      3.000000      2.000000   \n",
       "75%    2.782000e+05    2210.000000   1983.000000      3.000000      2.000000   \n",
       "max    1.394040e+07  197988.000000   2017.000000     11.000000     10.000000   \n",
       "\n",
       "          Half Bath  \n",
       "count  24277.000000  \n",
       "mean       0.282448  \n",
       "std        0.487031  \n",
       "min        0.000000  \n",
       "25%        0.000000  \n",
       "50%        0.000000  \n",
       "75%        1.000000  \n",
       "max        3.000000  "
      ]
     },
     "execution_count": 24,
     "metadata": {},
     "output_type": "execute_result"
    }
   ],
   "source": [
    "df.describe()"
   ]
  },
  {
   "cell_type": "code",
   "execution_count": 25,
   "id": "dfcf52f7",
   "metadata": {},
   "outputs": [],
   "source": [
    "#Feature Engineering"
   ]
  },
  {
   "cell_type": "code",
   "execution_count": 26,
   "id": "18e62a57",
   "metadata": {},
   "outputs": [],
   "source": [
    "df['Sale Date'] = pd.to_datetime(df['Sale Date'])\n",
    "df['Sale Year'] = pd.DatetimeIndex(df['Sale Date']).year\n",
    "df['Sale Month'] = pd.DatetimeIndex(df['Sale Date']).month\n",
    "df = df.drop(columns = ['Sale Date'])"
   ]
  },
  {
   "cell_type": "code",
   "execution_count": 27,
   "id": "a064e7f9",
   "metadata": {},
   "outputs": [],
   "source": [
    "df['House Age'] = df['Sale Year'] - df['Year Built']"
   ]
  },
  {
   "cell_type": "code",
   "execution_count": 28,
   "id": "2b3b3f3d",
   "metadata": {},
   "outputs": [
    {
     "data": {
      "text/html": [
       "<div>\n",
       "<style scoped>\n",
       "    .dataframe tbody tr th:only-of-type {\n",
       "        vertical-align: middle;\n",
       "    }\n",
       "\n",
       "    .dataframe tbody tr th {\n",
       "        vertical-align: top;\n",
       "    }\n",
       "\n",
       "    .dataframe thead th {\n",
       "        text-align: right;\n",
       "    }\n",
       "</style>\n",
       "<table border=\"1\" class=\"dataframe\">\n",
       "  <thead>\n",
       "    <tr style=\"text-align: right;\">\n",
       "      <th></th>\n",
       "      <th>Land Use</th>\n",
       "      <th>Property City</th>\n",
       "      <th>Sale Price</th>\n",
       "      <th>Sold As Vacant</th>\n",
       "      <th>Multiple Parcels Involved in Sale</th>\n",
       "      <th>Acreage</th>\n",
       "      <th>Tax District</th>\n",
       "      <th>Neighborhood</th>\n",
       "      <th>Land Value</th>\n",
       "      <th>Building Value</th>\n",
       "      <th>...</th>\n",
       "      <th>Foundation Type</th>\n",
       "      <th>Year Built</th>\n",
       "      <th>Exterior Wall</th>\n",
       "      <th>Grade</th>\n",
       "      <th>Bedrooms</th>\n",
       "      <th>Full Bath</th>\n",
       "      <th>Half Bath</th>\n",
       "      <th>Sale Year</th>\n",
       "      <th>Sale Month</th>\n",
       "      <th>House Age</th>\n",
       "    </tr>\n",
       "  </thead>\n",
       "  <tbody>\n",
       "    <tr>\n",
       "      <th>1</th>\n",
       "      <td>SINGLE FAMILY</td>\n",
       "      <td>NASHVILLE</td>\n",
       "      <td>191500</td>\n",
       "      <td>No</td>\n",
       "      <td>No</td>\n",
       "      <td>0.17</td>\n",
       "      <td>URBAN SERVICES DISTRICT</td>\n",
       "      <td>3127.0</td>\n",
       "      <td>32000.0</td>\n",
       "      <td>134400.0</td>\n",
       "      <td>...</td>\n",
       "      <td>PT BSMT</td>\n",
       "      <td>1941.0</td>\n",
       "      <td>BRICK</td>\n",
       "      <td>C</td>\n",
       "      <td>2.0</td>\n",
       "      <td>1.0</td>\n",
       "      <td>0.0</td>\n",
       "      <td>2013</td>\n",
       "      <td>1</td>\n",
       "      <td>72.0</td>\n",
       "    </tr>\n",
       "    <tr>\n",
       "      <th>2</th>\n",
       "      <td>SINGLE FAMILY</td>\n",
       "      <td>NASHVILLE</td>\n",
       "      <td>202000</td>\n",
       "      <td>No</td>\n",
       "      <td>No</td>\n",
       "      <td>0.11</td>\n",
       "      <td>CITY OF BERRY HILL</td>\n",
       "      <td>9126.0</td>\n",
       "      <td>34000.0</td>\n",
       "      <td>157800.0</td>\n",
       "      <td>...</td>\n",
       "      <td>SLAB</td>\n",
       "      <td>2000.0</td>\n",
       "      <td>BRICK/FRAME</td>\n",
       "      <td>C</td>\n",
       "      <td>3.0</td>\n",
       "      <td>2.0</td>\n",
       "      <td>1.0</td>\n",
       "      <td>2013</td>\n",
       "      <td>1</td>\n",
       "      <td>13.0</td>\n",
       "    </tr>\n",
       "    <tr>\n",
       "      <th>3</th>\n",
       "      <td>SINGLE FAMILY</td>\n",
       "      <td>NASHVILLE</td>\n",
       "      <td>32000</td>\n",
       "      <td>No</td>\n",
       "      <td>No</td>\n",
       "      <td>0.17</td>\n",
       "      <td>URBAN SERVICES DISTRICT</td>\n",
       "      <td>3130.0</td>\n",
       "      <td>25000.0</td>\n",
       "      <td>243700.0</td>\n",
       "      <td>...</td>\n",
       "      <td>FULL BSMT</td>\n",
       "      <td>1948.0</td>\n",
       "      <td>BRICK/FRAME</td>\n",
       "      <td>B</td>\n",
       "      <td>4.0</td>\n",
       "      <td>2.0</td>\n",
       "      <td>0.0</td>\n",
       "      <td>2013</td>\n",
       "      <td>1</td>\n",
       "      <td>65.0</td>\n",
       "    </tr>\n",
       "    <tr>\n",
       "      <th>4</th>\n",
       "      <td>SINGLE FAMILY</td>\n",
       "      <td>NASHVILLE</td>\n",
       "      <td>102000</td>\n",
       "      <td>No</td>\n",
       "      <td>No</td>\n",
       "      <td>0.34</td>\n",
       "      <td>URBAN SERVICES DISTRICT</td>\n",
       "      <td>3130.0</td>\n",
       "      <td>25000.0</td>\n",
       "      <td>138100.0</td>\n",
       "      <td>...</td>\n",
       "      <td>CRAWL</td>\n",
       "      <td>1910.0</td>\n",
       "      <td>FRAME</td>\n",
       "      <td>C</td>\n",
       "      <td>2.0</td>\n",
       "      <td>1.0</td>\n",
       "      <td>0.0</td>\n",
       "      <td>2013</td>\n",
       "      <td>1</td>\n",
       "      <td>103.0</td>\n",
       "    </tr>\n",
       "    <tr>\n",
       "      <th>5</th>\n",
       "      <td>SINGLE FAMILY</td>\n",
       "      <td>NASHVILLE</td>\n",
       "      <td>93736</td>\n",
       "      <td>No</td>\n",
       "      <td>No</td>\n",
       "      <td>0.17</td>\n",
       "      <td>URBAN SERVICES DISTRICT</td>\n",
       "      <td>3130.0</td>\n",
       "      <td>25000.0</td>\n",
       "      <td>86100.0</td>\n",
       "      <td>...</td>\n",
       "      <td>CRAWL</td>\n",
       "      <td>1945.0</td>\n",
       "      <td>FRAME</td>\n",
       "      <td>C</td>\n",
       "      <td>2.0</td>\n",
       "      <td>1.0</td>\n",
       "      <td>0.0</td>\n",
       "      <td>2013</td>\n",
       "      <td>1</td>\n",
       "      <td>68.0</td>\n",
       "    </tr>\n",
       "  </tbody>\n",
       "</table>\n",
       "<p>5 rows × 22 columns</p>\n",
       "</div>"
      ],
      "text/plain": [
       "        Land Use Property City  Sale Price Sold As Vacant  \\\n",
       "1  SINGLE FAMILY     NASHVILLE      191500             No   \n",
       "2  SINGLE FAMILY     NASHVILLE      202000             No   \n",
       "3  SINGLE FAMILY     NASHVILLE       32000             No   \n",
       "4  SINGLE FAMILY     NASHVILLE      102000             No   \n",
       "5  SINGLE FAMILY     NASHVILLE       93736             No   \n",
       "\n",
       "  Multiple Parcels Involved in Sale  Acreage             Tax District  \\\n",
       "1                                No     0.17  URBAN SERVICES DISTRICT   \n",
       "2                                No     0.11       CITY OF BERRY HILL   \n",
       "3                                No     0.17  URBAN SERVICES DISTRICT   \n",
       "4                                No     0.34  URBAN SERVICES DISTRICT   \n",
       "5                                No     0.17  URBAN SERVICES DISTRICT   \n",
       "\n",
       "   Neighborhood  Land Value  Building Value  ...  Foundation Type  Year Built  \\\n",
       "1        3127.0     32000.0        134400.0  ...          PT BSMT      1941.0   \n",
       "2        9126.0     34000.0        157800.0  ...             SLAB      2000.0   \n",
       "3        3130.0     25000.0        243700.0  ...        FULL BSMT      1948.0   \n",
       "4        3130.0     25000.0        138100.0  ...            CRAWL      1910.0   \n",
       "5        3130.0     25000.0         86100.0  ...            CRAWL      1945.0   \n",
       "\n",
       "  Exterior Wall  Grade Bedrooms Full Bath  Half Bath  Sale Year  Sale Month  \\\n",
       "1         BRICK   C         2.0       1.0        0.0       2013           1   \n",
       "2   BRICK/FRAME   C         3.0       2.0        1.0       2013           1   \n",
       "3   BRICK/FRAME   B         4.0       2.0        0.0       2013           1   \n",
       "4         FRAME   C         2.0       1.0        0.0       2013           1   \n",
       "5         FRAME   C         2.0       1.0        0.0       2013           1   \n",
       "\n",
       "   House Age  \n",
       "1       72.0  \n",
       "2       13.0  \n",
       "3       65.0  \n",
       "4      103.0  \n",
       "5       68.0  \n",
       "\n",
       "[5 rows x 22 columns]"
      ]
     },
     "execution_count": 28,
     "metadata": {},
     "output_type": "execute_result"
    }
   ],
   "source": [
    "df.head(5)"
   ]
  },
  {
   "cell_type": "code",
   "execution_count": 29,
   "id": "e3ad0509",
   "metadata": {},
   "outputs": [],
   "source": [
    "# Exploratory Data Analysis"
   ]
  },
  {
   "cell_type": "code",
   "execution_count": 30,
   "id": "ccca862b",
   "metadata": {},
   "outputs": [
    {
     "data": {
      "text/plain": [
       "<AxesSubplot:xlabel='Sale Month', ylabel='count'>"
      ]
     },
     "execution_count": 30,
     "metadata": {},
     "output_type": "execute_result"
    },
    {
     "data": {
      "image/png": "[encoded data removed]",
      "text/plain": [
       "<Figure size 936x360 with 2 Axes>"
      ]
     },
     "metadata": {
      "needs_background": "light"
     },
     "output_type": "display_data"
    }
   ],
   "source": [
    "fig, (axis1, axis2) = plt.subplots(1,2, figsize=(13,5))\n",
    "sns.countplot(x='Sale Year', data=df, ax = axis1)\n",
    "sns.countplot(x='Sale Month', data=df, ax = axis2)"
   ]
  },
  {
   "cell_type": "code",
   "execution_count": 31,
   "id": "f5303589",
   "metadata": {},
   "outputs": [
    {
     "data": {
      "text/plain": [
       "<AxesSubplot:xlabel='Sale Year'>"
      ]
     },
     "execution_count": 31,
     "metadata": {},
     "output_type": "execute_result"
    },
    {
     "data": {
      "image/png": "[encoded data removed]",
      "text/plain": [
       "<Figure size 432x288 with 1 Axes>"
      ]
     },
     "metadata": {
      "needs_background": "light"
     },
     "output_type": "display_data"
    }
   ],
   "source": [
    "#Understanding the mean Sale Price over the Years\n",
    "df.groupby(['Sale Year'])['Sale Price'].mean().plot.bar()"
   ]
  },
  {
   "cell_type": "code",
   "execution_count": 32,
   "id": "9fc83130",
   "metadata": {},
   "outputs": [
    {
     "name": "stdout",
     "output_type": "stream",
     "text": [
      "<class 'pandas.core.frame.DataFrame'>\n",
      "Int64Index: 24277 entries, 1 to 56616\n",
      "Data columns (total 22 columns):\n",
      " #   Column                             Non-Null Count  Dtype  \n",
      "---  ------                             --------------  -----  \n",
      " 0   Land Use                           24277 non-null  object \n",
      " 1   Property City                      24277 non-null  object \n",
      " 2   Sale Price                         24277 non-null  int64  \n",
      " 3   Sold As Vacant                     24277 non-null  object \n",
      " 4   Multiple Parcels Involved in Sale  24277 non-null  object \n",
      " 5   Acreage                            24277 non-null  float64\n",
      " 6   Tax District                       24277 non-null  object \n",
      " 7   Neighborhood                       24277 non-null  float64\n",
      " 8   Land Value                         24277 non-null  float64\n",
      " 9   Building Value                     24277 non-null  float64\n",
      " 10  Total Value                        24277 non-null  float64\n",
      " 11  Finished Area                      24277 non-null  float64\n",
      " 12  Foundation Type                    24277 non-null  object \n",
      " 13  Year Built                         24277 non-null  float64\n",
      " 14  Exterior Wall                      24277 non-null  object \n",
      " 15  Grade                              24277 non-null  object \n",
      " 16  Bedrooms                           24277 non-null  float64\n",
      " 17  Full Bath                          24277 non-null  float64\n",
      " 18  Half Bath                          24277 non-null  float64\n",
      " 19  Sale Year                          24277 non-null  int64  \n",
      " 20  Sale Month                         24277 non-null  int64  \n",
      " 21  House Age                          24277 non-null  float64\n",
      "dtypes: float64(11), int64(3), object(8)\n",
      "memory usage: 4.9+ MB\n"
     ]
    }
   ],
   "source": [
    "df.info()"
   ]
  },
  {
   "cell_type": "code",
   "execution_count": 33,
   "id": "0a0927e8",
   "metadata": {},
   "outputs": [],
   "source": [
    "# Encoding Categorical Variables"
   ]
  },
  {
   "cell_type": "code",
   "execution_count": 34,
   "id": "a14e376b",
   "metadata": {
    "scrolled": true
   },
   "outputs": [
    {
     "name": "stdout",
     "output_type": "stream",
     "text": [
      "Land Use : 26\n",
      "Property City : 10\n",
      "Sale Price : 3791\n",
      "Sold As Vacant : 2\n",
      "Multiple Parcels Involved in Sale : 2\n",
      "Acreage : 440\n",
      "Tax District : 7\n",
      "Neighborhood : 195\n",
      "Land Value : 970\n",
      "Building Value : 4406\n",
      "Total Value : 5668\n",
      "Finished Area : 6118\n",
      "Foundation Type : 6\n",
      "Year Built : 126\n",
      "Exterior Wall : 10\n",
      "Grade : 21\n",
      "Bedrooms : 12\n",
      "Full Bath : 11\n",
      "Half Bath : 4\n",
      "Sale Year : 4\n",
      "Sale Month : 12\n",
      "House Age : 129\n"
     ]
    }
   ],
   "source": [
    "for i in df.columns:\n",
    "    print(i, ':', df[i].nunique())"
   ]
  },
  {
   "cell_type": "code",
   "execution_count": 35,
   "id": "c25fdba5",
   "metadata": {
    "scrolled": true
   },
   "outputs": [],
   "source": [
    "def assign_grade(row):\n",
    "    if row == 'A':\n",
    "        result = 1\n",
    "    elif row == 'B':\n",
    "        result = 2\n",
    "    elif row == 'C':\n",
    "        result = 3\n",
    "    elif row == 'D':\n",
    "        result = 4\n",
    "    elif row == 'E':\n",
    "        result = 5\n",
    "    else:\n",
    "        result = 6\n",
    "    return result"
   ]
  },
  {
   "cell_type": "code",
   "execution_count": 36,
   "id": "a2ff2a5d",
   "metadata": {},
   "outputs": [],
   "source": [
    "df['Grade'] = df['Grade'].apply(assign_grade)"
   ]
  },
  {
   "cell_type": "code",
   "execution_count": 37,
   "id": "a2b22b6e",
   "metadata": {},
   "outputs": [],
   "source": [
    "df1 = pd.get_dummies(df, columns = ['Property City','Sold As Vacant', 'Multiple Parcels Involved in Sale','Land Use','Tax District','Foundation Type', 'Exterior Wall'])"
   ]
  },
  {
   "cell_type": "code",
   "execution_count": 38,
   "id": "d00c0edc",
   "metadata": {},
   "outputs": [
    {
     "name": "stdout",
     "output_type": "stream",
     "text": [
      "<class 'pandas.core.frame.DataFrame'>\n",
      "Int64Index: 24277 entries, 1 to 56616\n",
      "Data columns (total 78 columns):\n",
      " #   Column                                           Non-Null Count  Dtype  \n",
      "---  ------                                           --------------  -----  \n",
      " 0   Sale Price                                       24277 non-null  int64  \n",
      " 1   Acreage                                          24277 non-null  float64\n",
      " 2   Neighborhood                                     24277 non-null  float64\n",
      " 3   Land Value                                       24277 non-null  float64\n",
      " 4   Building Value                                   24277 non-null  float64\n",
      " 5   Total Value                                      24277 non-null  float64\n",
      " 6   Finished Area                                    24277 non-null  float64\n",
      " 7   Year Built                                       24277 non-null  float64\n",
      " 8   Grade                                            24277 non-null  int64  \n",
      " 9   Bedrooms                                         24277 non-null  float64\n",
      " 10  Full Bath                                        24277 non-null  float64\n",
      " 11  Half Bath                                        24277 non-null  float64\n",
      " 12  Sale Year                                        24277 non-null  int64  \n",
      " 13  Sale Month                                       24277 non-null  int64  \n",
      " 14  House Age                                        24277 non-null  float64\n",
      " 15  Property City_ANTIOCH                            24277 non-null  uint8  \n",
      " 16  Property City_BRENTWOOD                          24277 non-null  uint8  \n",
      " 17  Property City_GOODLETTSVILLE                     24277 non-null  uint8  \n",
      " 18  Property City_HERMITAGE                          24277 non-null  uint8  \n",
      " 19  Property City_JOELTON                            24277 non-null  uint8  \n",
      " 20  Property City_MADISON                            24277 non-null  uint8  \n",
      " 21  Property City_MOUNT JULIET                       24277 non-null  uint8  \n",
      " 22  Property City_NASHVILLE                          24277 non-null  uint8  \n",
      " 23  Property City_OLD HICKORY                        24277 non-null  uint8  \n",
      " 24  Property City_WHITES CREEK                       24277 non-null  uint8  \n",
      " 25  Sold As Vacant_No                                24277 non-null  uint8  \n",
      " 26  Sold As Vacant_Yes                               24277 non-null  uint8  \n",
      " 27  Multiple Parcels Involved in Sale_No             24277 non-null  uint8  \n",
      " 28  Multiple Parcels Involved in Sale_Yes            24277 non-null  uint8  \n",
      " 29  Land Use_APARTMENT: LOW RISE (BUILT SINCE 1960)  24277 non-null  uint8  \n",
      " 30  Land Use_CHURCH                                  24277 non-null  uint8  \n",
      " 31  Land Use_CLUB/UNION HALL/LODGE                   24277 non-null  uint8  \n",
      " 32  Land Use_CONVENIENCE MARKET WITHOUT GAS          24277 non-null  uint8  \n",
      " 33  Land Use_DAY CARE CENTER                         24277 non-null  uint8  \n",
      " 34  Land Use_DORMITORY/BOARDING HOUSE                24277 non-null  uint8  \n",
      " 35  Land Use_DUPLEX                                  24277 non-null  uint8  \n",
      " 36  Land Use_FOREST                                  24277 non-null  uint8  \n",
      " 37  Land Use_GREENBELT                               24277 non-null  uint8  \n",
      " 38  Land Use_GREENBELT/RES\r\n",
      "GRRENBELT/RES            24277 non-null  uint8  \n",
      " 39  Land Use_LIGHT MANUFACTURING                     24277 non-null  uint8  \n",
      " 40  Land Use_MOBILE HOME                             24277 non-null  uint8  \n",
      " 41  Land Use_NON-PROFIT CHARITABLE SERVICE           24277 non-null  uint8  \n",
      " 42  Land Use_OFFICE BLDG (ONE OR TWO STORIES)        24277 non-null  uint8  \n",
      " 43  Land Use_ONE STORY GENERAL RETAIL STORE          24277 non-null  uint8  \n",
      " 44  Land Use_PARSONAGE                               24277 non-null  uint8  \n",
      " 45  Land Use_QUADPLEX                                24277 non-null  uint8  \n",
      " 46  Land Use_RESIDENTIAL COMBO/MISC                  24277 non-null  uint8  \n",
      " 47  Land Use_SINGLE FAMILY                           24277 non-null  uint8  \n",
      " 48  Land Use_SPLIT CLASS                             24277 non-null  uint8  \n",
      " 49  Land Use_STRIP SHOPPING CENTER                   24277 non-null  uint8  \n",
      " 50  Land Use_TERMINAL/DISTRIBUTION WAREHOUSE         24277 non-null  uint8  \n",
      " 51  Land Use_TRIPLEX                                 24277 non-null  uint8  \n",
      " 52  Land Use_VACANT RES LAND                         24277 non-null  uint8  \n",
      " 53  Land Use_VACANT RESIDENTIAL LAND                 24277 non-null  uint8  \n",
      " 54  Land Use_ZERO LOT LINE                           24277 non-null  uint8  \n",
      " 55  Tax District_CITY OF BELLE MEADE                 24277 non-null  uint8  \n",
      " 56  Tax District_CITY OF BERRY HILL                  24277 non-null  uint8  \n",
      " 57  Tax District_CITY OF FOREST HILLS                24277 non-null  uint8  \n",
      " 58  Tax District_CITY OF GOODLETTSVILLE              24277 non-null  uint8  \n",
      " 59  Tax District_CITY OF OAK HILL                    24277 non-null  uint8  \n",
      " 60  Tax District_GENERAL SERVICES DISTRICT           24277 non-null  uint8  \n",
      " 61  Tax District_URBAN SERVICES DISTRICT             24277 non-null  uint8  \n",
      " 62  Foundation Type_CRAWL                            24277 non-null  uint8  \n",
      " 63  Foundation Type_FULL BSMT                        24277 non-null  uint8  \n",
      " 64  Foundation Type_PIERS                            24277 non-null  uint8  \n",
      " 65  Foundation Type_PT BSMT                          24277 non-null  uint8  \n",
      " 66  Foundation Type_SLAB                             24277 non-null  uint8  \n",
      " 67  Foundation Type_TYPICAL                          24277 non-null  uint8  \n",
      " 68  Exterior Wall_BRICK                              24277 non-null  uint8  \n",
      " 69  Exterior Wall_BRICK/FRAME                        24277 non-null  uint8  \n",
      " 70  Exterior Wall_CONC BLK                           24277 non-null  uint8  \n",
      " 71  Exterior Wall_FRAME                              24277 non-null  uint8  \n",
      " 72  Exterior Wall_FRAME/STONE                        24277 non-null  uint8  \n",
      " 73  Exterior Wall_LOG                                24277 non-null  uint8  \n",
      " 74  Exterior Wall_METAL                              24277 non-null  uint8  \n",
      " 75  Exterior Wall_PRECAST CONC                       24277 non-null  uint8  \n",
      " 76  Exterior Wall_STONE                              24277 non-null  uint8  \n",
      " 77  Exterior Wall_STUCCO                             24277 non-null  uint8  \n",
      "dtypes: float64(11), int64(4), uint8(63)\n",
      "memory usage: 5.0 MB\n"
     ]
    }
   ],
   "source": [
    "df1.info()"
   ]
  },
  {
   "cell_type": "code",
   "execution_count": 39,
   "id": "1c0aae41",
   "metadata": {},
   "outputs": [],
   "source": [
    "Y = df1['Sale Price']\n",
    "\n",
    "X = df1.drop('Sale Price', axis = 1)"
   ]
  },
  {
   "cell_type": "markdown",
   "id": "1173393e",
   "metadata": {},
   "source": [
    "## Linear Regression Model"
   ]
  },
  {
   "cell_type": "code",
   "execution_count": 40,
   "id": "ab74c13d",
   "metadata": {},
   "outputs": [],
   "source": [
    "X_train, X_test, Y_train, Y_test = train_test_split(X, Y, random_state = 10, test_size = 0.2)"
   ]
  },
  {
   "cell_type": "code",
   "execution_count": 41,
   "id": "31222851",
   "metadata": {},
   "outputs": [
    {
     "name": "stdout",
     "output_type": "stream",
     "text": [
      "                            OLS Regression Results                            \n",
      "==============================================================================\n",
      "Dep. Variable:             Sale Price   R-squared:                       0.795\n",
      "Model:                            OLS   Adj. R-squared:                  0.794\n",
      "Method:                 Least Squares   F-statistic:                     1088.\n",
      "Date:                Mon, 20 Jun 2022   Prob (F-statistic):               0.00\n",
      "Time:                        21:11:23   Log-Likelihood:            -2.5746e+05\n",
      "No. Observations:               19421   AIC:                         5.151e+05\n",
      "Df Residuals:                   19351   BIC:                         5.156e+05\n",
      "Df Model:                          69                                         \n",
      "Covariance Type:            nonrobust                                         \n",
      "===================================================================================================================\n",
      "                                                      coef    std err          t      P>|t|      [0.025      0.975]\n",
      "-------------------------------------------------------------------------------------------------------------------\n",
      "Acreage                                         -2352.2843   1539.617     -1.528      0.127   -5370.068     665.499\n",
      "Neighborhood                                       -3.8519      0.746     -5.161      0.000      -5.315      -2.389\n",
      "Land Value                                         -1.2479      0.139     -9.007      0.000      -1.519      -0.976\n",
      "Building Value                                     -2.0075      0.138    -14.565      0.000      -2.278      -1.737\n",
      "Total Value                                         2.6164      0.136     19.191      0.000       2.349       2.884\n",
      "Finished Area                                      11.7907      1.127     10.460      0.000       9.581      14.000\n",
      "Year Built                                       1.144e+04    315.647     36.233      0.000    1.08e+04    1.21e+04\n",
      "Grade                                           -9.836e+04   5732.028    -17.160      0.000    -1.1e+05   -8.71e+04\n",
      "Bedrooms                                         1741.9764   1623.511      1.073      0.283   -1440.246    4924.199\n",
      "Full Bath                                        1.104e+04   1731.553      6.374      0.000    7643.364    1.44e+04\n",
      "Half Bath                                        9516.2994   2369.469      4.016      0.000    4871.935    1.42e+04\n",
      "Sale Year                                        2.302e+04    629.408     36.573      0.000    2.18e+04    2.43e+04\n",
      "Sale Month                                       3426.5228    327.117     10.475      0.000    2785.345    4067.700\n",
      "House Age                                        1.158e+04    315.567     36.704      0.000     1.1e+04    1.22e+04\n",
      "Property City_ANTIOCH                           -4.431e+06   1.24e+05    -35.869      0.000   -4.67e+06   -4.19e+06\n",
      "Property City_BRENTWOOD                         -4.404e+06   1.24e+05    -35.590      0.000   -4.65e+06   -4.16e+06\n",
      "Property City_GOODLETTSVILLE                     -4.42e+06   1.24e+05    -35.660      0.000   -4.66e+06   -4.18e+06\n",
      "Property City_HERMITAGE                         -4.422e+06   1.23e+05    -35.836      0.000   -4.66e+06   -4.18e+06\n",
      "Property City_JOELTON                           -4.429e+06   1.29e+05    -34.204      0.000   -4.68e+06   -4.18e+06\n",
      "Property City_MADISON                           -4.436e+06   1.23e+05    -35.939      0.000   -4.68e+06   -4.19e+06\n",
      "Property City_MOUNT JULIET                      -4.593e+06   1.34e+05    -34.378      0.000   -4.85e+06   -4.33e+06\n",
      "Property City_NASHVILLE                         -4.413e+06   1.23e+05    -35.771      0.000   -4.65e+06   -4.17e+06\n",
      "Property City_OLD HICKORY                       -4.437e+06   1.23e+05    -35.951      0.000   -4.68e+06    -4.2e+06\n",
      "Property City_WHITES CREEK                       -4.44e+06   1.28e+05    -34.771      0.000   -4.69e+06   -4.19e+06\n",
      "Sold As Vacant_No                               -2.212e+07   6.15e+05    -35.958      0.000   -2.33e+07   -2.09e+07\n",
      "Sold As Vacant_Yes                              -2.231e+07   6.15e+05    -36.279      0.000   -2.35e+07   -2.11e+07\n",
      "Multiple Parcels Involved in Sale_No            -2.231e+07   6.15e+05    -36.277      0.000   -2.35e+07   -2.11e+07\n",
      "Multiple Parcels Involved in Sale_Yes           -2.212e+07   6.15e+05    -35.961      0.000   -2.33e+07   -2.09e+07\n",
      "Land Use_APARTMENT: LOW RISE (BUILT SINCE 1960) -5.761e+05   1.46e+05     -3.957      0.000   -8.62e+05   -2.91e+05\n",
      "Land Use_CHURCH                                 -1.861e+06   5.92e+04    -31.412      0.000   -1.98e+06   -1.74e+06\n",
      "Land Use_CLUB/UNION HALL/LODGE                  -2.029e+06   1.45e+05    -13.957      0.000   -2.31e+06   -1.74e+06\n",
      "Land Use_CONVENIENCE MARKET WITHOUT GAS         -1.891e+06   1.46e+05    -12.973      0.000   -2.18e+06   -1.61e+06\n",
      "Land Use_DAY CARE CENTER                        -7.682e+05   1.08e+05     -7.120      0.000    -9.8e+05   -5.57e+05\n",
      "Land Use_DORMITORY/BOARDING HOUSE               -1.824e+06   6.59e+04    -27.655      0.000   -1.95e+06   -1.69e+06\n",
      "Land Use_DUPLEX                                 -1.827e+06   5.26e+04    -34.742      0.000   -1.93e+06   -1.72e+06\n",
      "Land Use_FOREST                                 -1.814e+06   9.53e+04    -19.032      0.000      -2e+06   -1.63e+06\n",
      "Land Use_GREENBELT                              -7.062e+05   9.86e+04     -7.159      0.000      -9e+05   -5.13e+05\n",
      "Land Use_GREENBELT/RES\r\n",
      "GRRENBELT/RES           -1.662e+06   1.58e+05    -10.513      0.000   -1.97e+06   -1.35e+06\n",
      "Land Use_LIGHT MANUFACTURING                    -1.551e+06   1.47e+05    -10.565      0.000   -1.84e+06   -1.26e+06\n",
      "Land Use_MOBILE HOME                            -1.946e+06   7.93e+04    -24.531      0.000    -2.1e+06   -1.79e+06\n",
      "Land Use_NON-PROFIT CHARITABLE SERVICE          -1.878e+06   1.08e+05    -17.326      0.000   -2.09e+06   -1.67e+06\n",
      "Land Use_OFFICE BLDG (ONE OR TWO STORIES)       -1.804e+06   1.44e+05    -12.552      0.000   -2.09e+06   -1.52e+06\n",
      "Land Use_ONE STORY GENERAL RETAIL STORE         -1.984e+06   1.45e+05    -13.658      0.000   -2.27e+06    -1.7e+06\n",
      "Land Use_PARSONAGE                              -1.821e+06   8.46e+04    -21.524      0.000   -1.99e+06   -1.66e+06\n",
      "Land Use_QUADPLEX                               -1.814e+06   5.82e+04    -31.151      0.000   -1.93e+06    -1.7e+06\n",
      "Land Use_RESIDENTIAL COMBO/MISC                 -1.806e+06   5.79e+04    -31.172      0.000   -1.92e+06   -1.69e+06\n",
      "Land Use_SINGLE FAMILY                          -1.811e+06   5.24e+04    -34.535      0.000   -1.91e+06   -1.71e+06\n",
      "Land Use_SPLIT CLASS                            -1.802e+06   6.45e+04    -27.910      0.000   -1.93e+06   -1.68e+06\n",
      "Land Use_STRIP SHOPPING CENTER                  -1.835e+06   1.45e+05    -12.658      0.000   -2.12e+06   -1.55e+06\n",
      "Land Use_TERMINAL/DISTRIBUTION WAREHOUSE        -1.887e+06   1.46e+05    -12.929      0.000   -2.17e+06    -1.6e+06\n",
      "Land Use_TRIPLEX                                -1.825e+06   5.48e+04    -33.289      0.000   -1.93e+06   -1.72e+06\n",
      "Land Use_VACANT RES LAND                        -1.929e+06   5.24e+04    -36.798      0.000   -2.03e+06   -1.83e+06\n",
      "Land Use_VACANT RESIDENTIAL LAND                -1.935e+06   5.38e+04    -35.957      0.000   -2.04e+06   -1.83e+06\n",
      "Land Use_ZERO LOT LINE                          -1.837e+06   5.29e+04    -34.732      0.000   -1.94e+06   -1.73e+06\n",
      "Tax District_CITY OF BELLE MEADE                -6.401e+06   1.76e+05    -36.305      0.000   -6.75e+06   -6.06e+06\n",
      "Tax District_CITY OF BERRY HILL                   -6.3e+06   1.78e+05    -35.438      0.000   -6.65e+06   -5.95e+06\n",
      "Tax District_CITY OF FOREST HILLS               -6.385e+06   1.76e+05    -36.275      0.000   -6.73e+06   -6.04e+06\n",
      "Tax District_CITY OF GOODLETTSVILLE              -6.33e+06   1.77e+05    -35.855      0.000   -6.68e+06   -5.98e+06\n",
      "Tax District_CITY OF OAK HILL                   -6.334e+06   1.76e+05    -36.014      0.000   -6.68e+06   -5.99e+06\n",
      "Tax District_GENERAL SERVICES DISTRICT          -6.339e+06   1.76e+05    -36.062      0.000   -6.68e+06   -5.99e+06\n",
      "Tax District_URBAN SERVICES DISTRICT            -6.334e+06   1.76e+05    -36.050      0.000   -6.68e+06   -5.99e+06\n",
      "Foundation Type_CRAWL                           -7.443e+06   2.05e+05    -36.277      0.000   -7.85e+06   -7.04e+06\n",
      "Foundation Type_FULL BSMT                       -7.442e+06   2.05e+05    -36.271      0.000   -7.84e+06   -7.04e+06\n",
      "Foundation Type_PIERS                           -7.335e+06   2.06e+05    -35.538      0.000   -7.74e+06   -6.93e+06\n",
      "Foundation Type_PT BSMT                         -7.431e+06   2.05e+05    -36.226      0.000   -7.83e+06   -7.03e+06\n",
      "Foundation Type_SLAB                            -7.446e+06   2.05e+05    -36.285      0.000   -7.85e+06   -7.04e+06\n",
      "Foundation Type_TYPICAL                         -7.328e+06   2.08e+05    -35.278      0.000   -7.74e+06   -6.92e+06\n",
      "Exterior Wall_BRICK                             -4.387e+06   1.24e+05    -35.413      0.000   -4.63e+06   -4.14e+06\n",
      "Exterior Wall_BRICK/FRAME                       -4.389e+06   1.24e+05    -35.429      0.000   -4.63e+06   -4.15e+06\n",
      "Exterior Wall_CONC BLK                          -4.422e+06   1.25e+05    -35.458      0.000   -4.67e+06   -4.18e+06\n",
      "Exterior Wall_FRAME                             -4.386e+06   1.24e+05    -35.394      0.000   -4.63e+06   -4.14e+06\n",
      "Exterior Wall_FRAME/STONE                       -4.354e+06   1.25e+05    -34.916      0.000    -4.6e+06   -4.11e+06\n",
      "Exterior Wall_LOG                               -4.336e+06   1.31e+05    -33.183      0.000   -4.59e+06   -4.08e+06\n",
      "Exterior Wall_METAL                             -4.371e+06   1.29e+05    -33.834      0.000   -4.62e+06   -4.12e+06\n",
      "Exterior Wall_PRECAST CONC                      -5.082e+06   1.76e+05    -28.813      0.000   -5.43e+06   -4.74e+06\n",
      "Exterior Wall_STONE                             -4.391e+06   1.24e+05    -35.398      0.000   -4.63e+06   -4.15e+06\n",
      "Exterior Wall_STUCCO                            -4.309e+06   1.24e+05    -34.653      0.000   -4.55e+06   -4.06e+06\n",
      "==============================================================================\n",
      "Omnibus:                    21298.581   Durbin-Watson:                   2.023\n",
      "Prob(Omnibus):                  0.000   Jarque-Bera (JB):         25498330.057\n",
      "Skew:                           4.656   Prob(JB):                         0.00\n",
      "Kurtosis:                     180.267   Cond. No.                     1.30e+18\n",
      "==============================================================================\n",
      "\n",
      "Notes:\n",
      "[1] Standard Errors assume that the covariance matrix of the errors is correctly specified.\n",
      "[2] The smallest eigenvalue is 2.56e-21. This might indicate that there are\n",
      "strong multicollinearity problems or that the design matrix is singular.\n"
     ]
    }
   ],
   "source": [
    "import statsmodels.api as sm\n",
    "def get_stats():\n",
    "    results = sm.OLS(Y_train, X_train).fit()\n",
    "    print(results.summary())\n",
    "get_stats()"
   ]
  },
  {
   "cell_type": "code",
   "execution_count": 42,
   "id": "baad414c",
   "metadata": {},
   "outputs": [],
   "source": [
    "linear_model = LinearRegression()\n",
    "linear_model.fit(X_train, Y_train)\n",
    "\n",
    "y_pred = linear_model.predict(X_test)"
   ]
  },
  {
   "cell_type": "code",
   "execution_count": 43,
   "id": "cee58448",
   "metadata": {},
   "outputs": [
    {
     "name": "stdout",
     "output_type": "stream",
     "text": [
      "Accuracy =  58.414 %\n"
     ]
    }
   ],
   "source": [
    "from sklearn.metrics import accuracy_score\n",
    "print(\"Accuracy = \" , round((linear_model.score(X_test, Y_test)*100),3), '%')"
   ]
  },
  {
   "cell_type": "code",
   "execution_count": 44,
   "id": "22ef7d7a",
   "metadata": {},
   "outputs": [],
   "source": [
    "#Converting Linar Target to Binary Target For Classification Model"
   ]
  },
  {
   "cell_type": "code",
   "execution_count": 45,
   "id": "69467764",
   "metadata": {},
   "outputs": [],
   "source": [
    "# Good Property means above averge value and Bad Property means below average Value"
   ]
  },
  {
   "cell_type": "code",
   "execution_count": 46,
   "id": "470c9297",
   "metadata": {},
   "outputs": [],
   "source": [
    "df1['Absolute Value'] = df1['Sale Price'] - df1['Total Value']\n",
    "status_mean = df1['Absolute Value'].mean()\n",
    "df1.loc[df1['Absolute Value'] < status_mean, ('Absolute Value')] = 0\n",
    "df1.loc[df1['Absolute Value'] >= status_mean, ('Absolute Value')] = 1"
   ]
  },
  {
   "cell_type": "code",
   "execution_count": 47,
   "id": "c59ddd0d",
   "metadata": {},
   "outputs": [
    {
     "name": "stdout",
     "output_type": "stream",
     "text": [
      "<class 'pandas.core.frame.DataFrame'>\n",
      "Int64Index: 24277 entries, 1 to 56616\n",
      "Data columns (total 79 columns):\n",
      " #   Column                                           Non-Null Count  Dtype  \n",
      "---  ------                                           --------------  -----  \n",
      " 0   Sale Price                                       24277 non-null  int64  \n",
      " 1   Acreage                                          24277 non-null  float64\n",
      " 2   Neighborhood                                     24277 non-null  float64\n",
      " 3   Land Value                                       24277 non-null  float64\n",
      " 4   Building Value                                   24277 non-null  float64\n",
      " 5   Total Value                                      24277 non-null  float64\n",
      " 6   Finished Area                                    24277 non-null  float64\n",
      " 7   Year Built                                       24277 non-null  float64\n",
      " 8   Grade                                            24277 non-null  int64  \n",
      " 9   Bedrooms                                         24277 non-null  float64\n",
      " 10  Full Bath                                        24277 non-null  float64\n",
      " 11  Half Bath                                        24277 non-null  float64\n",
      " 12  Sale Year                                        24277 non-null  int64  \n",
      " 13  Sale Month                                       24277 non-null  int64  \n",
      " 14  House Age                                        24277 non-null  float64\n",
      " 15  Property City_ANTIOCH                            24277 non-null  uint8  \n",
      " 16  Property City_BRENTWOOD                          24277 non-null  uint8  \n",
      " 17  Property City_GOODLETTSVILLE                     24277 non-null  uint8  \n",
      " 18  Property City_HERMITAGE                          24277 non-null  uint8  \n",
      " 19  Property City_JOELTON                            24277 non-null  uint8  \n",
      " 20  Property City_MADISON                            24277 non-null  uint8  \n",
      " 21  Property City_MOUNT JULIET                       24277 non-null  uint8  \n",
      " 22  Property City_NASHVILLE                          24277 non-null  uint8  \n",
      " 23  Property City_OLD HICKORY                        24277 non-null  uint8  \n",
      " 24  Property City_WHITES CREEK                       24277 non-null  uint8  \n",
      " 25  Sold As Vacant_No                                24277 non-null  uint8  \n",
      " 26  Sold As Vacant_Yes                               24277 non-null  uint8  \n",
      " 27  Multiple Parcels Involved in Sale_No             24277 non-null  uint8  \n",
      " 28  Multiple Parcels Involved in Sale_Yes            24277 non-null  uint8  \n",
      " 29  Land Use_APARTMENT: LOW RISE (BUILT SINCE 1960)  24277 non-null  uint8  \n",
      " 30  Land Use_CHURCH                                  24277 non-null  uint8  \n",
      " 31  Land Use_CLUB/UNION HALL/LODGE                   24277 non-null  uint8  \n",
      " 32  Land Use_CONVENIENCE MARKET WITHOUT GAS          24277 non-null  uint8  \n",
      " 33  Land Use_DAY CARE CENTER                         24277 non-null  uint8  \n",
      " 34  Land Use_DORMITORY/BOARDING HOUSE                24277 non-null  uint8  \n",
      " 35  Land Use_DUPLEX                                  24277 non-null  uint8  \n",
      " 36  Land Use_FOREST                                  24277 non-null  uint8  \n",
      " 37  Land Use_GREENBELT                               24277 non-null  uint8  \n",
      " 38  Land Use_GREENBELT/RES\r\n",
      "GRRENBELT/RES            24277 non-null  uint8  \n",
      " 39  Land Use_LIGHT MANUFACTURING                     24277 non-null  uint8  \n",
      " 40  Land Use_MOBILE HOME                             24277 non-null  uint8  \n",
      " 41  Land Use_NON-PROFIT CHARITABLE SERVICE           24277 non-null  uint8  \n",
      " 42  Land Use_OFFICE BLDG (ONE OR TWO STORIES)        24277 non-null  uint8  \n",
      " 43  Land Use_ONE STORY GENERAL RETAIL STORE          24277 non-null  uint8  \n",
      " 44  Land Use_PARSONAGE                               24277 non-null  uint8  \n",
      " 45  Land Use_QUADPLEX                                24277 non-null  uint8  \n",
      " 46  Land Use_RESIDENTIAL COMBO/MISC                  24277 non-null  uint8  \n",
      " 47  Land Use_SINGLE FAMILY                           24277 non-null  uint8  \n",
      " 48  Land Use_SPLIT CLASS                             24277 non-null  uint8  \n",
      " 49  Land Use_STRIP SHOPPING CENTER                   24277 non-null  uint8  \n",
      " 50  Land Use_TERMINAL/DISTRIBUTION WAREHOUSE         24277 non-null  uint8  \n",
      " 51  Land Use_TRIPLEX                                 24277 non-null  uint8  \n",
      " 52  Land Use_VACANT RES LAND                         24277 non-null  uint8  \n",
      " 53  Land Use_VACANT RESIDENTIAL LAND                 24277 non-null  uint8  \n",
      " 54  Land Use_ZERO LOT LINE                           24277 non-null  uint8  \n",
      " 55  Tax District_CITY OF BELLE MEADE                 24277 non-null  uint8  \n",
      " 56  Tax District_CITY OF BERRY HILL                  24277 non-null  uint8  \n",
      " 57  Tax District_CITY OF FOREST HILLS                24277 non-null  uint8  \n",
      " 58  Tax District_CITY OF GOODLETTSVILLE              24277 non-null  uint8  \n",
      " 59  Tax District_CITY OF OAK HILL                    24277 non-null  uint8  \n",
      " 60  Tax District_GENERAL SERVICES DISTRICT           24277 non-null  uint8  \n",
      " 61  Tax District_URBAN SERVICES DISTRICT             24277 non-null  uint8  \n",
      " 62  Foundation Type_CRAWL                            24277 non-null  uint8  \n",
      " 63  Foundation Type_FULL BSMT                        24277 non-null  uint8  \n",
      " 64  Foundation Type_PIERS                            24277 non-null  uint8  \n",
      " 65  Foundation Type_PT BSMT                          24277 non-null  uint8  \n",
      " 66  Foundation Type_SLAB                             24277 non-null  uint8  \n",
      " 67  Foundation Type_TYPICAL                          24277 non-null  uint8  \n",
      " 68  Exterior Wall_BRICK                              24277 non-null  uint8  \n",
      " 69  Exterior Wall_BRICK/FRAME                        24277 non-null  uint8  \n",
      " 70  Exterior Wall_CONC BLK                           24277 non-null  uint8  \n",
      " 71  Exterior Wall_FRAME                              24277 non-null  uint8  \n",
      " 72  Exterior Wall_FRAME/STONE                        24277 non-null  uint8  \n",
      " 73  Exterior Wall_LOG                                24277 non-null  uint8  \n",
      " 74  Exterior Wall_METAL                              24277 non-null  uint8  \n",
      " 75  Exterior Wall_PRECAST CONC                       24277 non-null  uint8  \n",
      " 76  Exterior Wall_STONE                              24277 non-null  uint8  \n",
      " 77  Exterior Wall_STUCCO                             24277 non-null  uint8  \n",
      " 78  Absolute Value                                   24277 non-null  float64\n",
      "dtypes: float64(12), int64(4), uint8(63)\n",
      "memory usage: 5.2 MB\n"
     ]
    }
   ],
   "source": [
    "df1.info()"
   ]
  },
  {
   "cell_type": "code",
   "execution_count": 82,
   "id": "ad5f1ca7",
   "metadata": {
    "scrolled": false
   },
   "outputs": [],
   "source": [
    "df2 = df1.drop(columns = ['Sale Price','Total Value','Building Value','Land Value'])"
   ]
  },
  {
   "cell_type": "markdown",
   "id": "212ebbd5",
   "metadata": {},
   "source": [
    "## Decision Tree Model "
   ]
  },
  {
   "cell_type": "code",
   "execution_count": 83,
   "id": "413f6649",
   "metadata": {},
   "outputs": [],
   "source": [
    "Y = df2['Absolute Value']\n",
    "\n",
    "X = df2.drop('Absolute Value',axis = 1)"
   ]
  },
  {
   "cell_type": "code",
   "execution_count": 84,
   "id": "622dc6bb",
   "metadata": {},
   "outputs": [],
   "source": [
    "X_train, X_test, Y_train, Y_test = train_test_split(X, Y, random_state = 10, test_size = 0.2)"
   ]
  },
  {
   "cell_type": "code",
   "execution_count": 85,
   "id": "8c21539d",
   "metadata": {},
   "outputs": [],
   "source": [
    "from sklearn import tree\n",
    "from sklearn.tree import DecisionTreeClassifier # Tree algorithm\n",
    "from sklearn.tree import plot_tree  # Tree plotting"
   ]
  },
  {
   "cell_type": "code",
   "execution_count": 137,
   "id": "cb07189c",
   "metadata": {},
   "outputs": [
    {
     "data": {
      "text/plain": [
       "DecisionTreeClassifier(max_depth=7, random_state=100)"
      ]
     },
     "execution_count": 137,
     "metadata": {},
     "output_type": "execute_result"
    }
   ],
   "source": [
    "model_decision_tree = DecisionTreeClassifier(random_state = 100, max_depth = 7)\n",
    "model_decision_tree.fit(X_train, Y_train)"
   ]
  },
  {
   "cell_type": "code",
   "execution_count": 141,
   "id": "348b6563",
   "metadata": {},
   "outputs": [
    {
     "data": {
      "text/plain": [
       "0.737346171669842"
      ]
     },
     "execution_count": 141,
     "metadata": {},
     "output_type": "execute_result"
    }
   ],
   "source": [
    "model_decision_tree.score(X_train, Y_train)"
   ]
  },
  {
   "cell_type": "code",
   "execution_count": 142,
   "id": "8f8bed3a",
   "metadata": {},
   "outputs": [
    {
     "data": {
      "text/plain": [
       "0.7372322899505767"
      ]
     },
     "execution_count": 142,
     "metadata": {},
     "output_type": "execute_result"
    }
   ],
   "source": [
    "model_decision_tree.score(X_test, Y_test)"
   ]
  },
  {
   "cell_type": "code",
   "execution_count": 139,
   "id": "dc989d88",
   "metadata": {},
   "outputs": [],
   "source": [
    "y_pred_dt = model_decision_tree.predict(X_test)"
   ]
  },
  {
   "cell_type": "code",
   "execution_count": 135,
   "id": "a3cc8395",
   "metadata": {},
   "outputs": [
    {
     "data": {
      "text/plain": [
       "array([[1956,  657],\n",
       "       [ 645, 1598]], dtype=int64)"
      ]
     },
     "execution_count": 135,
     "metadata": {},
     "output_type": "execute_result"
    }
   ],
   "source": [
    "confusion_matrix(Y_test, y_pred_dt)"
   ]
  },
  {
   "cell_type": "code",
   "execution_count": 136,
   "id": "458a6157",
   "metadata": {},
   "outputs": [
    {
     "name": "stdout",
     "output_type": "stream",
     "text": [
      "Precision:  0.7086474501108647\n",
      "Recall:  0.7124386981720909\n"
     ]
    }
   ],
   "source": [
    "print(\"Precision: \", precision_score(Y_test, y_pred_dt))\n",
    "print(\"Recall: \", recall_score(Y_test, y_pred_dt))"
   ]
  },
  {
   "cell_type": "code",
   "execution_count": 93,
   "id": "075a300e",
   "metadata": {},
   "outputs": [
    {
     "name": "stdout",
     "output_type": "stream",
     "text": [
      "              precision    recall  f1-score   support\n",
      "\n",
      "         0.0       0.70      0.71      0.71      2613\n",
      "         1.0       0.66      0.65      0.65      2243\n",
      "\n",
      "    accuracy                           0.68      4856\n",
      "   macro avg       0.68      0.68      0.68      4856\n",
      "weighted avg       0.68      0.68      0.68      4856\n",
      "\n"
     ]
    }
   ],
   "source": [
    "print(classification_report(Y_test, y_pred_dt))"
   ]
  },
  {
   "cell_type": "code",
   "execution_count": 94,
   "id": "1b665367",
   "metadata": {},
   "outputs": [
    {
     "data": {
      "image/png": "[encoded data removed]",
      "text/plain": [
       "<Figure size 432x288 with 1 Axes>"
      ]
     },
     "metadata": {
      "needs_background": "light"
     },
     "output_type": "display_data"
    }
   ],
   "source": [
    "from sklearn import metrics\n",
    "fpr, tpr, _ = metrics.roc_curve(Y_test,y_pred_dt)\n",
    "\n",
    "#create ROC curve\n",
    "plt.plot(fpr,tpr)\n",
    "plt.ylabel('True Positive Rate')\n",
    "plt.xlabel('False Positive Rate')\n",
    "plt.show()"
   ]
  },
  {
   "cell_type": "markdown",
   "id": "ba06c380",
   "metadata": {},
   "source": [
    "## Random Forest Model "
   ]
  },
  {
   "cell_type": "code",
   "execution_count": 95,
   "id": "c158aded",
   "metadata": {},
   "outputs": [],
   "source": [
    "from sklearn.ensemble import RandomForestClassifier\n",
    "model_RF = RandomForestClassifier(n_estimators=100, criterion= 'entropy', random_state = 0)"
   ]
  },
  {
   "cell_type": "code",
   "execution_count": 97,
   "id": "8f6d5a70",
   "metadata": {},
   "outputs": [
    {
     "data": {
      "text/plain": [
       "RandomForestClassifier(criterion='entropy', random_state=0)"
      ]
     },
     "execution_count": 97,
     "metadata": {},
     "output_type": "execute_result"
    }
   ],
   "source": [
    "model_RF.fit(X_train, Y_train)"
   ]
  },
  {
   "cell_type": "code",
   "execution_count": 140,
   "id": "11bdfb8d",
   "metadata": {},
   "outputs": [
    {
     "data": {
      "text/plain": [
       "0.9993306214921992"
      ]
     },
     "execution_count": 140,
     "metadata": {},
     "output_type": "execute_result"
    }
   ],
   "source": [
    "model_RF.score(X_train, Y_train)"
   ]
  },
  {
   "cell_type": "code",
   "execution_count": 98,
   "id": "052bc266",
   "metadata": {},
   "outputs": [
    {
     "data": {
      "text/plain": [
       "0.7444398682042833"
      ]
     },
     "execution_count": 98,
     "metadata": {},
     "output_type": "execute_result"
    }
   ],
   "source": [
    "model_RF.score(X_test, Y_test)"
   ]
  },
  {
   "cell_type": "code",
   "execution_count": 99,
   "id": "c038f921",
   "metadata": {},
   "outputs": [],
   "source": [
    "y_pred_RF = model_RF.predict(X_test)"
   ]
  },
  {
   "cell_type": "code",
   "execution_count": 100,
   "id": "da0f3491",
   "metadata": {},
   "outputs": [
    {
     "data": {
      "text/plain": [
       "array([[1983,  630],\n",
       "       [ 611, 1632]], dtype=int64)"
      ]
     },
     "execution_count": 100,
     "metadata": {},
     "output_type": "execute_result"
    }
   ],
   "source": [
    "confusion_matrix(Y_test, y_pred_RF)"
   ]
  },
  {
   "cell_type": "code",
   "execution_count": 102,
   "id": "e3f344fa",
   "metadata": {},
   "outputs": [
    {
     "name": "stdout",
     "output_type": "stream",
     "text": [
      "Precision:  0.7214854111405835\n",
      "Recall:  0.7275969683459652\n"
     ]
    }
   ],
   "source": [
    "print(\"Precision: \", precision_score(Y_test, y_pred_RF))\n",
    "print(\"Recall: \", recall_score(Y_test, y_pred_RF))"
   ]
  },
  {
   "cell_type": "code",
   "execution_count": 104,
   "id": "04d7fee4",
   "metadata": {},
   "outputs": [
    {
     "name": "stdout",
     "output_type": "stream",
     "text": [
      "              precision    recall  f1-score   support\n",
      "\n",
      "         0.0       0.76      0.76      0.76      2613\n",
      "         1.0       0.72      0.73      0.72      2243\n",
      "\n",
      "    accuracy                           0.74      4856\n",
      "   macro avg       0.74      0.74      0.74      4856\n",
      "weighted avg       0.74      0.74      0.74      4856\n",
      "\n"
     ]
    }
   ],
   "source": [
    "print(classification_report(Y_test, y_pred_RF))"
   ]
  },
  {
   "cell_type": "code",
   "execution_count": 106,
   "id": "a1e65221",
   "metadata": {},
   "outputs": [
    {
     "data": {
      "image/png": "[encoded data removed]",
      "text/plain": [
       "<Figure size 432x288 with 1 Axes>"
      ]
     },
     "metadata": {
      "needs_background": "light"
     },
     "output_type": "display_data"
    }
   ],
   "source": [
    "from sklearn import metrics\n",
    "fpr, tpr, _ = metrics.roc_curve(Y_test,y_pred_RF)\n",
    "\n",
    "#create ROC curve\n",
    "plt.plot(fpr,tpr)\n",
    "plt.ylabel('True Positive Rate')\n",
    "plt.xlabel('False Positive Rate')\n",
    "plt.show()"
   ]
  },
  {
   "cell_type": "markdown",
   "id": "df7d5a2f",
   "metadata": {},
   "source": [
    "## Gradient Boosting Model"
   ]
  },
  {
   "cell_type": "code",
   "execution_count": 107,
   "id": "54fcd987",
   "metadata": {},
   "outputs": [],
   "source": [
    "from sklearn.ensemble import GradientBoostingClassifier"
   ]
  },
  {
   "cell_type": "code",
   "execution_count": 181,
   "id": "16b8dd0c",
   "metadata": {},
   "outputs": [],
   "source": [
    "grad_boosting_classifier = GradientBoostingClassifier(learning_rate = 0.2, max_depth = 6,n_estimators = 50)"
   ]
  },
  {
   "cell_type": "code",
   "execution_count": 182,
   "id": "86046354",
   "metadata": {},
   "outputs": [
    {
     "data": {
      "text/plain": [
       "GradientBoostingClassifier(learning_rate=0.2, max_depth=6, n_estimators=50)"
      ]
     },
     "execution_count": 182,
     "metadata": {},
     "output_type": "execute_result"
    }
   ],
   "source": [
    "grad_boosting_classifier.fit(X_train, Y_train)"
   ]
  },
  {
   "cell_type": "code",
   "execution_count": 183,
   "id": "3db5527a",
   "metadata": {},
   "outputs": [
    {
     "data": {
      "text/plain": [
       "0.8143761907213841"
      ]
     },
     "execution_count": 183,
     "metadata": {},
     "output_type": "execute_result"
    }
   ],
   "source": [
    "grad_boosting_classifier.score(X_train, Y_train)"
   ]
  },
  {
   "cell_type": "code",
   "execution_count": 184,
   "id": "941744ea",
   "metadata": {},
   "outputs": [
    {
     "data": {
      "text/plain": [
       "0.7563838550247117"
      ]
     },
     "execution_count": 184,
     "metadata": {},
     "output_type": "execute_result"
    }
   ],
   "source": [
    "grad_boosting_classifier.score(X_test, Y_test)"
   ]
  },
  {
   "cell_type": "code",
   "execution_count": 185,
   "id": "e81c8287",
   "metadata": {},
   "outputs": [],
   "source": [
    "y_pred_gbm = grad_boosting_classifier.predict(X_test)"
   ]
  },
  {
   "cell_type": "code",
   "execution_count": 186,
   "id": "365d422f",
   "metadata": {},
   "outputs": [
    {
     "data": {
      "text/plain": [
       "array([[1981,  551],\n",
       "       [ 632, 1692]], dtype=int64)"
      ]
     },
     "execution_count": 186,
     "metadata": {},
     "output_type": "execute_result"
    }
   ],
   "source": [
    "confusion_matrix(y_pred_gbm, Y_test)"
   ]
  },
  {
   "cell_type": "code",
   "execution_count": 187,
   "id": "c0a0da0f",
   "metadata": {},
   "outputs": [
    {
     "name": "stdout",
     "output_type": "stream",
     "text": [
      "Precision:  0.7280550774526678\n",
      "Recall:  0.7543468568880963\n"
     ]
    }
   ],
   "source": [
    "print(\"Precision: \", precision_score(Y_test, y_pred_gbm))\n",
    "print(\"Recall: \", recall_score(Y_test, y_pred_gbm))"
   ]
  },
  {
   "cell_type": "code",
   "execution_count": 188,
   "id": "04a1cafc",
   "metadata": {},
   "outputs": [
    {
     "name": "stdout",
     "output_type": "stream",
     "text": [
      "              precision    recall  f1-score   support\n",
      "\n",
      "         0.0       0.78      0.76      0.77      2613\n",
      "         1.0       0.73      0.75      0.74      2243\n",
      "\n",
      "    accuracy                           0.76      4856\n",
      "   macro avg       0.76      0.76      0.76      4856\n",
      "weighted avg       0.76      0.76      0.76      4856\n",
      "\n"
     ]
    }
   ],
   "source": [
    "print(classification_report(Y_test, y_pred_gbm))"
   ]
  },
  {
   "cell_type": "code",
   "execution_count": 189,
   "id": "23f1133b",
   "metadata": {},
   "outputs": [
    {
     "data": {
      "image/png": "[encoded data removed]",
      "text/plain": [
       "<Figure size 432x288 with 1 Axes>"
      ]
     },
     "metadata": {
      "needs_background": "light"
     },
     "output_type": "display_data"
    }
   ],
   "source": [
    "from sklearn import metrics\n",
    "fpr, tpr, _ = metrics.roc_curve(Y_test,y_pred_gbm)\n",
    "\n",
    "#create ROC curve\n",
    "plt.plot(fpr,tpr)\n",
    "plt.ylabel('True Positive Rate')\n",
    "plt.xlabel('False Positive Rate')\n",
    "plt.show()"
   ]
  },
  {
   "cell_type": "code",
   "execution_count": 190,
   "id": "3f390394",
   "metadata": {},
   "outputs": [],
   "source": [
    "models = []\n",
    "models.append(('DTC', DecisionTreeClassifier()))\n",
    "models.append(('RFC', RandomForestClassifier()))\n",
    "models.append(('GBM', GradientBoostingClassifier()))"
   ]
  },
  {
   "cell_type": "code",
   "execution_count": 191,
   "id": "01f9099d",
   "metadata": {},
   "outputs": [],
   "source": [
    "from sklearn import model_selection"
   ]
  },
  {
   "cell_type": "code",
   "execution_count": 192,
   "id": "364042f8",
   "metadata": {},
   "outputs": [
    {
     "name": "stdout",
     "output_type": "stream",
     "text": [
      "DTC: 0.644193 (0.046044)\n",
      "RFC: 0.722947 (0.044725)\n",
      "GBM: 0.741774 (0.044296)\n"
     ]
    }
   ],
   "source": [
    "results = []\n",
    "names = []\n",
    "scoring = 'accuracy'\n",
    "for name, model in models:\n",
    "    kfold = model_selection.KFold(n_splits=10)\n",
    "    cv_results = model_selection.cross_val_score(model, X, Y, cv=kfold, scoring=scoring)\n",
    "    results.append(cv_results)\n",
    "    names.append(name)\n",
    "    msg = \"%s: %f (%f)\" % (name, cv_results.mean(), cv_results.std())\n",
    "    print(msg)"
   ]
  },
  {
   "cell_type": "code",
   "execution_count": 193,
   "id": "aca30dc8",
   "metadata": {},
   "outputs": [
    {
     "data": {
      "image/png": "[encoded data removed]",
      "text/plain": [
       "<Figure size 432x288 with 1 Axes>"
      ]
     },
     "metadata": {
      "needs_background": "light"
     },
     "output_type": "display_data"
    }
   ],
   "source": [
    "fig = plt.figure()\n",
    "fig.suptitle('Algorithm Comparison')\n",
    "ax = fig.add_subplot(111)\n",
    "plt.boxplot(results)\n",
    "ax.set_xticklabels(names)\n",
    "plt.show()"
   ]
  }
 ],
 "metadata": {
  "kernelspec": {
   "display_name": "Python 3 (ipykernel)",
   "language": "python",
   "name": "python3"
  },
  "language_info": {
   "codemirror_mode": {
    "name": "ipython",
    "version": 3
   },
   "file_extension": ".py",
   "mimetype": "text/x-python",
   "name": "python",
   "nbconvert_exporter": "python",
   "pygments_lexer": "ipython3",
   "version": "3.9.7"
  }
 },
 "nbformat": 4,
 "nbformat_minor": 5
}
