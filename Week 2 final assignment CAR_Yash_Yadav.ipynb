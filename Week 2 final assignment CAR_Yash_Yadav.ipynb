{
 "cells": [
  {
   "cell_type": "code",
   "execution_count": 2,
   "id": "954fed1a",
   "metadata": {},
   "outputs": [],
   "source": [
    "import pandas as pd\n",
    "import numpy as np\n",
    "from sklearn.model_selection import train_test_split\n",
    "from sklearn import metrics\n",
    "from sklearn.linear_model import LinearRegression\n",
    "from sklearn.metrics import r2_score\n",
    "%matplotlib inline\n",
    "import matplotlib.pyplot as plt\n",
    "import statsmodels.api as sm\n",
    "import seaborn as sns\n",
    "import warnings\n",
    "warnings.filterwarnings(\"ignore\")"
   ]
  },
  {
   "cell_type": "code",
   "execution_count": 28,
   "id": "adb90a67",
   "metadata": {
    "scrolled": true
   },
   "outputs": [
    {
     "name": "stdout",
     "output_type": "stream",
     "text": [
      "<class 'pandas.core.frame.DataFrame'>\n",
      "RangeIndex: 398 entries, 0 to 397\n",
      "Data columns (total 8 columns):\n",
      " #   Column        Non-Null Count  Dtype  \n",
      "---  ------        --------------  -----  \n",
      " 0   Cylinders     398 non-null    int64  \n",
      " 1   Displacement  398 non-null    float64\n",
      " 2   Horsepower    398 non-null    object \n",
      " 3   Weight        398 non-null    int64  \n",
      " 4   Acceleration  398 non-null    float64\n",
      " 5   Model Year    398 non-null    int64  \n",
      " 6   US Made       398 non-null    int64  \n",
      " 7   MPG           398 non-null    float64\n",
      "dtypes: float64(3), int64(4), object(1)\n",
      "memory usage: 25.0+ KB\n"
     ]
    }
   ],
   "source": [
    "car = pd.read_csv('car.csv')\n",
    "cars = car[['Cylinders', 'Displacement', 'Horsepower', 'Weight', 'Acceleration', 'Model Year', 'US Made', 'MPG']]\n",
    "cars.info()"
   ]
  },
  {
   "cell_type": "code",
   "execution_count": 29,
   "id": "f32e517c",
   "metadata": {},
   "outputs": [
    {
     "data": {
      "text/html": [
       "<div>\n",
       "<style scoped>\n",
       "    .dataframe tbody tr th:only-of-type {\n",
       "        vertical-align: middle;\n",
       "    }\n",
       "\n",
       "    .dataframe tbody tr th {\n",
       "        vertical-align: top;\n",
       "    }\n",
       "\n",
       "    .dataframe thead th {\n",
       "        text-align: right;\n",
       "    }\n",
       "</style>\n",
       "<table border=\"1\" class=\"dataframe\">\n",
       "  <thead>\n",
       "    <tr style=\"text-align: right;\">\n",
       "      <th></th>\n",
       "      <th>Cylinders</th>\n",
       "      <th>Displacement</th>\n",
       "      <th>Horsepower</th>\n",
       "      <th>Weight</th>\n",
       "      <th>Acceleration</th>\n",
       "      <th>Model Year</th>\n",
       "      <th>US Made</th>\n",
       "      <th>MPG</th>\n",
       "    </tr>\n",
       "  </thead>\n",
       "  <tbody>\n",
       "    <tr>\n",
       "      <th>0</th>\n",
       "      <td>8</td>\n",
       "      <td>307.0</td>\n",
       "      <td>130</td>\n",
       "      <td>3504</td>\n",
       "      <td>12.0</td>\n",
       "      <td>70</td>\n",
       "      <td>1</td>\n",
       "      <td>18.0</td>\n",
       "    </tr>\n",
       "    <tr>\n",
       "      <th>1</th>\n",
       "      <td>8</td>\n",
       "      <td>350.0</td>\n",
       "      <td>165</td>\n",
       "      <td>3693</td>\n",
       "      <td>11.5</td>\n",
       "      <td>70</td>\n",
       "      <td>1</td>\n",
       "      <td>15.0</td>\n",
       "    </tr>\n",
       "    <tr>\n",
       "      <th>2</th>\n",
       "      <td>8</td>\n",
       "      <td>318.0</td>\n",
       "      <td>150</td>\n",
       "      <td>3436</td>\n",
       "      <td>11.0</td>\n",
       "      <td>70</td>\n",
       "      <td>1</td>\n",
       "      <td>18.0</td>\n",
       "    </tr>\n",
       "    <tr>\n",
       "      <th>3</th>\n",
       "      <td>8</td>\n",
       "      <td>304.0</td>\n",
       "      <td>150</td>\n",
       "      <td>3433</td>\n",
       "      <td>12.0</td>\n",
       "      <td>70</td>\n",
       "      <td>1</td>\n",
       "      <td>16.0</td>\n",
       "    </tr>\n",
       "    <tr>\n",
       "      <th>4</th>\n",
       "      <td>8</td>\n",
       "      <td>302.0</td>\n",
       "      <td>140</td>\n",
       "      <td>3449</td>\n",
       "      <td>10.5</td>\n",
       "      <td>70</td>\n",
       "      <td>1</td>\n",
       "      <td>17.0</td>\n",
       "    </tr>\n",
       "    <tr>\n",
       "      <th>...</th>\n",
       "      <td>...</td>\n",
       "      <td>...</td>\n",
       "      <td>...</td>\n",
       "      <td>...</td>\n",
       "      <td>...</td>\n",
       "      <td>...</td>\n",
       "      <td>...</td>\n",
       "      <td>...</td>\n",
       "    </tr>\n",
       "    <tr>\n",
       "      <th>393</th>\n",
       "      <td>4</td>\n",
       "      <td>140.0</td>\n",
       "      <td>86</td>\n",
       "      <td>2790</td>\n",
       "      <td>15.6</td>\n",
       "      <td>82</td>\n",
       "      <td>1</td>\n",
       "      <td>27.0</td>\n",
       "    </tr>\n",
       "    <tr>\n",
       "      <th>394</th>\n",
       "      <td>4</td>\n",
       "      <td>97.0</td>\n",
       "      <td>52</td>\n",
       "      <td>2130</td>\n",
       "      <td>24.6</td>\n",
       "      <td>82</td>\n",
       "      <td>0</td>\n",
       "      <td>44.0</td>\n",
       "    </tr>\n",
       "    <tr>\n",
       "      <th>395</th>\n",
       "      <td>4</td>\n",
       "      <td>135.0</td>\n",
       "      <td>84</td>\n",
       "      <td>2295</td>\n",
       "      <td>11.6</td>\n",
       "      <td>82</td>\n",
       "      <td>1</td>\n",
       "      <td>32.0</td>\n",
       "    </tr>\n",
       "    <tr>\n",
       "      <th>396</th>\n",
       "      <td>4</td>\n",
       "      <td>120.0</td>\n",
       "      <td>79</td>\n",
       "      <td>2625</td>\n",
       "      <td>18.6</td>\n",
       "      <td>82</td>\n",
       "      <td>1</td>\n",
       "      <td>28.0</td>\n",
       "    </tr>\n",
       "    <tr>\n",
       "      <th>397</th>\n",
       "      <td>4</td>\n",
       "      <td>119.0</td>\n",
       "      <td>82</td>\n",
       "      <td>2720</td>\n",
       "      <td>19.4</td>\n",
       "      <td>82</td>\n",
       "      <td>1</td>\n",
       "      <td>31.0</td>\n",
       "    </tr>\n",
       "  </tbody>\n",
       "</table>\n",
       "<p>398 rows × 8 columns</p>\n",
       "</div>"
      ],
      "text/plain": [
       "     Cylinders  Displacement Horsepower  Weight  Acceleration  Model Year  \\\n",
       "0            8         307.0        130    3504          12.0          70   \n",
       "1            8         350.0        165    3693          11.5          70   \n",
       "2            8         318.0        150    3436          11.0          70   \n",
       "3            8         304.0        150    3433          12.0          70   \n",
       "4            8         302.0        140    3449          10.5          70   \n",
       "..         ...           ...        ...     ...           ...         ...   \n",
       "393          4         140.0         86    2790          15.6          82   \n",
       "394          4          97.0         52    2130          24.6          82   \n",
       "395          4         135.0         84    2295          11.6          82   \n",
       "396          4         120.0         79    2625          18.6          82   \n",
       "397          4         119.0         82    2720          19.4          82   \n",
       "\n",
       "     US Made   MPG  \n",
       "0          1  18.0  \n",
       "1          1  15.0  \n",
       "2          1  18.0  \n",
       "3          1  16.0  \n",
       "4          1  17.0  \n",
       "..       ...   ...  \n",
       "393        1  27.0  \n",
       "394        0  44.0  \n",
       "395        1  32.0  \n",
       "396        1  28.0  \n",
       "397        1  31.0  \n",
       "\n",
       "[398 rows x 8 columns]"
      ]
     },
     "execution_count": 29,
     "metadata": {},
     "output_type": "execute_result"
    }
   ],
   "source": [
    "cars"
   ]
  },
  {
   "cell_type": "code",
   "execution_count": null,
   "id": "66844c35",
   "metadata": {},
   "outputs": [],
   "source": []
  },
  {
   "cell_type": "code",
   "execution_count": 30,
   "id": "f1f6deb7",
   "metadata": {},
   "outputs": [
    {
     "data": {
      "text/html": [
       "<div>\n",
       "<style scoped>\n",
       "    .dataframe tbody tr th:only-of-type {\n",
       "        vertical-align: middle;\n",
       "    }\n",
       "\n",
       "    .dataframe tbody tr th {\n",
       "        vertical-align: top;\n",
       "    }\n",
       "\n",
       "    .dataframe thead th {\n",
       "        text-align: right;\n",
       "    }\n",
       "</style>\n",
       "<table border=\"1\" class=\"dataframe\">\n",
       "  <thead>\n",
       "    <tr style=\"text-align: right;\">\n",
       "      <th></th>\n",
       "      <th>Cylinders</th>\n",
       "      <th>Displacement</th>\n",
       "      <th>Horsepower</th>\n",
       "      <th>Weight</th>\n",
       "      <th>Acceleration</th>\n",
       "      <th>Model Year</th>\n",
       "      <th>US Made</th>\n",
       "      <th>MPG</th>\n",
       "    </tr>\n",
       "  </thead>\n",
       "  <tbody>\n",
       "    <tr>\n",
       "      <th>0</th>\n",
       "      <td>8</td>\n",
       "      <td>307.0</td>\n",
       "      <td>130</td>\n",
       "      <td>3504</td>\n",
       "      <td>12.0</td>\n",
       "      <td>70</td>\n",
       "      <td>1</td>\n",
       "      <td>18.0</td>\n",
       "    </tr>\n",
       "    <tr>\n",
       "      <th>1</th>\n",
       "      <td>8</td>\n",
       "      <td>350.0</td>\n",
       "      <td>165</td>\n",
       "      <td>3693</td>\n",
       "      <td>11.5</td>\n",
       "      <td>70</td>\n",
       "      <td>1</td>\n",
       "      <td>15.0</td>\n",
       "    </tr>\n",
       "    <tr>\n",
       "      <th>2</th>\n",
       "      <td>8</td>\n",
       "      <td>318.0</td>\n",
       "      <td>150</td>\n",
       "      <td>3436</td>\n",
       "      <td>11.0</td>\n",
       "      <td>70</td>\n",
       "      <td>1</td>\n",
       "      <td>18.0</td>\n",
       "    </tr>\n",
       "    <tr>\n",
       "      <th>3</th>\n",
       "      <td>8</td>\n",
       "      <td>304.0</td>\n",
       "      <td>150</td>\n",
       "      <td>3433</td>\n",
       "      <td>12.0</td>\n",
       "      <td>70</td>\n",
       "      <td>1</td>\n",
       "      <td>16.0</td>\n",
       "    </tr>\n",
       "    <tr>\n",
       "      <th>4</th>\n",
       "      <td>8</td>\n",
       "      <td>302.0</td>\n",
       "      <td>140</td>\n",
       "      <td>3449</td>\n",
       "      <td>10.5</td>\n",
       "      <td>70</td>\n",
       "      <td>1</td>\n",
       "      <td>17.0</td>\n",
       "    </tr>\n",
       "    <tr>\n",
       "      <th>...</th>\n",
       "      <td>...</td>\n",
       "      <td>...</td>\n",
       "      <td>...</td>\n",
       "      <td>...</td>\n",
       "      <td>...</td>\n",
       "      <td>...</td>\n",
       "      <td>...</td>\n",
       "      <td>...</td>\n",
       "    </tr>\n",
       "    <tr>\n",
       "      <th>393</th>\n",
       "      <td>4</td>\n",
       "      <td>140.0</td>\n",
       "      <td>86</td>\n",
       "      <td>2790</td>\n",
       "      <td>15.6</td>\n",
       "      <td>82</td>\n",
       "      <td>1</td>\n",
       "      <td>27.0</td>\n",
       "    </tr>\n",
       "    <tr>\n",
       "      <th>394</th>\n",
       "      <td>4</td>\n",
       "      <td>97.0</td>\n",
       "      <td>52</td>\n",
       "      <td>2130</td>\n",
       "      <td>24.6</td>\n",
       "      <td>82</td>\n",
       "      <td>0</td>\n",
       "      <td>44.0</td>\n",
       "    </tr>\n",
       "    <tr>\n",
       "      <th>395</th>\n",
       "      <td>4</td>\n",
       "      <td>135.0</td>\n",
       "      <td>84</td>\n",
       "      <td>2295</td>\n",
       "      <td>11.6</td>\n",
       "      <td>82</td>\n",
       "      <td>1</td>\n",
       "      <td>32.0</td>\n",
       "    </tr>\n",
       "    <tr>\n",
       "      <th>396</th>\n",
       "      <td>4</td>\n",
       "      <td>120.0</td>\n",
       "      <td>79</td>\n",
       "      <td>2625</td>\n",
       "      <td>18.6</td>\n",
       "      <td>82</td>\n",
       "      <td>1</td>\n",
       "      <td>28.0</td>\n",
       "    </tr>\n",
       "    <tr>\n",
       "      <th>397</th>\n",
       "      <td>4</td>\n",
       "      <td>119.0</td>\n",
       "      <td>82</td>\n",
       "      <td>2720</td>\n",
       "      <td>19.4</td>\n",
       "      <td>82</td>\n",
       "      <td>1</td>\n",
       "      <td>31.0</td>\n",
       "    </tr>\n",
       "  </tbody>\n",
       "</table>\n",
       "<p>392 rows × 8 columns</p>\n",
       "</div>"
      ],
      "text/plain": [
       "     Cylinders  Displacement  Horsepower  Weight  Acceleration  Model Year  \\\n",
       "0            8         307.0         130    3504          12.0          70   \n",
       "1            8         350.0         165    3693          11.5          70   \n",
       "2            8         318.0         150    3436          11.0          70   \n",
       "3            8         304.0         150    3433          12.0          70   \n",
       "4            8         302.0         140    3449          10.5          70   \n",
       "..         ...           ...         ...     ...           ...         ...   \n",
       "393          4         140.0          86    2790          15.6          82   \n",
       "394          4          97.0          52    2130          24.6          82   \n",
       "395          4         135.0          84    2295          11.6          82   \n",
       "396          4         120.0          79    2625          18.6          82   \n",
       "397          4         119.0          82    2720          19.4          82   \n",
       "\n",
       "     US Made   MPG  \n",
       "0          1  18.0  \n",
       "1          1  15.0  \n",
       "2          1  18.0  \n",
       "3          1  16.0  \n",
       "4          1  17.0  \n",
       "..       ...   ...  \n",
       "393        1  27.0  \n",
       "394        0  44.0  \n",
       "395        1  32.0  \n",
       "396        1  28.0  \n",
       "397        1  31.0  \n",
       "\n",
       "[392 rows x 8 columns]"
      ]
     },
     "execution_count": 30,
     "metadata": {},
     "output_type": "execute_result"
    }
   ],
   "source": [
    "#removing 6 rows because of inconvinient data\n",
    "cars['Horsepower'] = cars['Horsepower'].replace('?', np.nan)\n",
    "cars[cars['Horsepower'].isnull()].index.tolist()\n",
    "cars = cars.drop(labels=[32, 126, 330, 336, 354, 374], axis=0)\n",
    "cars['Horsepower'] = cars['Horsepower'].astype('int64')\n",
    "cars"
   ]
  },
  {
   "cell_type": "code",
   "execution_count": 31,
   "id": "27f7a1ee",
   "metadata": {},
   "outputs": [
    {
     "data": {
      "text/html": [
       "<div>\n",
       "<style scoped>\n",
       "    .dataframe tbody tr th:only-of-type {\n",
       "        vertical-align: middle;\n",
       "    }\n",
       "\n",
       "    .dataframe tbody tr th {\n",
       "        vertical-align: top;\n",
       "    }\n",
       "\n",
       "    .dataframe thead th {\n",
       "        text-align: right;\n",
       "    }\n",
       "</style>\n",
       "<table border=\"1\" class=\"dataframe\">\n",
       "  <thead>\n",
       "    <tr style=\"text-align: right;\">\n",
       "      <th></th>\n",
       "      <th>Cylinders</th>\n",
       "      <th>Displacement</th>\n",
       "      <th>Horsepower</th>\n",
       "      <th>Weight</th>\n",
       "      <th>Acceleration</th>\n",
       "      <th>Model Year</th>\n",
       "      <th>US Made</th>\n",
       "      <th>MPG</th>\n",
       "    </tr>\n",
       "  </thead>\n",
       "  <tbody>\n",
       "    <tr>\n",
       "      <th>count</th>\n",
       "      <td>392.000000</td>\n",
       "      <td>392.000000</td>\n",
       "      <td>392.000000</td>\n",
       "      <td>392.000000</td>\n",
       "      <td>392.000000</td>\n",
       "      <td>392.000000</td>\n",
       "      <td>392.000000</td>\n",
       "      <td>392.000000</td>\n",
       "    </tr>\n",
       "    <tr>\n",
       "      <th>mean</th>\n",
       "      <td>5.471939</td>\n",
       "      <td>194.411990</td>\n",
       "      <td>104.469388</td>\n",
       "      <td>2977.584184</td>\n",
       "      <td>15.541327</td>\n",
       "      <td>75.979592</td>\n",
       "      <td>0.625000</td>\n",
       "      <td>23.445918</td>\n",
       "    </tr>\n",
       "    <tr>\n",
       "      <th>std</th>\n",
       "      <td>1.705783</td>\n",
       "      <td>104.644004</td>\n",
       "      <td>38.491160</td>\n",
       "      <td>849.402560</td>\n",
       "      <td>2.758864</td>\n",
       "      <td>3.683737</td>\n",
       "      <td>0.484742</td>\n",
       "      <td>7.805007</td>\n",
       "    </tr>\n",
       "    <tr>\n",
       "      <th>min</th>\n",
       "      <td>3.000000</td>\n",
       "      <td>68.000000</td>\n",
       "      <td>46.000000</td>\n",
       "      <td>1613.000000</td>\n",
       "      <td>8.000000</td>\n",
       "      <td>70.000000</td>\n",
       "      <td>0.000000</td>\n",
       "      <td>9.000000</td>\n",
       "    </tr>\n",
       "    <tr>\n",
       "      <th>25%</th>\n",
       "      <td>4.000000</td>\n",
       "      <td>105.000000</td>\n",
       "      <td>75.000000</td>\n",
       "      <td>2225.250000</td>\n",
       "      <td>13.775000</td>\n",
       "      <td>73.000000</td>\n",
       "      <td>0.000000</td>\n",
       "      <td>17.000000</td>\n",
       "    </tr>\n",
       "    <tr>\n",
       "      <th>50%</th>\n",
       "      <td>4.000000</td>\n",
       "      <td>151.000000</td>\n",
       "      <td>93.500000</td>\n",
       "      <td>2803.500000</td>\n",
       "      <td>15.500000</td>\n",
       "      <td>76.000000</td>\n",
       "      <td>1.000000</td>\n",
       "      <td>22.750000</td>\n",
       "    </tr>\n",
       "    <tr>\n",
       "      <th>75%</th>\n",
       "      <td>8.000000</td>\n",
       "      <td>275.750000</td>\n",
       "      <td>126.000000</td>\n",
       "      <td>3614.750000</td>\n",
       "      <td>17.025000</td>\n",
       "      <td>79.000000</td>\n",
       "      <td>1.000000</td>\n",
       "      <td>29.000000</td>\n",
       "    </tr>\n",
       "    <tr>\n",
       "      <th>max</th>\n",
       "      <td>8.000000</td>\n",
       "      <td>455.000000</td>\n",
       "      <td>230.000000</td>\n",
       "      <td>5140.000000</td>\n",
       "      <td>24.800000</td>\n",
       "      <td>82.000000</td>\n",
       "      <td>1.000000</td>\n",
       "      <td>46.600000</td>\n",
       "    </tr>\n",
       "  </tbody>\n",
       "</table>\n",
       "</div>"
      ],
      "text/plain": [
       "        Cylinders  Displacement  Horsepower       Weight  Acceleration  \\\n",
       "count  392.000000    392.000000  392.000000   392.000000    392.000000   \n",
       "mean     5.471939    194.411990  104.469388  2977.584184     15.541327   \n",
       "std      1.705783    104.644004   38.491160   849.402560      2.758864   \n",
       "min      3.000000     68.000000   46.000000  1613.000000      8.000000   \n",
       "25%      4.000000    105.000000   75.000000  2225.250000     13.775000   \n",
       "50%      4.000000    151.000000   93.500000  2803.500000     15.500000   \n",
       "75%      8.000000    275.750000  126.000000  3614.750000     17.025000   \n",
       "max      8.000000    455.000000  230.000000  5140.000000     24.800000   \n",
       "\n",
       "       Model Year     US Made         MPG  \n",
       "count  392.000000  392.000000  392.000000  \n",
       "mean    75.979592    0.625000   23.445918  \n",
       "std      3.683737    0.484742    7.805007  \n",
       "min     70.000000    0.000000    9.000000  \n",
       "25%     73.000000    0.000000   17.000000  \n",
       "50%     76.000000    1.000000   22.750000  \n",
       "75%     79.000000    1.000000   29.000000  \n",
       "max     82.000000    1.000000   46.600000  "
      ]
     },
     "execution_count": 31,
     "metadata": {},
     "output_type": "execute_result"
    }
   ],
   "source": [
    "cars.describe()"
   ]
  },
  {
   "cell_type": "code",
   "execution_count": 32,
   "id": "77310eda",
   "metadata": {},
   "outputs": [
    {
     "data": {
      "text/plain": [
       "<AxesSubplot:>"
      ]
     },
     "execution_count": 32,
     "metadata": {},
     "output_type": "execute_result"
    },
    {
     "data": {
      "image/png": "[encoded data removed]",
      "text/plain": [
       "<Figure size 1368x1368 with 2 Axes>"
      ]
     },
     "metadata": {
      "needs_background": "light"
     },
     "output_type": "display_data"
    }
   ],
   "source": [
    "#seaborn correlation heatmap\n",
    "plt.figure(figsize = (19,19))\n",
    "sns.heatmap(cars.corr(), annot=True)\n",
    "#plt.savefig('ALL_vs_MPG.png', dpi=500)"
   ]
  },
  {
   "cell_type": "code",
   "execution_count": 55,
   "id": "055ac879",
   "metadata": {},
   "outputs": [],
   "source": [
    "#splitting required columns in test and train dataset\n",
    "x = cars.loc[:, ['Cylinders', 'Displacement', 'Horsepower', 'Weight', 'Acceleration', 'Model Year', 'US Made']]\n",
    "y = cars['MPG']\n",
    "x_train, x_test, y_train, y_test=train_test_split(x,y,test_size=0.23)"
   ]
  },
  {
   "cell_type": "code",
   "execution_count": 56,
   "id": "23af4775",
   "metadata": {},
   "outputs": [
    {
     "name": "stdout",
     "output_type": "stream",
     "text": [
      "X_train: (301, 7)\n",
      "X_test: (91, 7)\n",
      "Y_train: (301,)\n",
      "Y_test: (91,)\n"
     ]
    }
   ],
   "source": [
    "#checking out the splitted datasets\n",
    "print(\"X_train:\",x_train.shape)\n",
    "print(\"X_test:\",x_test.shape)\n",
    "print(\"Y_train:\",y_train.shape)\n",
    "print(\"Y_test:\",y_test.shape)"
   ]
  },
  {
   "cell_type": "code",
   "execution_count": 57,
   "id": "cc00f585",
   "metadata": {},
   "outputs": [
    {
     "data": {
      "text/plain": [
       "LinearRegression()"
      ]
     },
     "execution_count": 57,
     "metadata": {},
     "output_type": "execute_result"
    }
   ],
   "source": [
    "#fitting training datasets in the Linear Regression model\n",
    "lr=LinearRegression()\n",
    "lr.fit(x_train,y_train)"
   ]
  },
  {
   "cell_type": "code",
   "execution_count": 58,
   "id": "586bb70f",
   "metadata": {},
   "outputs": [
    {
     "data": {
      "text/plain": [
       "array([22.82771708, 27.81613088,  6.34203432, 30.18416498, 23.87575262,\n",
       "       35.5183199 , 13.09540651, 20.87101801, 27.11902667, 25.49355204,\n",
       "       26.53650779, 22.81667776, 26.88718618, 21.1252257 , 25.01516031,\n",
       "       23.8757603 , 26.54414493, 32.6652066 , 25.74339266, 28.65051075,\n",
       "       32.05111687, 17.48322188, 25.85689757, 29.36283345,  8.97426513,\n",
       "       32.58228053, 23.28064874, 30.72699335, 29.36517341, 18.0579606 ,\n",
       "       23.95682579, 12.06538688, 16.67987114, 26.76092283, 11.49242584,\n",
       "       35.38119395, 29.30635389, 10.51821639, 20.71421661, 28.94041268,\n",
       "       29.12429944, 27.98780725, 36.03852078, 26.25095905, 29.76120667,\n",
       "       11.42322309, 12.34050574,  9.852604  , 13.31239359, 20.33456941,\n",
       "       35.77011879, 11.45288583, 23.50386581, 31.46474354, 14.66450137,\n",
       "       22.73093287, 26.63645839, 19.48625473, 26.29414053, 25.64073826,\n",
       "       32.47024636, 36.2360766 , 31.62690078, 29.3997319 , 29.27275147,\n",
       "       16.42942583, 17.81305381, 17.16010275, 22.66556825, 29.91220152,\n",
       "       31.44272825, 30.85089681, 25.82355695, 18.80762007, 10.67029318,\n",
       "       34.47984534, 28.63314068, 16.39504054, 21.22490886, 17.39376583,\n",
       "       11.48384488, 13.67875873, 16.62764887, 28.85089932, 26.88184445,\n",
       "       27.57530898, 34.49288792, 20.44396639, 22.66571819, 31.18932456,\n",
       "       21.13913437])"
      ]
     },
     "execution_count": 58,
     "metadata": {},
     "output_type": "execute_result"
    }
   ],
   "source": [
    "#to print an array of preditions\n",
    "y_pred=lr.predict(x_test)\n",
    "y_pred"
   ]
  },
  {
   "cell_type": "code",
   "execution_count": 59,
   "id": "2f299bdb",
   "metadata": {},
   "outputs": [
    {
     "name": "stdout",
     "output_type": "stream",
     "text": [
      " Accuracy of the model is 83.22\n"
     ]
    }
   ],
   "source": [
    "#to check the accuracy(r2_score) of the model\n",
    "Accuracy=r2_score(y_test,y_pred)*100\n",
    "print(\" Accuracy of the model is %.2f\" %Accuracy)"
   ]
  },
  {
   "cell_type": "code",
   "execution_count": 61,
   "id": "23411f35",
   "metadata": {},
   "outputs": [
    {
     "data": {
      "image/png": "[encoded data removed]",
      "text/plain": [
       "<Figure size 864x432 with 1 Axes>"
      ]
     },
     "metadata": {
      "needs_background": "light"
     },
     "output_type": "display_data"
    }
   ],
   "source": [
    "#visualizing the model working\n",
    "plt.figure(figsize = (12,6))\n",
    "plt.xlabel('Actual')\n",
    "plt.ylabel('Predicted')\n",
    "plt.title('Model predictions')\n",
    "sns.regplot(x=y_test,y=y_pred);\n",
    "#plt.savefig('MODEL PREDICTIONS.png', dpi=700)"
   ]
  },
  {
   "cell_type": "code",
   "execution_count": 65,
   "id": "cc4c7cd4",
   "metadata": {},
   "outputs": [
    {
     "name": "stdout",
     "output_type": "stream",
     "text": [
      "                            OLS Regression Results                            \n",
      "==============================================================================\n",
      "Dep. Variable:                    MPG   R-squared:                       0.820\n",
      "Model:                            OLS   Adj. R-squared:                  0.816\n",
      "Method:                 Least Squares   F-statistic:                     191.3\n",
      "Date:                Sun, 05 Jun 2022   Prob (F-statistic):          2.62e-105\n",
      "Time:                        21:48:28   Log-Likelihood:                -786.65\n",
      "No. Observations:                 301   AIC:                             1589.\n",
      "Df Residuals:                     293   BIC:                             1619.\n",
      "Df Model:                           7                                         \n",
      "Covariance Type:            nonrobust                                         \n",
      "================================================================================\n",
      "                   coef    std err          t      P>|t|      [0.025      0.975]\n",
      "--------------------------------------------------------------------------------\n",
      "const          -16.7717      5.403     -3.104      0.002     -27.404      -6.139\n",
      "Cylinders       -0.4486      0.366     -1.225      0.222      -1.170       0.272\n",
      "Displacement     0.0245      0.009      2.853      0.005       0.008       0.041\n",
      "Horsepower      -0.0108      0.015     -0.694      0.488      -0.041       0.020\n",
      "Weight          -0.0072      0.001     -9.739      0.000      -0.009      -0.006\n",
      "Acceleration     0.1571      0.117      1.343      0.180      -0.073       0.387\n",
      "Model Year       0.7834      0.059     13.194      0.000       0.667       0.900\n",
      "US Made         -2.5457      0.552     -4.611      0.000      -3.632      -1.459\n",
      "==============================================================================\n",
      "Omnibus:                       13.319   Durbin-Watson:                   2.085\n",
      "Prob(Omnibus):                  0.001   Jarque-Bera (JB):               18.582\n",
      "Skew:                           0.336   Prob(JB):                     9.22e-05\n",
      "Kurtosis:                       4.015   Cond. No.                     8.72e+04\n",
      "==============================================================================\n",
      "\n",
      "Notes:\n",
      "[1] Standard Errors assume that the covariance matrix of the errors is correctly specified.\n",
      "[2] The condition number is large, 8.72e+04. This might indicate that there are\n",
      "strong multicollinearity or other numerical problems.\n"
     ]
    }
   ],
   "source": [
    "#Ordinary Least Squares regression \n",
    "X = sm.add_constant(x_train)\n",
    "EST = sm.OLS(y_train, X)\n",
    "EST1 = EST.fit()\n",
    "print(EST1.summary())"
   ]
  },
  {
   "cell_type": "code",
   "execution_count": 64,
   "id": "e6910b6b",
   "metadata": {},
   "outputs": [
    {
     "name": "stdout",
     "output_type": "stream",
     "text": [
      "Feature: 0, Score: -0.48309\n",
      "Feature: 1, Score: 0.02410\n",
      "Feature: 2, Score: -0.01774\n",
      "Feature: 3, Score: -0.00676\n",
      "Feature: 4, Score: 0.07907\n",
      "Feature: 5, Score: 0.78083\n",
      "Feature: 6, Score: -2.74695\n"
     ]
    },
    {
     "data": {
      "image/png": "[encoded data removed]",
      "text/plain": [
       "<Figure size 432x288 with 1 Axes>"
      ]
     },
     "metadata": {
      "needs_background": "light"
     },
     "output_type": "display_data"
    },
    {
     "data": {
      "text/plain": [
       "<Figure size 1080x576 with 0 Axes>"
      ]
     },
     "metadata": {},
     "output_type": "display_data"
    }
   ],
   "source": [
    "lr.fit(x, y)\n",
    "# get importance\n",
    "importance = lr.coef_\n",
    "# summarize feature importance\n",
    "for i,v in enumerate(importance):\n",
    "\tprint('Feature: %0d, Score: %.5f' % (i,v))\n",
    "# plot feature importance\n",
    "plt.bar([x for x in range(len(importance))], importance)\n",
    "plt.figure(figsize = (15,8))\n",
    "plt.show()"
   ]
  },
  {
   "cell_type": "code",
   "execution_count": 18,
   "id": "a0c78db7",
   "metadata": {},
   "outputs": [
    {
     "data": {
      "text/html": [
       "<div>\n",
       "<style scoped>\n",
       "    .dataframe tbody tr th:only-of-type {\n",
       "        vertical-align: middle;\n",
       "    }\n",
       "\n",
       "    .dataframe tbody tr th {\n",
       "        vertical-align: top;\n",
       "    }\n",
       "\n",
       "    .dataframe thead th {\n",
       "        text-align: right;\n",
       "    }\n",
       "</style>\n",
       "<table border=\"1\" class=\"dataframe\">\n",
       "  <thead>\n",
       "    <tr style=\"text-align: right;\">\n",
       "      <th></th>\n",
       "      <th>Coeff</th>\n",
       "    </tr>\n",
       "  </thead>\n",
       "  <tbody>\n",
       "    <tr>\n",
       "      <th>Model Year</th>\n",
       "      <td>0.780834</td>\n",
       "    </tr>\n",
       "    <tr>\n",
       "      <th>Acceleration</th>\n",
       "      <td>0.079070</td>\n",
       "    </tr>\n",
       "    <tr>\n",
       "      <th>Displacement</th>\n",
       "      <td>0.024100</td>\n",
       "    </tr>\n",
       "  </tbody>\n",
       "</table>\n",
       "</div>"
      ],
      "text/plain": [
       "                 Coeff\n",
       "Model Year    0.780834\n",
       "Acceleration  0.079070\n",
       "Displacement  0.024100"
      ]
     },
     "execution_count": 18,
     "metadata": {},
     "output_type": "execute_result"
    }
   ],
   "source": [
    "#to retrieve 3 most import features for positive influence on MPG\n",
    "pd.DataFrame(lr.coef_, x.columns, columns=['Coeff']).nlargest(n=3, columns=['Coeff'])"
   ]
  },
  {
   "cell_type": "code",
   "execution_count": 24,
   "id": "a9b646f9",
   "metadata": {},
   "outputs": [
    {
     "name": "stdout",
     "output_type": "stream",
     "text": [
      "MAE 2.6166818785636825\n",
      "MSE 12.264544907761554\n",
      "RMSE 3.50207722755532\n"
     ]
    }
   ],
   "source": [
    "print('MAE', metrics.mean_absolute_error(y_test, y_pred))\n",
    "print('MSE', metrics.mean_squared_error(y_test, y_pred))\n",
    "print('RMSE', np.sqrt(metrics.mean_squared_error(y_test, y_pred)))"
   ]
  }
 ],
 "metadata": {
  "kernelspec": {
   "display_name": "Python 3 (ipykernel)",
   "language": "python",
   "name": "python3"
  },
  "language_info": {
   "codemirror_mode": {
    "name": "ipython",
    "version": 3
   },
   "file_extension": ".py",
   "mimetype": "text/x-python",
   "name": "python",
   "nbconvert_exporter": "python",
   "pygments_lexer": "ipython3",
   "version": "3.9.7"
  }
 },
 "nbformat": 4,
 "nbformat_minor": 5
}
