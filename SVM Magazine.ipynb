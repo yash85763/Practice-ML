{
 "cells": [
  {
   "cell_type": "code",
   "execution_count": 1,
   "id": "aab5046f",
   "metadata": {},
   "outputs": [
    {
     "data": {
      "text/html": [
       "        <script type=\"text/javascript\">\n",
       "        window.PlotlyConfig = {MathJaxConfig: 'local'};\n",
       "        if (window.MathJax && window.MathJax.Hub && window.MathJax.Hub.Config) {window.MathJax.Hub.Config({SVG: {font: \"STIX-Web\"}});}\n",
       "        if (typeof require !== 'undefined') {\n",
       "        require.undef(\"plotly\");\n",
       "        requirejs.config({\n",
       "            paths: {\n",
       "                'plotly': ['https://cdn.plot.ly/plotly-2.12.1.min']\n",
       "            }\n",
       "        });\n",
       "        require(['plotly'], function(Plotly) {\n",
       "            window._Plotly = Plotly;\n",
       "        });\n",
       "        }\n",
       "        </script>\n",
       "        "
      ]
     },
     "metadata": {},
     "output_type": "display_data"
    }
   ],
   "source": [
    "import pandas as pd\n",
    "import numpy as np\n",
    "import cufflinks as cf\n",
    "cf.go_offline()\n",
    "import matplotlib.pyplot as plt\n",
    "import seaborn as sns\n",
    "%matplotlib inline\n",
    "sns.set(rc = {'figure.figsize':(10,8)})\n",
    "from sklearn.model_selection import train_test_split\n",
    "from sklearn.linear_model import LogisticRegression\n",
    "from sklearn.datasets import make_classification\n",
    "from sklearn.model_selection import train_test_split\n",
    "from sklearn.pipeline import make_pipeline\n",
    "from sklearn.preprocessing import StandardScaler\n",
    "from sklearn.metrics import classification_report\n",
    "from sklearn.metrics import confusion_matrix"
   ]
  },
  {
   "cell_type": "code",
   "execution_count": 2,
   "id": "b3e9f85a",
   "metadata": {},
   "outputs": [],
   "source": [
    "df = pd.read_excel(\"marketing_campaign.xlsx\")"
   ]
  },
  {
   "cell_type": "code",
   "execution_count": 3,
   "id": "7ceb1eaf",
   "metadata": {},
   "outputs": [],
   "source": [
    "df['Dt_Customer']=pd.to_datetime(df['Dt_Customer'])\n",
    "pd.isnull(df).sum()\n",
    "df = df.drop(labels=df[df['Income'].isnull()].index.tolist(), axis=0)"
   ]
  },
  {
   "cell_type": "code",
   "execution_count": null,
   "id": "9bc1e2a3",
   "metadata": {},
   "outputs": [],
   "source": []
  },
  {
   "cell_type": "code",
   "execution_count": 5,
   "id": "568c6b0c",
   "metadata": {},
   "outputs": [],
   "source": [
    "df['Education'].replace(['2n Cycle', 'Basic', 'Graduation', 'Master', 'PhD'],\n",
    "                        [1, 2, 3, 4, 5], inplace=True)\n",
    "df['Marital_Status'].replace(['Absurd', 'Alone', 'Divorced', 'Married', 'Single', 'Together', 'Widow', 'YOLO'], \n",
    "                        [2, 0, 3, 1, 0, 1, 4, 6], inplace=True)"
   ]
  },
  {
   "cell_type": "code",
   "execution_count": 6,
   "id": "b39690da",
   "metadata": {},
   "outputs": [
    {
     "data": {
      "text/html": [
       "<div>\n",
       "<style scoped>\n",
       "    .dataframe tbody tr th:only-of-type {\n",
       "        vertical-align: middle;\n",
       "    }\n",
       "\n",
       "    .dataframe tbody tr th {\n",
       "        vertical-align: top;\n",
       "    }\n",
       "\n",
       "    .dataframe thead th {\n",
       "        text-align: right;\n",
       "    }\n",
       "</style>\n",
       "<table border=\"1\" class=\"dataframe\">\n",
       "  <thead>\n",
       "    <tr style=\"text-align: right;\">\n",
       "      <th></th>\n",
       "      <th>ID</th>\n",
       "      <th>Year_Birth</th>\n",
       "      <th>Education</th>\n",
       "      <th>Marital_Status</th>\n",
       "      <th>Income</th>\n",
       "      <th>Kidhome</th>\n",
       "      <th>Teenhome</th>\n",
       "      <th>Dt_Customer</th>\n",
       "      <th>Recency</th>\n",
       "      <th>MntWines</th>\n",
       "      <th>...</th>\n",
       "      <th>NumWebVisitsMonth</th>\n",
       "      <th>AcceptedCmp3</th>\n",
       "      <th>AcceptedCmp4</th>\n",
       "      <th>AcceptedCmp5</th>\n",
       "      <th>AcceptedCmp1</th>\n",
       "      <th>AcceptedCmp2</th>\n",
       "      <th>Complain</th>\n",
       "      <th>Z_CostContact</th>\n",
       "      <th>Z_Revenue</th>\n",
       "      <th>Response</th>\n",
       "    </tr>\n",
       "  </thead>\n",
       "  <tbody>\n",
       "    <tr>\n",
       "      <th>0</th>\n",
       "      <td>5524</td>\n",
       "      <td>1957</td>\n",
       "      <td>3</td>\n",
       "      <td>0</td>\n",
       "      <td>58138.0</td>\n",
       "      <td>0</td>\n",
       "      <td>0</td>\n",
       "      <td>2012-09-04</td>\n",
       "      <td>58</td>\n",
       "      <td>635</td>\n",
       "      <td>...</td>\n",
       "      <td>7</td>\n",
       "      <td>0</td>\n",
       "      <td>0</td>\n",
       "      <td>0</td>\n",
       "      <td>0</td>\n",
       "      <td>0</td>\n",
       "      <td>0</td>\n",
       "      <td>3</td>\n",
       "      <td>11</td>\n",
       "      <td>1</td>\n",
       "    </tr>\n",
       "    <tr>\n",
       "      <th>1</th>\n",
       "      <td>2174</td>\n",
       "      <td>1954</td>\n",
       "      <td>3</td>\n",
       "      <td>0</td>\n",
       "      <td>46344.0</td>\n",
       "      <td>1</td>\n",
       "      <td>1</td>\n",
       "      <td>2014-03-08</td>\n",
       "      <td>38</td>\n",
       "      <td>11</td>\n",
       "      <td>...</td>\n",
       "      <td>5</td>\n",
       "      <td>0</td>\n",
       "      <td>0</td>\n",
       "      <td>0</td>\n",
       "      <td>0</td>\n",
       "      <td>0</td>\n",
       "      <td>0</td>\n",
       "      <td>3</td>\n",
       "      <td>11</td>\n",
       "      <td>0</td>\n",
       "    </tr>\n",
       "    <tr>\n",
       "      <th>2</th>\n",
       "      <td>4141</td>\n",
       "      <td>1965</td>\n",
       "      <td>3</td>\n",
       "      <td>1</td>\n",
       "      <td>71613.0</td>\n",
       "      <td>0</td>\n",
       "      <td>0</td>\n",
       "      <td>2013-08-21</td>\n",
       "      <td>26</td>\n",
       "      <td>426</td>\n",
       "      <td>...</td>\n",
       "      <td>4</td>\n",
       "      <td>0</td>\n",
       "      <td>0</td>\n",
       "      <td>0</td>\n",
       "      <td>0</td>\n",
       "      <td>0</td>\n",
       "      <td>0</td>\n",
       "      <td>3</td>\n",
       "      <td>11</td>\n",
       "      <td>0</td>\n",
       "    </tr>\n",
       "    <tr>\n",
       "      <th>3</th>\n",
       "      <td>6182</td>\n",
       "      <td>1984</td>\n",
       "      <td>3</td>\n",
       "      <td>1</td>\n",
       "      <td>26646.0</td>\n",
       "      <td>1</td>\n",
       "      <td>0</td>\n",
       "      <td>2014-02-10</td>\n",
       "      <td>26</td>\n",
       "      <td>11</td>\n",
       "      <td>...</td>\n",
       "      <td>6</td>\n",
       "      <td>0</td>\n",
       "      <td>0</td>\n",
       "      <td>0</td>\n",
       "      <td>0</td>\n",
       "      <td>0</td>\n",
       "      <td>0</td>\n",
       "      <td>3</td>\n",
       "      <td>11</td>\n",
       "      <td>0</td>\n",
       "    </tr>\n",
       "    <tr>\n",
       "      <th>4</th>\n",
       "      <td>5324</td>\n",
       "      <td>1981</td>\n",
       "      <td>5</td>\n",
       "      <td>1</td>\n",
       "      <td>58293.0</td>\n",
       "      <td>1</td>\n",
       "      <td>0</td>\n",
       "      <td>2014-01-19</td>\n",
       "      <td>94</td>\n",
       "      <td>173</td>\n",
       "      <td>...</td>\n",
       "      <td>5</td>\n",
       "      <td>0</td>\n",
       "      <td>0</td>\n",
       "      <td>0</td>\n",
       "      <td>0</td>\n",
       "      <td>0</td>\n",
       "      <td>0</td>\n",
       "      <td>3</td>\n",
       "      <td>11</td>\n",
       "      <td>0</td>\n",
       "    </tr>\n",
       "    <tr>\n",
       "      <th>...</th>\n",
       "      <td>...</td>\n",
       "      <td>...</td>\n",
       "      <td>...</td>\n",
       "      <td>...</td>\n",
       "      <td>...</td>\n",
       "      <td>...</td>\n",
       "      <td>...</td>\n",
       "      <td>...</td>\n",
       "      <td>...</td>\n",
       "      <td>...</td>\n",
       "      <td>...</td>\n",
       "      <td>...</td>\n",
       "      <td>...</td>\n",
       "      <td>...</td>\n",
       "      <td>...</td>\n",
       "      <td>...</td>\n",
       "      <td>...</td>\n",
       "      <td>...</td>\n",
       "      <td>...</td>\n",
       "      <td>...</td>\n",
       "      <td>...</td>\n",
       "    </tr>\n",
       "    <tr>\n",
       "      <th>2235</th>\n",
       "      <td>10870</td>\n",
       "      <td>1967</td>\n",
       "      <td>3</td>\n",
       "      <td>1</td>\n",
       "      <td>61223.0</td>\n",
       "      <td>0</td>\n",
       "      <td>1</td>\n",
       "      <td>2013-06-13</td>\n",
       "      <td>46</td>\n",
       "      <td>709</td>\n",
       "      <td>...</td>\n",
       "      <td>5</td>\n",
       "      <td>0</td>\n",
       "      <td>0</td>\n",
       "      <td>0</td>\n",
       "      <td>0</td>\n",
       "      <td>0</td>\n",
       "      <td>0</td>\n",
       "      <td>3</td>\n",
       "      <td>11</td>\n",
       "      <td>0</td>\n",
       "    </tr>\n",
       "    <tr>\n",
       "      <th>2236</th>\n",
       "      <td>4001</td>\n",
       "      <td>1946</td>\n",
       "      <td>5</td>\n",
       "      <td>1</td>\n",
       "      <td>64014.0</td>\n",
       "      <td>2</td>\n",
       "      <td>1</td>\n",
       "      <td>2014-06-10</td>\n",
       "      <td>56</td>\n",
       "      <td>406</td>\n",
       "      <td>...</td>\n",
       "      <td>7</td>\n",
       "      <td>0</td>\n",
       "      <td>0</td>\n",
       "      <td>0</td>\n",
       "      <td>1</td>\n",
       "      <td>0</td>\n",
       "      <td>0</td>\n",
       "      <td>3</td>\n",
       "      <td>11</td>\n",
       "      <td>0</td>\n",
       "    </tr>\n",
       "    <tr>\n",
       "      <th>2237</th>\n",
       "      <td>7270</td>\n",
       "      <td>1981</td>\n",
       "      <td>3</td>\n",
       "      <td>3</td>\n",
       "      <td>56981.0</td>\n",
       "      <td>0</td>\n",
       "      <td>0</td>\n",
       "      <td>2014-01-25</td>\n",
       "      <td>91</td>\n",
       "      <td>908</td>\n",
       "      <td>...</td>\n",
       "      <td>6</td>\n",
       "      <td>0</td>\n",
       "      <td>1</td>\n",
       "      <td>0</td>\n",
       "      <td>0</td>\n",
       "      <td>0</td>\n",
       "      <td>0</td>\n",
       "      <td>3</td>\n",
       "      <td>11</td>\n",
       "      <td>0</td>\n",
       "    </tr>\n",
       "    <tr>\n",
       "      <th>2238</th>\n",
       "      <td>8235</td>\n",
       "      <td>1956</td>\n",
       "      <td>4</td>\n",
       "      <td>1</td>\n",
       "      <td>69245.0</td>\n",
       "      <td>0</td>\n",
       "      <td>1</td>\n",
       "      <td>2014-01-24</td>\n",
       "      <td>8</td>\n",
       "      <td>428</td>\n",
       "      <td>...</td>\n",
       "      <td>3</td>\n",
       "      <td>0</td>\n",
       "      <td>0</td>\n",
       "      <td>0</td>\n",
       "      <td>0</td>\n",
       "      <td>0</td>\n",
       "      <td>0</td>\n",
       "      <td>3</td>\n",
       "      <td>11</td>\n",
       "      <td>0</td>\n",
       "    </tr>\n",
       "    <tr>\n",
       "      <th>2239</th>\n",
       "      <td>9405</td>\n",
       "      <td>1954</td>\n",
       "      <td>5</td>\n",
       "      <td>1</td>\n",
       "      <td>52869.0</td>\n",
       "      <td>1</td>\n",
       "      <td>1</td>\n",
       "      <td>2012-10-15</td>\n",
       "      <td>40</td>\n",
       "      <td>84</td>\n",
       "      <td>...</td>\n",
       "      <td>7</td>\n",
       "      <td>0</td>\n",
       "      <td>0</td>\n",
       "      <td>0</td>\n",
       "      <td>0</td>\n",
       "      <td>0</td>\n",
       "      <td>0</td>\n",
       "      <td>3</td>\n",
       "      <td>11</td>\n",
       "      <td>1</td>\n",
       "    </tr>\n",
       "  </tbody>\n",
       "</table>\n",
       "<p>2216 rows × 29 columns</p>\n",
       "</div>"
      ],
      "text/plain": [
       "         ID  Year_Birth  Education  Marital_Status   Income  Kidhome  \\\n",
       "0      5524        1957          3               0  58138.0        0   \n",
       "1      2174        1954          3               0  46344.0        1   \n",
       "2      4141        1965          3               1  71613.0        0   \n",
       "3      6182        1984          3               1  26646.0        1   \n",
       "4      5324        1981          5               1  58293.0        1   \n",
       "...     ...         ...        ...             ...      ...      ...   \n",
       "2235  10870        1967          3               1  61223.0        0   \n",
       "2236   4001        1946          5               1  64014.0        2   \n",
       "2237   7270        1981          3               3  56981.0        0   \n",
       "2238   8235        1956          4               1  69245.0        0   \n",
       "2239   9405        1954          5               1  52869.0        1   \n",
       "\n",
       "      Teenhome Dt_Customer  Recency  MntWines  ...  NumWebVisitsMonth  \\\n",
       "0            0  2012-09-04       58       635  ...                  7   \n",
       "1            1  2014-03-08       38        11  ...                  5   \n",
       "2            0  2013-08-21       26       426  ...                  4   \n",
       "3            0  2014-02-10       26        11  ...                  6   \n",
       "4            0  2014-01-19       94       173  ...                  5   \n",
       "...        ...         ...      ...       ...  ...                ...   \n",
       "2235         1  2013-06-13       46       709  ...                  5   \n",
       "2236         1  2014-06-10       56       406  ...                  7   \n",
       "2237         0  2014-01-25       91       908  ...                  6   \n",
       "2238         1  2014-01-24        8       428  ...                  3   \n",
       "2239         1  2012-10-15       40        84  ...                  7   \n",
       "\n",
       "      AcceptedCmp3  AcceptedCmp4  AcceptedCmp5  AcceptedCmp1  AcceptedCmp2  \\\n",
       "0                0             0             0             0             0   \n",
       "1                0             0             0             0             0   \n",
       "2                0             0             0             0             0   \n",
       "3                0             0             0             0             0   \n",
       "4                0             0             0             0             0   \n",
       "...            ...           ...           ...           ...           ...   \n",
       "2235             0             0             0             0             0   \n",
       "2236             0             0             0             1             0   \n",
       "2237             0             1             0             0             0   \n",
       "2238             0             0             0             0             0   \n",
       "2239             0             0             0             0             0   \n",
       "\n",
       "      Complain  Z_CostContact  Z_Revenue  Response  \n",
       "0            0              3         11         1  \n",
       "1            0              3         11         0  \n",
       "2            0              3         11         0  \n",
       "3            0              3         11         0  \n",
       "4            0              3         11         0  \n",
       "...        ...            ...        ...       ...  \n",
       "2235         0              3         11         0  \n",
       "2236         0              3         11         0  \n",
       "2237         0              3         11         0  \n",
       "2238         0              3         11         0  \n",
       "2239         0              3         11         1  \n",
       "\n",
       "[2216 rows x 29 columns]"
      ]
     },
     "execution_count": 6,
     "metadata": {},
     "output_type": "execute_result"
    }
   ],
   "source": [
    "df"
   ]
  },
  {
   "cell_type": "code",
   "execution_count": 65,
   "id": "a6fca4c8",
   "metadata": {},
   "outputs": [],
   "source": [
    "X = df.drop(['Response', 'Dt_Customer', 'ID'], axis=1)\n",
    "y = df['Response']"
   ]
  },
  {
   "cell_type": "code",
   "execution_count": 30,
   "id": "764d07af",
   "metadata": {},
   "outputs": [],
   "source": [
    "X_train, X_test, y_train, y_test = train_test_split(X, y, test_size=0.25)"
   ]
  },
  {
   "cell_type": "code",
   "execution_count": 31,
   "id": "750132e7",
   "metadata": {},
   "outputs": [],
   "source": [
    "from sklearn.svm import SVC"
   ]
  },
  {
   "cell_type": "code",
   "execution_count": 32,
   "id": "2fcf588f",
   "metadata": {},
   "outputs": [],
   "source": [
    "model = SVC()"
   ]
  },
  {
   "cell_type": "code",
   "execution_count": 33,
   "id": "4afc487f",
   "metadata": {},
   "outputs": [
    {
     "data": {
      "text/plain": [
       "SVC()"
      ]
     },
     "execution_count": 33,
     "metadata": {},
     "output_type": "execute_result"
    }
   ],
   "source": [
    "model.fit(X_train, y_train)"
   ]
  },
  {
   "cell_type": "code",
   "execution_count": 34,
   "id": "37dc661f",
   "metadata": {},
   "outputs": [],
   "source": [
    "PredictionSVM = model.predict(X_test)"
   ]
  },
  {
   "cell_type": "code",
   "execution_count": 35,
   "id": "58ee77a1",
   "metadata": {},
   "outputs": [
    {
     "name": "stdout",
     "output_type": "stream",
     "text": [
      "[[478   0]\n",
      " [ 76   0]]\n"
     ]
    }
   ],
   "source": [
    "print(confusion_matrix(y_test, PredictionSVM))"
   ]
  },
  {
   "cell_type": "code",
   "execution_count": 27,
   "id": "50c9e107",
   "metadata": {},
   "outputs": [],
   "source": [
    "import warnings\n",
    "warnings.filterwarnings('always')  # \"error\", \"ignore\", \"always\", \"default\", \"module\" or \"once\"\n"
   ]
  },
  {
   "cell_type": "code",
   "execution_count": 71,
   "id": "a1454318",
   "metadata": {},
   "outputs": [
    {
     "data": {
      "text/plain": [
       "Index(['ID', 'Year_Birth', 'Education', 'Marital_Status', 'Income', 'Kidhome',\n",
       "       'Teenhome', 'Dt_Customer', 'Recency', 'MntWines', 'MntFruits',\n",
       "       'MntMeatProducts', 'MntFishProducts', 'MntSweetProducts',\n",
       "       'MntGoldProds', 'NumDealsPurchases', 'NumWebPurchases',\n",
       "       'NumCatalogPurchases', 'NumStorePurchases', 'NumWebVisitsMonth',\n",
       "       'AcceptedCmp3', 'AcceptedCmp4', 'AcceptedCmp5', 'AcceptedCmp1',\n",
       "       'AcceptedCmp2', 'Complain', 'Z_CostContact', 'Z_Revenue', 'Response'],\n",
       "      dtype='object')"
      ]
     },
     "execution_count": 71,
     "metadata": {},
     "output_type": "execute_result"
    }
   ],
   "source": [
    "df.columns"
   ]
  },
  {
   "cell_type": "code",
   "execution_count": 39,
   "id": "3848235a",
   "metadata": {},
   "outputs": [
    {
     "data": {
      "text/plain": [
       "0.0"
      ]
     },
     "execution_count": 39,
     "metadata": {},
     "output_type": "execute_result"
    }
   ],
   "source": [
    "from sklearn.metrics import f1_score\n",
    "f1_score(y_test, PredictionSVM, labels=np.unique(PredictionSVM))"
   ]
  },
  {
   "cell_type": "code",
   "execution_count": 37,
   "id": "03d6a007",
   "metadata": {},
   "outputs": [
    {
     "data": {
      "text/plain": [
       "array([0, 0, 0, 0, 0, 0, 0, 0, 0, 0, 0, 0, 0, 0, 0, 0, 0, 0, 0, 0, 0, 0,\n",
       "       0, 0, 0, 0, 0, 0, 0, 0, 0, 0, 0, 0, 0, 0, 0, 0, 0, 0, 0, 0, 0, 0,\n",
       "       0, 0, 0, 0, 0, 0, 0, 0, 0, 0, 0, 0, 0, 0, 0, 0, 0, 0, 0, 0, 0, 0,\n",
       "       0, 0, 0, 0, 0, 0, 0, 0, 0, 0, 0, 0, 0, 0, 0, 0, 0, 0, 0, 0, 0, 0,\n",
       "       0, 0, 0, 0, 0, 0, 0, 0, 0, 0, 0, 0, 0, 0, 0, 0, 0, 0, 0, 0, 0, 0,\n",
       "       0, 0, 0, 0, 0, 0, 0, 0, 0, 0, 0, 0, 0, 0, 0, 0, 0, 0, 0, 0, 0, 0,\n",
       "       0, 0, 0, 0, 0, 0, 0, 0, 0, 0, 0, 0, 0, 0, 0, 0, 0, 0, 0, 0, 0, 0,\n",
       "       0, 0, 0, 0, 0, 0, 0, 0, 0, 0, 0, 0, 0, 0, 0, 0, 0, 0, 0, 0, 0, 0,\n",
       "       0, 0, 0, 0, 0, 0, 0, 0, 0, 0, 0, 0, 0, 0, 0, 0, 0, 0, 0, 0, 0, 0,\n",
       "       0, 0, 0, 0, 0, 0, 0, 0, 0, 0, 0, 0, 0, 0, 0, 0, 0, 0, 0, 0, 0, 0,\n",
       "       0, 0, 0, 0, 0, 0, 0, 0, 0, 0, 0, 0, 0, 0, 0, 0, 0, 0, 0, 0, 0, 0,\n",
       "       0, 0, 0, 0, 0, 0, 0, 0, 0, 0, 0, 0, 0, 0, 0, 0, 0, 0, 0, 0, 0, 0,\n",
       "       0, 0, 0, 0, 0, 0, 0, 0, 0, 0, 0, 0, 0, 0, 0, 0, 0, 0, 0, 0, 0, 0,\n",
       "       0, 0, 0, 0, 0, 0, 0, 0, 0, 0, 0, 0, 0, 0, 0, 0, 0, 0, 0, 0, 0, 0,\n",
       "       0, 0, 0, 0, 0, 0, 0, 0, 0, 0, 0, 0, 0, 0, 0, 0, 0, 0, 0, 0, 0, 0,\n",
       "       0, 0, 0, 0, 0, 0, 0, 0, 0, 0, 0, 0, 0, 0, 0, 0, 0, 0, 0, 0, 0, 0,\n",
       "       0, 0, 0, 0, 0, 0, 0, 0, 0, 0, 0, 0, 0, 0, 0, 0, 0, 0, 0, 0, 0, 0,\n",
       "       0, 0, 0, 0, 0, 0, 0, 0, 0, 0, 0, 0, 0, 0, 0, 0, 0, 0, 0, 0, 0, 0,\n",
       "       0, 0, 0, 0, 0, 0, 0, 0, 0, 0, 0, 0, 0, 0, 0, 0, 0, 0, 0, 0, 0, 0,\n",
       "       0, 0, 0, 0, 0, 0, 0, 0, 0, 0, 0, 0, 0, 0, 0, 0, 0, 0, 0, 0, 0, 0,\n",
       "       0, 0, 0, 0, 0, 0, 0, 0, 0, 0, 0, 0, 0, 0, 0, 0, 0, 0, 0, 0, 0, 0,\n",
       "       0, 0, 0, 0, 0, 0, 0, 0, 0, 0, 0, 0, 0, 0, 0, 0, 0, 0, 0, 0, 0, 0,\n",
       "       0, 0, 0, 0, 0, 0, 0, 0, 0, 0, 0, 0, 0, 0, 0, 0, 0, 0, 0, 0, 0, 0,\n",
       "       0, 0, 0, 0, 0, 0, 0, 0, 0, 0, 0, 0, 0, 0, 0, 0, 0, 0, 0, 0, 0, 0,\n",
       "       0, 0, 0, 0, 0, 0, 0, 0, 0, 0, 0, 0, 0, 0, 0, 0, 0, 0, 0, 0, 0, 0,\n",
       "       0, 0, 0, 0], dtype=int64)"
      ]
     },
     "execution_count": 37,
     "metadata": {},
     "output_type": "execute_result"
    }
   ],
   "source": [
    "PredictionSVM"
   ]
  },
  {
   "cell_type": "code",
   "execution_count": null,
   "id": "18d2d0f8",
   "metadata": {},
   "outputs": [],
   "source": []
  },
  {
   "cell_type": "code",
   "execution_count": 38,
   "id": "c42bd824",
   "metadata": {},
   "outputs": [
    {
     "name": "stdout",
     "output_type": "stream",
     "text": [
      "              precision    recall  f1-score   support\n",
      "\n",
      "           0       0.86      1.00      0.93       478\n",
      "           1       0.00      0.00      0.00        76\n",
      "\n",
      "    accuracy                           0.86       554\n",
      "   macro avg       0.43      0.50      0.46       554\n",
      "weighted avg       0.74      0.86      0.80       554\n",
      "\n"
     ]
    },
    {
     "name": "stderr",
     "output_type": "stream",
     "text": [
      "C:\\Users\\yashy\\anaconda3\\lib\\site-packages\\sklearn\\metrics\\_classification.py:1318: UndefinedMetricWarning:\n",
      "\n",
      "Precision and F-score are ill-defined and being set to 0.0 in labels with no predicted samples. Use `zero_division` parameter to control this behavior.\n",
      "\n",
      "C:\\Users\\yashy\\anaconda3\\lib\\site-packages\\sklearn\\metrics\\_classification.py:1318: UndefinedMetricWarning:\n",
      "\n",
      "Precision and F-score are ill-defined and being set to 0.0 in labels with no predicted samples. Use `zero_division` parameter to control this behavior.\n",
      "\n",
      "C:\\Users\\yashy\\anaconda3\\lib\\site-packages\\sklearn\\metrics\\_classification.py:1318: UndefinedMetricWarning:\n",
      "\n",
      "Precision and F-score are ill-defined and being set to 0.0 in labels with no predicted samples. Use `zero_division` parameter to control this behavior.\n",
      "\n"
     ]
    }
   ],
   "source": [
    "print(classification_report(y_test, PredictionSVM))"
   ]
  },
  {
   "cell_type": "code",
   "execution_count": 45,
   "id": "0d3dc57d",
   "metadata": {},
   "outputs": [],
   "source": [
    "from imblearn.over_sampling import RandomOverSampler\n",
    "from collections import Counter"
   ]
  },
  {
   "cell_type": "code",
   "execution_count": 46,
   "id": "816a5b1a",
   "metadata": {},
   "outputs": [],
   "source": [
    "X_train_roc, X_test_roc, y_train_roc, y_test_roc = train_test_split(X, y, test_size=0.25)"
   ]
  },
  {
   "cell_type": "code",
   "execution_count": 47,
   "id": "73a647a1",
   "metadata": {},
   "outputs": [
    {
     "name": "stdout",
     "output_type": "stream",
     "text": [
      "Number of records After Over Sampling\n",
      "[(0, 1405), (1, 1405)]\n"
     ]
    }
   ],
   "source": [
    "# Randomly over sample the minority class\n",
    "ros = RandomOverSampler(random_state=42)\n",
    "X_train_ros, y_train_ros = ros.fit_resample(X_train, y_train)\n",
    "# Check the number of records after over sampling\n",
    "print(\"Number of records After Over Sampling\")\n",
    "print(sorted(Counter(y_train_ros).items()))"
   ]
  },
  {
   "cell_type": "code",
   "execution_count": 48,
   "id": "43ba5cb4",
   "metadata": {},
   "outputs": [
    {
     "name": "stdout",
     "output_type": "stream",
     "text": [
      "[[394  84]\n",
      " [ 45  31]]\n"
     ]
    }
   ],
   "source": [
    "from sklearn.svm import SVC\n",
    "model = SVC()\n",
    "model.fit(X_train_ros, y_train_ros)\n",
    "PredictionSVM = model.predict(X_test)\n",
    "print(confusion_matrix(y_test, PredictionSVM))"
   ]
  },
  {
   "cell_type": "code",
   "execution_count": 49,
   "id": "4a0bfe8c",
   "metadata": {},
   "outputs": [
    {
     "name": "stdout",
     "output_type": "stream",
     "text": [
      "              precision    recall  f1-score   support\n",
      "\n",
      "           0       0.90      0.82      0.86       478\n",
      "           1       0.27      0.41      0.32        76\n",
      "\n",
      "    accuracy                           0.77       554\n",
      "   macro avg       0.58      0.62      0.59       554\n",
      "weighted avg       0.81      0.77      0.79       554\n",
      "\n"
     ]
    }
   ],
   "source": [
    "print(classification_report(y_test, PredictionSVM))"
   ]
  },
  {
   "cell_type": "code",
   "execution_count": 52,
   "id": "0626f577",
   "metadata": {},
   "outputs": [],
   "source": [
    "from sklearn.model_selection import GridSearchCV"
   ]
  },
  {
   "cell_type": "code",
   "execution_count": 54,
   "id": "0285a782",
   "metadata": {},
   "outputs": [],
   "source": [
    "param_grid = {'C':[0.1, 1, 10, 100, 1000], 'gamma':[1,0.1, 0.01, 0.001, 0.0001]}"
   ]
  },
  {
   "cell_type": "code",
   "execution_count": 55,
   "id": "1cf5f27e",
   "metadata": {},
   "outputs": [],
   "source": [
    "grid = GridSearchCV(SVC(), param_grid, verbose=3)"
   ]
  },
  {
   "cell_type": "code",
   "execution_count": 56,
   "id": "020e3158",
   "metadata": {},
   "outputs": [
    {
     "name": "stdout",
     "output_type": "stream",
     "text": [
      "Fitting 5 folds for each of 25 candidates, totalling 125 fits\n",
      "[CV 1/5] END ....................C=0.1, gamma=1;, score=0.844 total time=   0.0s\n",
      "[CV 2/5] END ....................C=0.1, gamma=1;, score=0.844 total time=   0.0s\n",
      "[CV 3/5] END ....................C=0.1, gamma=1;, score=0.846 total time=   0.0s\n",
      "[CV 4/5] END ....................C=0.1, gamma=1;, score=0.846 total time=   0.0s\n",
      "[CV 5/5] END ....................C=0.1, gamma=1;, score=0.846 total time=   0.0s\n",
      "[CV 1/5] END ..................C=0.1, gamma=0.1;, score=0.844 total time=   0.0s\n",
      "[CV 2/5] END ..................C=0.1, gamma=0.1;, score=0.844 total time=   0.0s\n",
      "[CV 3/5] END ..................C=0.1, gamma=0.1;, score=0.846 total time=   0.0s\n",
      "[CV 4/5] END ..................C=0.1, gamma=0.1;, score=0.846 total time=   0.0s\n",
      "[CV 5/5] END ..................C=0.1, gamma=0.1;, score=0.846 total time=   0.0s\n",
      "[CV 1/5] END .................C=0.1, gamma=0.01;, score=0.844 total time=   0.0s\n",
      "[CV 2/5] END .................C=0.1, gamma=0.01;, score=0.844 total time=   0.0s\n",
      "[CV 3/5] END .................C=0.1, gamma=0.01;, score=0.846 total time=   0.0s\n",
      "[CV 4/5] END .................C=0.1, gamma=0.01;, score=0.846 total time=   0.0s\n",
      "[CV 5/5] END .................C=0.1, gamma=0.01;, score=0.846 total time=   0.0s\n",
      "[CV 1/5] END ................C=0.1, gamma=0.001;, score=0.844 total time=   0.0s\n",
      "[CV 2/5] END ................C=0.1, gamma=0.001;, score=0.844 total time=   0.0s\n",
      "[CV 3/5] END ................C=0.1, gamma=0.001;, score=0.846 total time=   0.0s\n",
      "[CV 4/5] END ................C=0.1, gamma=0.001;, score=0.846 total time=   0.0s\n",
      "[CV 5/5] END ................C=0.1, gamma=0.001;, score=0.846 total time=   0.0s\n",
      "[CV 1/5] END ...............C=0.1, gamma=0.0001;, score=0.844 total time=   0.0s\n",
      "[CV 2/5] END ...............C=0.1, gamma=0.0001;, score=0.844 total time=   0.0s\n",
      "[CV 3/5] END ...............C=0.1, gamma=0.0001;, score=0.846 total time=   0.0s\n",
      "[CV 4/5] END ...............C=0.1, gamma=0.0001;, score=0.846 total time=   0.0s\n",
      "[CV 5/5] END ...............C=0.1, gamma=0.0001;, score=0.846 total time=   0.0s\n",
      "[CV 1/5] END ......................C=1, gamma=1;, score=0.865 total time=   0.0s\n",
      "[CV 2/5] END ......................C=1, gamma=1;, score=0.856 total time=   0.0s\n",
      "[CV 3/5] END ......................C=1, gamma=1;, score=0.852 total time=   0.0s\n",
      "[CV 4/5] END ......................C=1, gamma=1;, score=0.849 total time=   0.0s\n",
      "[CV 5/5] END ......................C=1, gamma=1;, score=0.858 total time=   0.0s\n",
      "[CV 1/5] END ....................C=1, gamma=0.1;, score=0.865 total time=   0.0s\n",
      "[CV 2/5] END ....................C=1, gamma=0.1;, score=0.856 total time=   0.0s\n",
      "[CV 3/5] END ....................C=1, gamma=0.1;, score=0.852 total time=   0.0s\n",
      "[CV 4/5] END ....................C=1, gamma=0.1;, score=0.849 total time=   0.0s\n",
      "[CV 5/5] END ....................C=1, gamma=0.1;, score=0.858 total time=   0.0s\n",
      "[CV 1/5] END ...................C=1, gamma=0.01;, score=0.865 total time=   0.0s\n",
      "[CV 2/5] END ...................C=1, gamma=0.01;, score=0.856 total time=   0.0s\n",
      "[CV 3/5] END ...................C=1, gamma=0.01;, score=0.852 total time=   0.0s\n",
      "[CV 4/5] END ...................C=1, gamma=0.01;, score=0.849 total time=   0.0s\n",
      "[CV 5/5] END ...................C=1, gamma=0.01;, score=0.855 total time=   0.0s\n",
      "[CV 1/5] END ..................C=1, gamma=0.001;, score=0.865 total time=   0.0s\n",
      "[CV 2/5] END ..................C=1, gamma=0.001;, score=0.859 total time=   0.0s\n",
      "[CV 3/5] END ..................C=1, gamma=0.001;, score=0.852 total time=   0.0s\n",
      "[CV 4/5] END ..................C=1, gamma=0.001;, score=0.849 total time=   0.0s\n",
      "[CV 5/5] END ..................C=1, gamma=0.001;, score=0.855 total time=   0.0s\n",
      "[CV 1/5] END .................C=1, gamma=0.0001;, score=0.862 total time=   0.0s\n",
      "[CV 2/5] END .................C=1, gamma=0.0001;, score=0.856 total time=   0.0s\n",
      "[CV 3/5] END .................C=1, gamma=0.0001;, score=0.849 total time=   0.0s\n",
      "[CV 4/5] END .................C=1, gamma=0.0001;, score=0.849 total time=   0.0s\n",
      "[CV 5/5] END .................C=1, gamma=0.0001;, score=0.858 total time=   0.0s\n",
      "[CV 1/5] END .....................C=10, gamma=1;, score=0.865 total time=   0.0s\n",
      "[CV 2/5] END .....................C=10, gamma=1;, score=0.856 total time=   0.0s\n",
      "[CV 3/5] END .....................C=10, gamma=1;, score=0.852 total time=   0.0s\n",
      "[CV 4/5] END .....................C=10, gamma=1;, score=0.849 total time=   0.0s\n",
      "[CV 5/5] END .....................C=10, gamma=1;, score=0.858 total time=   0.0s\n",
      "[CV 1/5] END ...................C=10, gamma=0.1;, score=0.865 total time=   0.0s\n",
      "[CV 2/5] END ...................C=10, gamma=0.1;, score=0.856 total time=   0.0s\n",
      "[CV 3/5] END ...................C=10, gamma=0.1;, score=0.852 total time=   0.0s\n",
      "[CV 4/5] END ...................C=10, gamma=0.1;, score=0.849 total time=   0.0s\n",
      "[CV 5/5] END ...................C=10, gamma=0.1;, score=0.858 total time=   0.0s\n",
      "[CV 1/5] END ..................C=10, gamma=0.01;, score=0.865 total time=   0.0s\n",
      "[CV 2/5] END ..................C=10, gamma=0.01;, score=0.856 total time=   0.0s\n",
      "[CV 3/5] END ..................C=10, gamma=0.01;, score=0.852 total time=   0.0s\n",
      "[CV 4/5] END ..................C=10, gamma=0.01;, score=0.849 total time=   0.0s\n",
      "[CV 5/5] END ..................C=10, gamma=0.01;, score=0.855 total time=   0.0s\n",
      "[CV 1/5] END .................C=10, gamma=0.001;, score=0.862 total time=   0.0s\n",
      "[CV 2/5] END .................C=10, gamma=0.001;, score=0.862 total time=   0.0s\n",
      "[CV 3/5] END .................C=10, gamma=0.001;, score=0.852 total time=   0.0s\n",
      "[CV 4/5] END .................C=10, gamma=0.001;, score=0.849 total time=   0.0s\n",
      "[CV 5/5] END .................C=10, gamma=0.001;, score=0.861 total time=   0.0s\n",
      "[CV 1/5] END ................C=10, gamma=0.0001;, score=0.847 total time=   0.0s\n",
      "[CV 2/5] END ................C=10, gamma=0.0001;, score=0.850 total time=   0.0s\n",
      "[CV 3/5] END ................C=10, gamma=0.0001;, score=0.837 total time=   0.0s\n",
      "[CV 4/5] END ................C=10, gamma=0.0001;, score=0.849 total time=   0.0s\n",
      "[CV 5/5] END ................C=10, gamma=0.0001;, score=0.840 total time=   0.0s\n",
      "[CV 1/5] END ....................C=100, gamma=1;, score=0.865 total time=   0.0s\n",
      "[CV 2/5] END ....................C=100, gamma=1;, score=0.856 total time=   0.0s\n",
      "[CV 3/5] END ....................C=100, gamma=1;, score=0.852 total time=   0.0s\n",
      "[CV 4/5] END ....................C=100, gamma=1;, score=0.849 total time=   0.0s\n",
      "[CV 5/5] END ....................C=100, gamma=1;, score=0.858 total time=   0.0s\n",
      "[CV 1/5] END ..................C=100, gamma=0.1;, score=0.865 total time=   0.0s\n",
      "[CV 2/5] END ..................C=100, gamma=0.1;, score=0.856 total time=   0.0s\n",
      "[CV 3/5] END ..................C=100, gamma=0.1;, score=0.852 total time=   0.0s\n",
      "[CV 4/5] END ..................C=100, gamma=0.1;, score=0.849 total time=   0.0s\n",
      "[CV 5/5] END ..................C=100, gamma=0.1;, score=0.858 total time=   0.0s\n",
      "[CV 1/5] END .................C=100, gamma=0.01;, score=0.865 total time=   0.0s\n",
      "[CV 2/5] END .................C=100, gamma=0.01;, score=0.856 total time=   0.0s\n",
      "[CV 3/5] END .................C=100, gamma=0.01;, score=0.852 total time=   0.0s\n",
      "[CV 4/5] END .................C=100, gamma=0.01;, score=0.849 total time=   0.0s\n",
      "[CV 5/5] END .................C=100, gamma=0.01;, score=0.855 total time=   0.0s\n",
      "[CV 1/5] END ................C=100, gamma=0.001;, score=0.862 total time=   0.0s\n",
      "[CV 2/5] END ................C=100, gamma=0.001;, score=0.862 total time=   0.0s\n",
      "[CV 3/5] END ................C=100, gamma=0.001;, score=0.852 total time=   0.0s\n",
      "[CV 4/5] END ................C=100, gamma=0.001;, score=0.849 total time=   0.0s\n",
      "[CV 5/5] END ................C=100, gamma=0.001;, score=0.861 total time=   0.0s\n",
      "[CV 1/5] END ...............C=100, gamma=0.0001;, score=0.847 total time=   0.0s\n",
      "[CV 2/5] END ...............C=100, gamma=0.0001;, score=0.844 total time=   0.0s\n",
      "[CV 3/5] END ...............C=100, gamma=0.0001;, score=0.837 total time=   0.0s\n",
      "[CV 4/5] END ...............C=100, gamma=0.0001;, score=0.849 total time=   0.0s\n",
      "[CV 5/5] END ...............C=100, gamma=0.0001;, score=0.840 total time=   0.0s\n",
      "[CV 1/5] END ...................C=1000, gamma=1;, score=0.865 total time=   0.0s\n",
      "[CV 2/5] END ...................C=1000, gamma=1;, score=0.856 total time=   0.0s\n"
     ]
    },
    {
     "name": "stdout",
     "output_type": "stream",
     "text": [
      "[CV 3/5] END ...................C=1000, gamma=1;, score=0.852 total time=   0.0s\n",
      "[CV 4/5] END ...................C=1000, gamma=1;, score=0.849 total time=   0.0s\n",
      "[CV 5/5] END ...................C=1000, gamma=1;, score=0.858 total time=   0.0s\n",
      "[CV 1/5] END .................C=1000, gamma=0.1;, score=0.865 total time=   0.0s\n",
      "[CV 2/5] END .................C=1000, gamma=0.1;, score=0.856 total time=   0.0s\n",
      "[CV 3/5] END .................C=1000, gamma=0.1;, score=0.852 total time=   0.0s\n",
      "[CV 4/5] END .................C=1000, gamma=0.1;, score=0.849 total time=   0.0s\n",
      "[CV 5/5] END .................C=1000, gamma=0.1;, score=0.858 total time=   0.0s\n",
      "[CV 1/5] END ................C=1000, gamma=0.01;, score=0.865 total time=   0.0s\n",
      "[CV 2/5] END ................C=1000, gamma=0.01;, score=0.856 total time=   0.0s\n",
      "[CV 3/5] END ................C=1000, gamma=0.01;, score=0.852 total time=   0.0s\n",
      "[CV 4/5] END ................C=1000, gamma=0.01;, score=0.849 total time=   0.0s\n",
      "[CV 5/5] END ................C=1000, gamma=0.01;, score=0.855 total time=   0.0s\n",
      "[CV 1/5] END ...............C=1000, gamma=0.001;, score=0.862 total time=   0.0s\n",
      "[CV 2/5] END ...............C=1000, gamma=0.001;, score=0.862 total time=   0.0s\n",
      "[CV 3/5] END ...............C=1000, gamma=0.001;, score=0.852 total time=   0.0s\n",
      "[CV 4/5] END ...............C=1000, gamma=0.001;, score=0.849 total time=   0.0s\n",
      "[CV 5/5] END ...............C=1000, gamma=0.001;, score=0.861 total time=   0.0s\n",
      "[CV 1/5] END ..............C=1000, gamma=0.0001;, score=0.847 total time=   0.0s\n",
      "[CV 2/5] END ..............C=1000, gamma=0.0001;, score=0.844 total time=   0.0s\n",
      "[CV 3/5] END ..............C=1000, gamma=0.0001;, score=0.837 total time=   0.0s\n",
      "[CV 4/5] END ..............C=1000, gamma=0.0001;, score=0.849 total time=   0.0s\n",
      "[CV 5/5] END ..............C=1000, gamma=0.0001;, score=0.840 total time=   0.0s\n"
     ]
    },
    {
     "data": {
      "text/plain": [
       "GridSearchCV(estimator=SVC(),\n",
       "             param_grid={'C': [0.1, 1, 10, 100, 1000],\n",
       "                         'gamma': [1, 0.1, 0.01, 0.001, 0.0001]},\n",
       "             verbose=3)"
      ]
     },
     "execution_count": 56,
     "metadata": {},
     "output_type": "execute_result"
    }
   ],
   "source": [
    "grid.fit(X_train, y_train)"
   ]
  },
  {
   "cell_type": "code",
   "execution_count": 57,
   "id": "2492259d",
   "metadata": {},
   "outputs": [
    {
     "data": {
      "text/plain": [
       "{'C': 10, 'gamma': 0.001}"
      ]
     },
     "execution_count": 57,
     "metadata": {},
     "output_type": "execute_result"
    }
   ],
   "source": [
    "grid.best_params_"
   ]
  },
  {
   "cell_type": "code",
   "execution_count": 58,
   "id": "6ceb1ee9",
   "metadata": {},
   "outputs": [
    {
     "data": {
      "text/plain": [
       "SVC(C=10, gamma=0.001)"
      ]
     },
     "execution_count": 58,
     "metadata": {},
     "output_type": "execute_result"
    }
   ],
   "source": [
    "grid.best_estimator_"
   ]
  },
  {
   "cell_type": "code",
   "execution_count": 59,
   "id": "e9b1337a",
   "metadata": {},
   "outputs": [],
   "source": [
    "grid_predictions = grid.predict(X_test)"
   ]
  },
  {
   "cell_type": "code",
   "execution_count": 62,
   "id": "988a9b71",
   "metadata": {},
   "outputs": [
    {
     "name": "stdout",
     "output_type": "stream",
     "text": [
      "[[477   1]\n",
      " [ 73   3]]\n",
      "\n",
      "\n",
      "              precision    recall  f1-score   support\n",
      "\n",
      "           0       0.87      1.00      0.93       478\n",
      "           1       0.75      0.04      0.07        76\n",
      "\n",
      "    accuracy                           0.87       554\n",
      "   macro avg       0.81      0.52      0.50       554\n",
      "weighted avg       0.85      0.87      0.81       554\n",
      "\n"
     ]
    }
   ],
   "source": [
    "print(confusion_matrix(y_test,grid_predictions))\n",
    "print('\\n')\n",
    "print(classification_report(y_test, grid_predictions))"
   ]
  },
  {
   "cell_type": "code",
   "execution_count": 73,
   "id": "a583f8b7",
   "metadata": {},
   "outputs": [],
   "source": [
    "from sklearn.inspection import permutation_importance"
   ]
  },
  {
   "cell_type": "code",
   "execution_count": 76,
   "id": "498b8bba",
   "metadata": {},
   "outputs": [
    {
     "data": {
      "text/plain": [
       "Text(0.5, 0, 'Permutation Importance')"
      ]
     },
     "execution_count": 76,
     "metadata": {},
     "output_type": "execute_result"
    },
    {
     "data": {
      "image/png": "[encoded data removed]",
      "text/plain": [
       "<Figure size 720x576 with 1 Axes>"
      ]
     },
     "metadata": {},
     "output_type": "display_data"
    }
   ],
   "source": [
    "svc =  SVC(kernel='linear', C=10)\n",
    "svc.fit(X_train, y_train)\n",
    "\n",
    "perm_importance = permutation_importance(svc, X_test, y_test)\n",
    "\n",
    "feature_names = X.columns\n",
    "features = np.array(feature_names)\n",
    "\n",
    "sorted_idx = perm_importance.importances_mean.argsort()\n",
    "plt.barh(features[sorted_idx], perm_importance.importances_mean[sorted_idx])\n",
    "plt.xlabel(\"Permutation Importance\")"
   ]
  },
  {
   "cell_type": "code",
   "execution_count": null,
   "id": "7d5b4a1b",
   "metadata": {},
   "outputs": [],
   "source": []
  }
 ],
 "metadata": {
  "kernelspec": {
   "display_name": "Python 3 (ipykernel)",
   "language": "python",
   "name": "python3"
  },
  "language_info": {
   "codemirror_mode": {
    "name": "ipython",
    "version": 3
   },
   "file_extension": ".py",
   "mimetype": "text/x-python",
   "name": "python",
   "nbconvert_exporter": "python",
   "pygments_lexer": "ipython3",
   "version": "3.9.7"
  }
 },
 "nbformat": 4,
 "nbformat_minor": 5
}
